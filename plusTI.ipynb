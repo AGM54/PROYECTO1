{
 "cells": [
  {
   "cell_type": "markdown",
   "metadata": {
    "cell_id": "7cfa1172c9b24672a890e3e1fb6d7539",
    "deepnote_app_block_visible": true,
    "deepnote_app_coordinates": {
     "h": 5,
     "w": 12,
     "x": 0,
     "y": 0
    },
    "deepnote_cell_type": "text-cell-h1",
    "formattedRanges": [],
    "is_collapsed": false,
    "tags": []
   },
   "source": [
    "# PLUS TI"
   ]
  },
  {
   "cell_type": "markdown",
   "metadata": {
    "cell_id": "48457288a2db46a18e4dd50dc50b059d",
    "deepnote_app_block_visible": true,
    "deepnote_app_coordinates": {
     "h": 5,
     "w": 12,
     "x": 0,
     "y": 0
    },
    "deepnote_cell_type": "text-cell-h2",
    "formattedRanges": [],
    "is_collapsed": false,
    "tags": []
   },
   "source": [
    "## Instalar librerías necesarias"
   ]
  },
  {
   "cell_type": "markdown",
   "metadata": {
    "cell_id": "ce9dfaed60f84b5190b2609280219a35",
    "deepnote_app_block_visible": true,
    "deepnote_app_coordinates": {
     "h": 5,
     "w": 12,
     "x": 0,
     "y": 0
    },
    "deepnote_cell_type": "markdown",
    "tags": []
   },
   "source": [
    "```\n",
    "!pip install --upgrade pip\n",
    "```\n",
    "```\n",
    "!pip install palmerpenguins==0.1.4 numpy==1.23.4 pandas==1.5.1 seaborn==0.12.1 matplotlib==3.6.0 empiricaldist==0.6.7 statsmodels==0.13.5 scikit-learn==1.1.2 pyjanitor==0.23.1 session-info\n",
    "```"
   ]
  },
  {
   "cell_type": "markdown",
   "metadata": {
    "cell_id": "6fb6f07f19bc413796079d7d3a02f164",
    "deepnote_app_block_visible": true,
    "deepnote_app_coordinates": {
     "h": 5,
     "w": 12,
     "x": 0,
     "y": 0
    },
    "deepnote_cell_type": "text-cell-h2",
    "formattedRanges": [],
    "is_collapsed": false,
    "tags": []
   },
   "source": [
    "## Importar librerías"
   ]
  },
  {
   "cell_type": "code",
   "execution_count": 4,
   "metadata": {},
   "outputs": [
    {
     "name": "stdout",
     "output_type": "stream",
     "text": [
      "Requirement already satisfied: empiricaldist in c:\\users\\marce\\appdata\\local\\packages\\pythonsoftwarefoundation.python.3.11_qbz5n2kfra8p0\\localcache\\local-packages\\python311\\site-packages (0.8.0)\n",
      "Requirement already satisfied: pyjanitor in c:\\users\\marce\\appdata\\local\\packages\\pythonsoftwarefoundation.python.3.11_qbz5n2kfra8p0\\localcache\\local-packages\\python311\\site-packages (0.31.0)\n",
      "Requirement already satisfied: palmerpenguins in c:\\users\\marce\\appdata\\local\\packages\\pythonsoftwarefoundation.python.3.11_qbz5n2kfra8p0\\localcache\\local-packages\\python311\\site-packages (0.1.4)\n",
      "Requirement already satisfied: session-info in c:\\users\\marce\\appdata\\local\\packages\\pythonsoftwarefoundation.python.3.11_qbz5n2kfra8p0\\localcache\\local-packages\\python311\\site-packages (1.0.1)\n",
      "Requirement already satisfied: numpy in c:\\users\\marce\\appdata\\local\\packages\\pythonsoftwarefoundation.python.3.11_qbz5n2kfra8p0\\localcache\\local-packages\\python311\\site-packages (2.2.3)\n",
      "Requirement already satisfied: pandas in c:\\users\\marce\\appdata\\local\\packages\\pythonsoftwarefoundation.python.3.11_qbz5n2kfra8p0\\localcache\\local-packages\\python311\\site-packages (2.2.3)\n",
      "Requirement already satisfied: scipy in c:\\users\\marce\\appdata\\local\\packages\\pythonsoftwarefoundation.python.3.11_qbz5n2kfra8p0\\localcache\\local-packages\\python311\\site-packages (1.15.2)\n",
      "Requirement already satisfied: scikit-learn in c:\\users\\marce\\appdata\\local\\packages\\pythonsoftwarefoundation.python.3.11_qbz5n2kfra8p0\\localcache\\local-packages\\python311\\site-packages (1.6.1)\n",
      "Collecting seaborn\n",
      "  Downloading seaborn-0.13.2-py3-none-any.whl.metadata (5.4 kB)\n",
      "Collecting statsmodels\n",
      "  Downloading statsmodels-0.14.4-cp311-cp311-win_amd64.whl.metadata (9.5 kB)\n",
      "Requirement already satisfied: matplotlib in c:\\users\\marce\\appdata\\local\\packages\\pythonsoftwarefoundation.python.3.11_qbz5n2kfra8p0\\localcache\\local-packages\\python311\\site-packages (from empiricaldist) (3.10.1)\n",
      "Requirement already satisfied: natsort in c:\\users\\marce\\appdata\\local\\packages\\pythonsoftwarefoundation.python.3.11_qbz5n2kfra8p0\\localcache\\local-packages\\python311\\site-packages (from pyjanitor) (8.4.0)\n",
      "Requirement already satisfied: pandas_flavor in c:\\users\\marce\\appdata\\local\\packages\\pythonsoftwarefoundation.python.3.11_qbz5n2kfra8p0\\localcache\\local-packages\\python311\\site-packages (from pyjanitor) (0.7.0)\n",
      "Requirement already satisfied: multipledispatch in c:\\users\\marce\\appdata\\local\\packages\\pythonsoftwarefoundation.python.3.11_qbz5n2kfra8p0\\localcache\\local-packages\\python311\\site-packages (from pyjanitor) (1.0.0)\n",
      "Requirement already satisfied: stdlib_list in c:\\users\\marce\\appdata\\local\\packages\\pythonsoftwarefoundation.python.3.11_qbz5n2kfra8p0\\localcache\\local-packages\\python311\\site-packages (from session-info) (0.11.1)\n",
      "Requirement already satisfied: python-dateutil>=2.8.2 in c:\\users\\marce\\appdata\\local\\packages\\pythonsoftwarefoundation.python.3.11_qbz5n2kfra8p0\\localcache\\local-packages\\python311\\site-packages (from pandas) (2.9.0.post0)\n",
      "Requirement already satisfied: pytz>=2020.1 in c:\\users\\marce\\appdata\\local\\packages\\pythonsoftwarefoundation.python.3.11_qbz5n2kfra8p0\\localcache\\local-packages\\python311\\site-packages (from pandas) (2025.1)\n",
      "Requirement already satisfied: tzdata>=2022.7 in c:\\users\\marce\\appdata\\local\\packages\\pythonsoftwarefoundation.python.3.11_qbz5n2kfra8p0\\localcache\\local-packages\\python311\\site-packages (from pandas) (2025.1)\n",
      "Requirement already satisfied: joblib>=1.2.0 in c:\\users\\marce\\appdata\\local\\packages\\pythonsoftwarefoundation.python.3.11_qbz5n2kfra8p0\\localcache\\local-packages\\python311\\site-packages (from scikit-learn) (1.4.2)\n",
      "Requirement already satisfied: threadpoolctl>=3.1.0 in c:\\users\\marce\\appdata\\local\\packages\\pythonsoftwarefoundation.python.3.11_qbz5n2kfra8p0\\localcache\\local-packages\\python311\\site-packages (from scikit-learn) (3.5.0)\n",
      "Collecting patsy>=0.5.6 (from statsmodels)\n",
      "  Downloading patsy-1.0.1-py2.py3-none-any.whl.metadata (3.3 kB)\n",
      "Requirement already satisfied: packaging>=21.3 in c:\\users\\marce\\appdata\\local\\packages\\pythonsoftwarefoundation.python.3.11_qbz5n2kfra8p0\\localcache\\local-packages\\python311\\site-packages (from statsmodels) (24.2)\n",
      "Requirement already satisfied: contourpy>=1.0.1 in c:\\users\\marce\\appdata\\local\\packages\\pythonsoftwarefoundation.python.3.11_qbz5n2kfra8p0\\localcache\\local-packages\\python311\\site-packages (from matplotlib->empiricaldist) (1.3.1)\n",
      "Requirement already satisfied: cycler>=0.10 in c:\\users\\marce\\appdata\\local\\packages\\pythonsoftwarefoundation.python.3.11_qbz5n2kfra8p0\\localcache\\local-packages\\python311\\site-packages (from matplotlib->empiricaldist) (0.12.1)\n",
      "Requirement already satisfied: fonttools>=4.22.0 in c:\\users\\marce\\appdata\\local\\packages\\pythonsoftwarefoundation.python.3.11_qbz5n2kfra8p0\\localcache\\local-packages\\python311\\site-packages (from matplotlib->empiricaldist) (4.56.0)\n",
      "Requirement already satisfied: kiwisolver>=1.3.1 in c:\\users\\marce\\appdata\\local\\packages\\pythonsoftwarefoundation.python.3.11_qbz5n2kfra8p0\\localcache\\local-packages\\python311\\site-packages (from matplotlib->empiricaldist) (1.4.8)\n",
      "Requirement already satisfied: pillow>=8 in c:\\users\\marce\\appdata\\local\\packages\\pythonsoftwarefoundation.python.3.11_qbz5n2kfra8p0\\localcache\\local-packages\\python311\\site-packages (from matplotlib->empiricaldist) (11.1.0)\n",
      "Requirement already satisfied: pyparsing>=2.3.1 in c:\\users\\marce\\appdata\\local\\packages\\pythonsoftwarefoundation.python.3.11_qbz5n2kfra8p0\\localcache\\local-packages\\python311\\site-packages (from matplotlib->empiricaldist) (3.2.1)\n",
      "Requirement already satisfied: six>=1.5 in c:\\users\\marce\\appdata\\local\\packages\\pythonsoftwarefoundation.python.3.11_qbz5n2kfra8p0\\localcache\\local-packages\\python311\\site-packages (from python-dateutil>=2.8.2->pandas) (1.17.0)\n",
      "Requirement already satisfied: xarray in c:\\users\\marce\\appdata\\local\\packages\\pythonsoftwarefoundation.python.3.11_qbz5n2kfra8p0\\localcache\\local-packages\\python311\\site-packages (from pandas_flavor->pyjanitor) (2025.3.1)\n",
      "Downloading seaborn-0.13.2-py3-none-any.whl (294 kB)\n",
      "   ---------------------------------------- 0.0/294.9 kB ? eta -:--:--\n",
      "   - -------------------------------------- 10.2/294.9 kB ? eta -:--:--\n",
      "   ---- ---------------------------------- 30.7/294.9 kB 262.6 kB/s eta 0:00:02\n",
      "   -------- ------------------------------ 61.4/294.9 kB 469.7 kB/s eta 0:00:01\n",
      "   ------------- ------------------------ 102.4/294.9 kB 590.8 kB/s eta 0:00:01\n",
      "   ----------------------- -------------- 184.3/294.9 kB 857.5 kB/s eta 0:00:01\n",
      "   ---------------------------------- ----- 256.0/294.9 kB 1.1 MB/s eta 0:00:01\n",
      "   ---------------------------------------- 294.9/294.9 kB 1.1 MB/s eta 0:00:00\n",
      "Downloading statsmodels-0.14.4-cp311-cp311-win_amd64.whl (9.9 MB)\n",
      "   ---------------------------------------- 0.0/9.9 MB ? eta -:--:--\n",
      "   - -------------------------------------- 0.3/9.9 MB 8.9 MB/s eta 0:00:02\n",
      "   - -------------------------------------- 0.5/9.9 MB 6.0 MB/s eta 0:00:02\n",
      "   --- ------------------------------------ 0.8/9.9 MB 8.6 MB/s eta 0:00:02\n",
      "   ----- ---------------------------------- 1.3/9.9 MB 8.1 MB/s eta 0:00:02\n",
      "   ------- -------------------------------- 1.9/9.9 MB 9.4 MB/s eta 0:00:01\n",
      "   ----------- ---------------------------- 2.8/9.9 MB 11.3 MB/s eta 0:00:01\n",
      "   ---------------- ----------------------- 4.1/9.9 MB 14.6 MB/s eta 0:00:01\n",
      "   --------------------- ------------------ 5.3/9.9 MB 16.0 MB/s eta 0:00:01\n",
      "   -------------------------------- ------- 8.1/9.9 MB 21.6 MB/s eta 0:00:01\n",
      "   ------------------------------------- -- 9.3/9.9 MB 23.0 MB/s eta 0:00:01\n",
      "   ---------------------------------------  9.9/9.9 MB 22.5 MB/s eta 0:00:01\n",
      "   ---------------------------------------- 9.9/9.9 MB 20.3 MB/s eta 0:00:00\n",
      "Downloading patsy-1.0.1-py2.py3-none-any.whl (232 kB)\n",
      "   ---------------------------------------- 0.0/232.9 kB ? eta -:--:--\n",
      "   --------------------------------------- 232.9/232.9 kB 13.9 MB/s eta 0:00:00\n",
      "Installing collected packages: patsy, statsmodels, seaborn\n",
      "Successfully installed patsy-1.0.1 seaborn-0.13.2 statsmodels-0.14.4\n",
      "Note: you may need to restart the kernel to use updated packages.\n"
     ]
    },
    {
     "name": "stderr",
     "output_type": "stream",
     "text": [
      "\n",
      "[notice] A new release of pip is available: 24.0 -> 25.0.1\n",
      "[notice] To update, run: C:\\Users\\marce\\AppData\\Local\\Microsoft\\WindowsApps\\PythonSoftwareFoundation.Python.3.11_qbz5n2kfra8p0\\python.exe -m pip install --upgrade pip\n"
     ]
    }
   ],
   "source": [
    "%pip install empiricaldist pyjanitor palmerpenguins session-info numpy pandas scipy scikit-learn seaborn statsmodels\n"
   ]
  },
  {
   "cell_type": "code",
   "execution_count": 5,
   "metadata": {
    "cell_id": "9ed1ff3c1ae945c3955dbd5c4e45cd4a",
    "deepnote_app_block_visible": true,
    "deepnote_app_coordinates": {
     "h": 5,
     "w": 12,
     "x": 0,
     "y": 24
    },
    "deepnote_cell_type": "code",
    "deepnote_to_be_reexecuted": false,
    "execution_context_id": "60c990da-70c9-40a5-88e4-4108836c84cb",
    "execution_millis": 458,
    "execution_start": 1743593786451,
    "output_cleared": false,
    "source_hash": "81919a32",
    "tags": []
   },
   "outputs": [],
   "source": [
    "import empiricaldist\n",
    "import janitor\n",
    "import matplotlib.pyplot as plt\n",
    "import numpy as np\n",
    "import palmerpenguins\n",
    "import pandas as pd\n",
    "import scipy.stats\n",
    "import seaborn as sns\n",
    "import sklearn.metrics\n",
    "import statsmodels.api as sm\n",
    "import statsmodels.formula.api as smf\n",
    "import statsmodels.stats as ss\n",
    "import session_info"
   ]
  },
  {
   "cell_type": "markdown",
   "metadata": {
    "cell_id": "19675e97953f46fba4b320625757f5d9",
    "deepnote_app_block_visible": true,
    "deepnote_app_coordinates": {
     "h": 5,
     "w": 12,
     "x": 0,
     "y": 0
    },
    "deepnote_cell_type": "text-cell-h2",
    "formattedRanges": [],
    "is_collapsed": false,
    "tags": []
   },
   "source": [
    "## Establecer apariencia general de los gráficos"
   ]
  },
  {
   "cell_type": "markdown",
   "metadata": {
    "cell_id": "bc0e635079204d818209514e93efe71e",
    "deepnote_app_block_visible": true,
    "deepnote_app_coordinates": {
     "h": 2,
     "w": 8,
     "x": 0,
     "y": 0
    },
    "deepnote_cell_type": "text-cell-h2",
    "formattedRanges": [],
    "is_collapsed": false,
    "tags": []
   },
   "source": [
    "## Cargar los datos"
   ]
  },
  {
   "cell_type": "markdown",
   "metadata": {
    "cell_id": "d0234ee1d29845b28f14a093780ad0dc",
    "deepnote_app_block_visible": true,
    "deepnote_app_coordinates": {
     "h": 5,
     "w": 12,
     "x": 0,
     "y": 0
    },
    "deepnote_cell_type": "text-cell-h3",
    "formattedRanges": [
     {
      "fromCodePoint": 37,
      "marks": {
       "code": true
      },
      "toCodePoint": 44,
      "type": "marks"
     }
    ],
    "is_collapsed": false,
    "tags": []
   },
   "source": [
    "### Utilizando los conjuntos de datos de seaborn"
   ]
  },
  {
   "cell_type": "code",
   "execution_count": 1,
   "metadata": {
    "cell_id": "61a6c2fa74bb4242a7f7eac026395d4c",
    "deepnote_cell_type": "code",
    "execution_context_id": "67d2892e-6342-470c-8854-5cf378b5415d",
    "execution_millis": 16020,
    "execution_start": 1743768559313,
    "source_hash": "c84756ab"
   },
   "outputs": [],
   "source": [
    "import pandas as pd\n",
    "sds = pd.read_csv(\"dataset_feature_engineering.csv\")\n"
   ]
  },
  {
   "cell_type": "code",
   "execution_count": null,
   "metadata": {
    "cell_id": "03892338af04412db1fbaec795d6021e",
    "deepnote_cell_type": "code",
    "deepnote_table_loading": false,
    "deepnote_table_state": {
     "cellFormattingRules": [],
     "columnDisplayNames": [],
     "columnOrder": [
      "cc_num",
      "merchant",
      "category",
      "amt",
      "first",
      "last",
      "gender",
      "street",
      "city",
      "state",
      "zip",
      "lat",
      "long",
      "city_pop",
      "job",
      "dob",
      "trans_num",
      "unix_time",
      "merch_lat",
      "merch_long",
      "is_fraud",
      "amt_month",
      "amt_year",
      "amt_month_shopping_net_spend",
      "count_month_shopping_net",
      "first_time_at_merchant",
      "dist_between_client_and_merch",
      "trans_month",
      "trans_day",
      "hour",
      "year",
      "times_shopped_at_merchant",
      "times_shopped_at_merchant_year",
      "times_shopped_at_merchant_month",
      "times_shopped_at_merchant_day"
     ],
     "conditionalFilters": [],
     "filters": [],
     "hiddenColumnIds": [],
     "pageIndex": 0,
     "pageSize": 10,
     "sortBy": [],
     "wrappedTextColumnIds": []
    },
    "execution_context_id": "67d2892e-6342-470c-8854-5cf378b5415d",
    "execution_millis": 998,
    "execution_start": 1743768595073,
    "source_hash": "341d34ed"
   },
   "outputs": [
    {
     "data": {
      "application/vnd.deepnote.dataframe.v3+json": {
       "column_count": 35,
       "columns": [
        {
         "dtype": "int64",
         "name": "cc_num"
        },
        {
         "dtype": "object",
         "name": "merchant"
        },
        {
         "dtype": "object",
         "name": "category"
        },
        {
         "dtype": "float64",
         "name": "amt"
        },
        {
         "dtype": "object",
         "name": "first"
        },
        {
         "dtype": "object",
         "name": "last"
        },
        {
         "dtype": "object",
         "name": "gender"
        },
        {
         "dtype": "object",
         "name": "street"
        },
        {
         "dtype": "object",
         "name": "city"
        },
        {
         "dtype": "object",
         "name": "state"
        },
        {
         "dtype": "int64",
         "name": "zip"
        },
        {
         "dtype": "float64",
         "name": "lat"
        },
        {
         "dtype": "float64",
         "name": "long"
        },
        {
         "dtype": "int64",
         "name": "city_pop"
        },
        {
         "dtype": "object",
         "name": "job"
        },
        {
         "dtype": "object",
         "name": "dob"
        },
        {
         "dtype": "object",
         "name": "trans_num"
        },
        {
         "dtype": "int64",
         "name": "unix_time"
        },
        {
         "dtype": "float64",
         "name": "merch_lat"
        },
        {
         "dtype": "float64",
         "name": "merch_long"
        },
        {
         "dtype": "int64",
         "name": "is_fraud"
        },
        {
         "dtype": "float64",
         "name": "amt_month"
        },
        {
         "dtype": "float64",
         "name": "amt_year"
        },
        {
         "dtype": "float64",
         "name": "amt_month_shopping_net_spend"
        },
        {
         "dtype": "float64",
         "name": "count_month_shopping_net"
        },
        {
         "dtype": "bool",
         "name": "first_time_at_merchant"
        },
        {
         "dtype": "float64",
         "name": "dist_between_client_and_merch"
        },
        {
         "dtype": "int64",
         "name": "trans_month"
        },
        {
         "dtype": "int64",
         "name": "trans_day"
        },
        {
         "dtype": "int64",
         "name": "hour"
        },
        {
         "dtype": "int64",
         "name": "year"
        },
        {
         "dtype": "int64",
         "name": "times_shopped_at_merchant"
        },
        {
         "dtype": "int64",
         "name": "times_shopped_at_merchant_year"
        },
        {
         "dtype": "int64",
         "name": "times_shopped_at_merchant_month"
        },
        {
         "dtype": "int64",
         "name": "times_shopped_at_merchant_day"
        },
        {
         "dtype": "int64",
         "name": "_deepnote_index_column"
        }
       ],
       "row_count": 1852394,
       "rows": [
        {
         "_deepnote_index_column": 0,
         "amt": 4.97,
         "amt_month": 4.97,
         "amt_month_shopping_net_spend": 0,
         "amt_year": 4.97,
         "category": "misc_net",
         "cc_num": 2703186189652095,
         "city": "Moravian Falls",
         "city_pop": 3495,
         "count_month_shopping_net": 0,
         "dist_between_client_and_merch": 78.77382075373654,
         "dob": "1988-03-09",
         "first": "Jennifer",
         "first_time_at_merchant": "True",
         "gender": "F",
         "hour": 0,
         "is_fraud": 0,
         "job": "Psychologist, counselling",
         "last": "Banks",
         "lat": 36.0788,
         "long": -81.1781,
         "merch_lat": 36.011293,
         "merch_long": -82.048315,
         "merchant": "fraud_Rippin, Kub and Mann",
         "state": "NC",
         "street": "561 Perry Cove",
         "times_shopped_at_merchant": 5,
         "times_shopped_at_merchant_day": 1,
         "times_shopped_at_merchant_month": 2,
         "times_shopped_at_merchant_year": 4,
         "trans_day": 1,
         "trans_month": 1,
         "trans_num": "0b242abb623afc578575680df30655b9",
         "unix_time": 1325376018,
         "year": 2019,
         "zip": 28654
        },
        {
         "_deepnote_index_column": 1,
         "amt": 107.23,
         "amt_month": 107.23,
         "amt_month_shopping_net_spend": 0,
         "amt_year": 107.23,
         "category": "grocery_pos",
         "cc_num": 630423337322,
         "city": "Orient",
         "city_pop": 149,
         "count_month_shopping_net": 0,
         "dist_between_client_and_merch": 30.216618410409005,
         "dob": "1978-06-21",
         "first": "Stephanie",
         "first_time_at_merchant": "True",
         "gender": "F",
         "hour": 0,
         "is_fraud": 0,
         "job": "Special educational needs teacher",
         "last": "Gill",
         "lat": 48.8878,
         "long": -118.2105,
         "merch_lat": 49.159047,
         "merch_long": -118.186462,
         "merchant": "fraud_Heller, Gutmann and Zieme",
         "state": "WA",
         "street": "43039 Riley Greens Suite 393",
         "times_shopped_at_merchant": 4,
         "times_shopped_at_merchant_day": 1,
         "times_shopped_at_merchant_month": 1,
         "times_shopped_at_merchant_year": 4,
         "trans_day": 1,
         "trans_month": 1,
         "trans_num": "1f76529f8574734946361c461b024d99",
         "unix_time": 1325376044,
         "year": 2019,
         "zip": 99160
        },
        {
         "_deepnote_index_column": 2,
         "amt": 220.11,
         "amt_month": 220.11,
         "amt_month_shopping_net_spend": 0,
         "amt_year": 220.11,
         "category": "entertainment",
         "cc_num": 38859492057661,
         "city": "Malad City",
         "city_pop": 4154,
         "count_month_shopping_net": 0,
         "dist_between_client_and_merch": 108.10291171205012,
         "dob": "1962-01-19",
         "first": "Edward",
         "first_time_at_merchant": "True",
         "gender": "M",
         "hour": 0,
         "is_fraud": 0,
         "job": "Nature conservation officer",
         "last": "Sanchez",
         "lat": 42.1808,
         "long": -112.262,
         "merch_lat": 43.150704,
         "merch_long": -112.154481,
         "merchant": "fraud_Lind-Buckridge",
         "state": "ID",
         "street": "594 White Dale Suite 530",
         "times_shopped_at_merchant": 4,
         "times_shopped_at_merchant_day": 1,
         "times_shopped_at_merchant_month": 1,
         "times_shopped_at_merchant_year": 3,
         "trans_day": 1,
         "trans_month": 1,
         "trans_num": "a1a22d70485983eac12b5b88dad1cf95",
         "unix_time": 1325376051,
         "year": 2019,
         "zip": 83252
        },
        {
         "_deepnote_index_column": 3,
         "amt": 45,
         "amt_month": 45,
         "amt_month_shopping_net_spend": 0,
         "amt_year": 45,
         "category": "gas_transport",
         "cc_num": 3534093764340240,
         "city": "Boulder",
         "city_pop": 1939,
         "count_month_shopping_net": 0,
         "dist_between_client_and_merch": 95.68511547580852,
         "dob": "1967-01-12",
         "first": "Jeremy",
         "first_time_at_merchant": "True",
         "gender": "M",
         "hour": 0,
         "is_fraud": 0,
         "job": "Patent attorney",
         "last": "White",
         "lat": 46.2306,
         "long": -112.1138,
         "merch_lat": 47.034331,
         "merch_long": -112.561071,
         "merchant": "fraud_Kutch, Hermiston and Farrell",
         "state": "MT",
         "street": "9443 Cynthia Court Apt. 038",
         "times_shopped_at_merchant": 1,
         "times_shopped_at_merchant_day": 1,
         "times_shopped_at_merchant_month": 1,
         "times_shopped_at_merchant_year": 1,
         "trans_day": 1,
         "trans_month": 1,
         "trans_num": "6b849c168bdad6f867558c3793159a81",
         "unix_time": 1325376076,
         "year": 2019,
         "zip": 59632
        },
        {
         "_deepnote_index_column": 4,
         "amt": 41.96,
         "amt_month": 41.96,
         "amt_month_shopping_net_spend": 0,
         "amt_year": 41.96,
         "category": "misc_pos",
         "cc_num": 375534208663984,
         "city": "Doe Hill",
         "city_pop": 99,
         "count_month_shopping_net": 0,
         "dist_between_client_and_merch": 77.70239516452571,
         "dob": "1986-03-28",
         "first": "Tyler",
         "first_time_at_merchant": "True",
         "gender": "M",
         "hour": 0,
         "is_fraud": 0,
         "job": "Dance movement psychotherapist",
         "last": "Garcia",
         "lat": 38.4207,
         "long": -79.4629,
         "merch_lat": 38.674999,
         "merch_long": -78.632459,
         "merchant": "fraud_Keeling-Crist",
         "state": "VA",
         "street": "408 Bradley Rest",
         "times_shopped_at_merchant": 6,
         "times_shopped_at_merchant_day": 1,
         "times_shopped_at_merchant_month": 1,
         "times_shopped_at_merchant_year": 1,
         "trans_day": 1,
         "trans_month": 1,
         "trans_num": "a41d7549acf90789359a9aa5346dcb46",
         "unix_time": 1325376186,
         "year": 2019,
         "zip": 24433
        },
        {
         "_deepnote_index_column": 5,
         "amt": 94.63,
         "amt_month": 94.63,
         "amt_month_shopping_net_spend": 0,
         "amt_year": 94.63,
         "category": "gas_transport",
         "cc_num": 4767265376804500,
         "city": "Dublin",
         "city_pop": 2158,
         "count_month_shopping_net": 0,
         "dist_between_client_and_merch": 86.09735763814429,
         "dob": "1961-06-19",
         "first": "Jennifer",
         "first_time_at_merchant": "True",
         "gender": "F",
         "hour": 0,
         "is_fraud": 0,
         "job": "Transport planner",
         "last": "Conner",
         "lat": 40.375,
         "long": -75.2045,
         "merch_lat": 40.653382,
         "merch_long": -76.15266700000001,
         "merchant": "fraud_Stroman, Hudson and Erdman",
         "state": "PA",
         "street": "4655 David Island",
         "times_shopped_at_merchant": 2,
         "times_shopped_at_merchant_day": 1,
         "times_shopped_at_merchant_month": 1,
         "times_shopped_at_merchant_year": 2,
         "trans_day": 1,
         "trans_month": 1,
         "trans_num": "189a841a0a8ba03058526bcfe566aab5",
         "unix_time": 1325376248,
         "year": 2019,
         "zip": 18917
        },
        {
         "_deepnote_index_column": 6,
         "amt": 44.54,
         "amt_month": 44.54,
         "amt_month_shopping_net_spend": 0,
         "amt_year": 44.54,
         "category": "grocery_net",
         "cc_num": 30074693890476,
         "city": "Holcomb",
         "city_pop": 2691,
         "count_month_shopping_net": 0,
         "dist_between_client_and_merch": 118.09485532532904,
         "dob": "1993-08-16",
         "first": "Kelsey",
         "first_time_at_merchant": "True",
         "gender": "F",
         "hour": 0,
         "is_fraud": 0,
         "job": "Arboriculturist",
         "last": "Richards",
         "lat": 37.9931,
         "long": -100.9893,
         "merch_lat": 37.162705,
         "merch_long": -100.15337,
         "merchant": "fraud_Rowe-Vandervort",
         "state": "KS",
         "street": "889 Sarah Station Suite 624",
         "times_shopped_at_merchant": 4,
         "times_shopped_at_merchant_day": 1,
         "times_shopped_at_merchant_month": 1,
         "times_shopped_at_merchant_year": 4,
         "trans_day": 1,
         "trans_month": 1,
         "trans_num": "83ec1cc84142af6e2acf10c44949e720",
         "unix_time": 1325376282,
         "year": 2019,
         "zip": 67851
        },
        {
         "_deepnote_index_column": 7,
         "amt": 71.65,
         "amt_month": 71.65,
         "amt_month_shopping_net_spend": 0,
         "amt_year": 71.65,
         "category": "gas_transport",
         "cc_num": 6011360759745864,
         "city": "Edinburg",
         "city_pop": 6018,
         "count_month_shopping_net": 0,
         "dist_between_client_and_merch": 12.754714042768336,
         "dob": "1947-08-21",
         "first": "Steven",
         "first_time_at_merchant": "True",
         "gender": "M",
         "hour": 0,
         "is_fraud": 0,
         "job": "Designer, multimedia",
         "last": "Williams",
         "lat": 38.8432,
         "long": -78.6003,
         "merch_lat": 38.948089,
         "merch_long": -78.540296,
         "merchant": "fraud_Corwin-Collins",
         "state": "VA",
         "street": "231 Flores Pass Suite 720",
         "times_shopped_at_merchant": 3,
         "times_shopped_at_merchant_day": 1,
         "times_shopped_at_merchant_month": 1,
         "times_shopped_at_merchant_year": 2,
         "trans_day": 1,
         "trans_month": 1,
         "trans_num": "6d294ed2cc447d2c71c7171a3d54967c",
         "unix_time": 1325376308,
         "year": 2019,
         "zip": 22824
        },
        {
         "_deepnote_index_column": 8,
         "amt": 4.27,
         "amt_month": 4.27,
         "amt_month_shopping_net_spend": 0,
         "amt_year": 4.27,
         "category": "misc_pos",
         "cc_num": 4922710831011201,
         "city": "Manor",
         "city_pop": 1472,
         "count_month_shopping_net": 0,
         "dist_between_client_and_merch": 25.333882585633045,
         "dob": "1941-03-07",
         "first": "Heather",
         "first_time_at_merchant": "True",
         "gender": "F",
         "hour": 0,
         "is_fraud": 0,
         "job": "Public affairs consultant",
         "last": "Chase",
         "lat": 40.3359,
         "long": -79.6607,
         "merch_lat": 40.351813,
         "merch_long": -79.958146,
         "merchant": "fraud_Herzog Ltd",
         "state": "PA",
         "street": "6888 Hicks Stream Suite 954",
         "times_shopped_at_merchant": 2,
         "times_shopped_at_merchant_day": 1,
         "times_shopped_at_merchant_month": 1,
         "times_shopped_at_merchant_year": 1,
         "trans_day": 1,
         "trans_month": 1,
         "trans_num": "fc28024ce480f8ef21a32d64c93a29f5",
         "unix_time": 1325376318,
         "year": 2019,
         "zip": 15665
        },
        {
         "_deepnote_index_column": 9,
         "amt": 198.39,
         "amt_month": 198.39,
         "amt_month_shopping_net_spend": 0,
         "amt_year": 198.39,
         "category": "grocery_pos",
         "cc_num": 2720830304681674,
         "city": "Clarksville",
         "city_pop": 151785,
         "count_month_shopping_net": 0,
         "dist_between_client_and_merch": 73.9397138692019,
         "dob": "1974-03-28",
         "first": "Melissa",
         "first_time_at_merchant": "True",
         "gender": "F",
         "hour": 0,
         "is_fraud": 0,
         "job": "Pathologist",
         "last": "Aguilar",
         "lat": 36.522,
         "long": -87.34899999999999,
         "merch_lat": 37.179198,
         "merch_long": -87.485381,
         "merchant": "fraud_Schoen, Kuphal and Nitzsche",
         "state": "TN",
         "street": "21326 Taylor Squares Suite 708",
         "times_shopped_at_merchant": 5,
         "times_shopped_at_merchant_day": 2,
         "times_shopped_at_merchant_month": 1,
         "times_shopped_at_merchant_year": 4,
         "trans_day": 1,
         "trans_month": 1,
         "trans_num": "3b9014ea8fb80bd65de0b1463b00b00e",
         "unix_time": 1325376361,
         "year": 2019,
         "zip": 37040
        }
       ],
       "type": "dataframe"
      },
      "text/html": [
       "<div>\n",
       "<style scoped>\n",
       "    .dataframe tbody tr th:only-of-type {\n",
       "        vertical-align: middle;\n",
       "    }\n",
       "\n",
       "    .dataframe tbody tr th {\n",
       "        vertical-align: top;\n",
       "    }\n",
       "\n",
       "    .dataframe thead th {\n",
       "        text-align: right;\n",
       "    }\n",
       "</style>\n",
       "<table border=\"1\" class=\"dataframe\">\n",
       "  <thead>\n",
       "    <tr style=\"text-align: right;\">\n",
       "      <th></th>\n",
       "      <th>cc_num</th>\n",
       "      <th>merchant</th>\n",
       "      <th>category</th>\n",
       "      <th>amt</th>\n",
       "      <th>first</th>\n",
       "      <th>last</th>\n",
       "      <th>gender</th>\n",
       "      <th>street</th>\n",
       "      <th>city</th>\n",
       "      <th>state</th>\n",
       "      <th>...</th>\n",
       "      <th>first_time_at_merchant</th>\n",
       "      <th>dist_between_client_and_merch</th>\n",
       "      <th>trans_month</th>\n",
       "      <th>trans_day</th>\n",
       "      <th>hour</th>\n",
       "      <th>year</th>\n",
       "      <th>times_shopped_at_merchant</th>\n",
       "      <th>times_shopped_at_merchant_year</th>\n",
       "      <th>times_shopped_at_merchant_month</th>\n",
       "      <th>times_shopped_at_merchant_day</th>\n",
       "    </tr>\n",
       "  </thead>\n",
       "  <tbody>\n",
       "    <tr>\n",
       "      <th>0</th>\n",
       "      <td>2703186189652095</td>\n",
       "      <td>fraud_Rippin, Kub and Mann</td>\n",
       "      <td>misc_net</td>\n",
       "      <td>4.97</td>\n",
       "      <td>Jennifer</td>\n",
       "      <td>Banks</td>\n",
       "      <td>F</td>\n",
       "      <td>561 Perry Cove</td>\n",
       "      <td>Moravian Falls</td>\n",
       "      <td>NC</td>\n",
       "      <td>...</td>\n",
       "      <td>True</td>\n",
       "      <td>78.773821</td>\n",
       "      <td>1</td>\n",
       "      <td>1</td>\n",
       "      <td>0</td>\n",
       "      <td>2019</td>\n",
       "      <td>5</td>\n",
       "      <td>4</td>\n",
       "      <td>2</td>\n",
       "      <td>1</td>\n",
       "    </tr>\n",
       "    <tr>\n",
       "      <th>1</th>\n",
       "      <td>630423337322</td>\n",
       "      <td>fraud_Heller, Gutmann and Zieme</td>\n",
       "      <td>grocery_pos</td>\n",
       "      <td>107.23</td>\n",
       "      <td>Stephanie</td>\n",
       "      <td>Gill</td>\n",
       "      <td>F</td>\n",
       "      <td>43039 Riley Greens Suite 393</td>\n",
       "      <td>Orient</td>\n",
       "      <td>WA</td>\n",
       "      <td>...</td>\n",
       "      <td>True</td>\n",
       "      <td>30.216618</td>\n",
       "      <td>1</td>\n",
       "      <td>1</td>\n",
       "      <td>0</td>\n",
       "      <td>2019</td>\n",
       "      <td>4</td>\n",
       "      <td>4</td>\n",
       "      <td>1</td>\n",
       "      <td>1</td>\n",
       "    </tr>\n",
       "    <tr>\n",
       "      <th>2</th>\n",
       "      <td>38859492057661</td>\n",
       "      <td>fraud_Lind-Buckridge</td>\n",
       "      <td>entertainment</td>\n",
       "      <td>220.11</td>\n",
       "      <td>Edward</td>\n",
       "      <td>Sanchez</td>\n",
       "      <td>M</td>\n",
       "      <td>594 White Dale Suite 530</td>\n",
       "      <td>Malad City</td>\n",
       "      <td>ID</td>\n",
       "      <td>...</td>\n",
       "      <td>True</td>\n",
       "      <td>108.102912</td>\n",
       "      <td>1</td>\n",
       "      <td>1</td>\n",
       "      <td>0</td>\n",
       "      <td>2019</td>\n",
       "      <td>4</td>\n",
       "      <td>3</td>\n",
       "      <td>1</td>\n",
       "      <td>1</td>\n",
       "    </tr>\n",
       "    <tr>\n",
       "      <th>3</th>\n",
       "      <td>3534093764340240</td>\n",
       "      <td>fraud_Kutch, Hermiston and Farrell</td>\n",
       "      <td>gas_transport</td>\n",
       "      <td>45.00</td>\n",
       "      <td>Jeremy</td>\n",
       "      <td>White</td>\n",
       "      <td>M</td>\n",
       "      <td>9443 Cynthia Court Apt. 038</td>\n",
       "      <td>Boulder</td>\n",
       "      <td>MT</td>\n",
       "      <td>...</td>\n",
       "      <td>True</td>\n",
       "      <td>95.685115</td>\n",
       "      <td>1</td>\n",
       "      <td>1</td>\n",
       "      <td>0</td>\n",
       "      <td>2019</td>\n",
       "      <td>1</td>\n",
       "      <td>1</td>\n",
       "      <td>1</td>\n",
       "      <td>1</td>\n",
       "    </tr>\n",
       "    <tr>\n",
       "      <th>4</th>\n",
       "      <td>375534208663984</td>\n",
       "      <td>fraud_Keeling-Crist</td>\n",
       "      <td>misc_pos</td>\n",
       "      <td>41.96</td>\n",
       "      <td>Tyler</td>\n",
       "      <td>Garcia</td>\n",
       "      <td>M</td>\n",
       "      <td>408 Bradley Rest</td>\n",
       "      <td>Doe Hill</td>\n",
       "      <td>VA</td>\n",
       "      <td>...</td>\n",
       "      <td>True</td>\n",
       "      <td>77.702395</td>\n",
       "      <td>1</td>\n",
       "      <td>1</td>\n",
       "      <td>0</td>\n",
       "      <td>2019</td>\n",
       "      <td>6</td>\n",
       "      <td>1</td>\n",
       "      <td>1</td>\n",
       "      <td>1</td>\n",
       "    </tr>\n",
       "    <tr>\n",
       "      <th>...</th>\n",
       "      <td>...</td>\n",
       "      <td>...</td>\n",
       "      <td>...</td>\n",
       "      <td>...</td>\n",
       "      <td>...</td>\n",
       "      <td>...</td>\n",
       "      <td>...</td>\n",
       "      <td>...</td>\n",
       "      <td>...</td>\n",
       "      <td>...</td>\n",
       "      <td>...</td>\n",
       "      <td>...</td>\n",
       "      <td>...</td>\n",
       "      <td>...</td>\n",
       "      <td>...</td>\n",
       "      <td>...</td>\n",
       "      <td>...</td>\n",
       "      <td>...</td>\n",
       "      <td>...</td>\n",
       "      <td>...</td>\n",
       "      <td>...</td>\n",
       "    </tr>\n",
       "    <tr>\n",
       "      <th>1852389</th>\n",
       "      <td>30560609640617</td>\n",
       "      <td>fraud_Reilly and Sons</td>\n",
       "      <td>health_fitness</td>\n",
       "      <td>43.77</td>\n",
       "      <td>Michael</td>\n",
       "      <td>Olson</td>\n",
       "      <td>M</td>\n",
       "      <td>558 Michael Estates</td>\n",
       "      <td>Luray</td>\n",
       "      <td>MO</td>\n",
       "      <td>...</td>\n",
       "      <td>False</td>\n",
       "      <td>77.032467</td>\n",
       "      <td>12</td>\n",
       "      <td>3</td>\n",
       "      <td>23</td>\n",
       "      <td>2020</td>\n",
       "      <td>6</td>\n",
       "      <td>3</td>\n",
       "      <td>1</td>\n",
       "      <td>1</td>\n",
       "    </tr>\n",
       "    <tr>\n",
       "      <th>1852390</th>\n",
       "      <td>3556613125071656</td>\n",
       "      <td>fraud_Hoppe-Parisian</td>\n",
       "      <td>kids_pets</td>\n",
       "      <td>111.84</td>\n",
       "      <td>Jose</td>\n",
       "      <td>Vasquez</td>\n",
       "      <td>M</td>\n",
       "      <td>572 Davis Mountains</td>\n",
       "      <td>Lake Jackson</td>\n",
       "      <td>TX</td>\n",
       "      <td>...</td>\n",
       "      <td>False</td>\n",
       "      <td>100.023736</td>\n",
       "      <td>12</td>\n",
       "      <td>3</td>\n",
       "      <td>23</td>\n",
       "      <td>2020</td>\n",
       "      <td>5</td>\n",
       "      <td>3</td>\n",
       "      <td>1</td>\n",
       "      <td>1</td>\n",
       "    </tr>\n",
       "    <tr>\n",
       "      <th>1852391</th>\n",
       "      <td>6011724471098086</td>\n",
       "      <td>fraud_Rau-Robel</td>\n",
       "      <td>kids_pets</td>\n",
       "      <td>86.88</td>\n",
       "      <td>Ann</td>\n",
       "      <td>Lawson</td>\n",
       "      <td>F</td>\n",
       "      <td>144 Evans Islands Apt. 683</td>\n",
       "      <td>Burbank</td>\n",
       "      <td>WA</td>\n",
       "      <td>...</td>\n",
       "      <td>False</td>\n",
       "      <td>80.887812</td>\n",
       "      <td>12</td>\n",
       "      <td>3</td>\n",
       "      <td>23</td>\n",
       "      <td>2020</td>\n",
       "      <td>10</td>\n",
       "      <td>7</td>\n",
       "      <td>1</td>\n",
       "      <td>2</td>\n",
       "    </tr>\n",
       "    <tr>\n",
       "      <th>1852392</th>\n",
       "      <td>4079773899158</td>\n",
       "      <td>fraud_Breitenberg LLC</td>\n",
       "      <td>travel</td>\n",
       "      <td>7.99</td>\n",
       "      <td>Eric</td>\n",
       "      <td>Preston</td>\n",
       "      <td>M</td>\n",
       "      <td>7020 Doyle Stream Apt. 951</td>\n",
       "      <td>Mesa</td>\n",
       "      <td>ID</td>\n",
       "      <td>...</td>\n",
       "      <td>False</td>\n",
       "      <td>53.060882</td>\n",
       "      <td>12</td>\n",
       "      <td>3</td>\n",
       "      <td>23</td>\n",
       "      <td>2020</td>\n",
       "      <td>4</td>\n",
       "      <td>2</td>\n",
       "      <td>2</td>\n",
       "      <td>1</td>\n",
       "    </tr>\n",
       "    <tr>\n",
       "      <th>1852393</th>\n",
       "      <td>4170689372027579</td>\n",
       "      <td>fraud_Dare-Marvin</td>\n",
       "      <td>entertainment</td>\n",
       "      <td>38.13</td>\n",
       "      <td>Samuel</td>\n",
       "      <td>Frey</td>\n",
       "      <td>M</td>\n",
       "      <td>830 Myers Plaza Apt. 384</td>\n",
       "      <td>Edmond</td>\n",
       "      <td>OK</td>\n",
       "      <td>...</td>\n",
       "      <td>False</td>\n",
       "      <td>72.380990</td>\n",
       "      <td>12</td>\n",
       "      <td>3</td>\n",
       "      <td>23</td>\n",
       "      <td>2020</td>\n",
       "      <td>2</td>\n",
       "      <td>1</td>\n",
       "      <td>1</td>\n",
       "      <td>1</td>\n",
       "    </tr>\n",
       "  </tbody>\n",
       "</table>\n",
       "<p>1852394 rows × 35 columns</p>\n",
       "</div>"
      ],
      "text/plain": [
       "                   cc_num                            merchant        category  \\\n",
       "0        2703186189652095          fraud_Rippin, Kub and Mann        misc_net   \n",
       "1            630423337322     fraud_Heller, Gutmann and Zieme     grocery_pos   \n",
       "2          38859492057661                fraud_Lind-Buckridge   entertainment   \n",
       "3        3534093764340240  fraud_Kutch, Hermiston and Farrell   gas_transport   \n",
       "4         375534208663984                 fraud_Keeling-Crist        misc_pos   \n",
       "...                   ...                                 ...             ...   \n",
       "1852389    30560609640617               fraud_Reilly and Sons  health_fitness   \n",
       "1852390  3556613125071656                fraud_Hoppe-Parisian       kids_pets   \n",
       "1852391  6011724471098086                     fraud_Rau-Robel       kids_pets   \n",
       "1852392     4079773899158               fraud_Breitenberg LLC          travel   \n",
       "1852393  4170689372027579                   fraud_Dare-Marvin   entertainment   \n",
       "\n",
       "            amt      first     last gender                        street  \\\n",
       "0          4.97   Jennifer    Banks      F                561 Perry Cove   \n",
       "1        107.23  Stephanie     Gill      F  43039 Riley Greens Suite 393   \n",
       "2        220.11     Edward  Sanchez      M      594 White Dale Suite 530   \n",
       "3         45.00     Jeremy    White      M   9443 Cynthia Court Apt. 038   \n",
       "4         41.96      Tyler   Garcia      M              408 Bradley Rest   \n",
       "...         ...        ...      ...    ...                           ...   \n",
       "1852389   43.77    Michael    Olson      M           558 Michael Estates   \n",
       "1852390  111.84       Jose  Vasquez      M           572 Davis Mountains   \n",
       "1852391   86.88        Ann   Lawson      F    144 Evans Islands Apt. 683   \n",
       "1852392    7.99       Eric  Preston      M    7020 Doyle Stream Apt. 951   \n",
       "1852393   38.13     Samuel     Frey      M      830 Myers Plaza Apt. 384   \n",
       "\n",
       "                   city state  ...  first_time_at_merchant  \\\n",
       "0        Moravian Falls    NC  ...                    True   \n",
       "1                Orient    WA  ...                    True   \n",
       "2            Malad City    ID  ...                    True   \n",
       "3               Boulder    MT  ...                    True   \n",
       "4              Doe Hill    VA  ...                    True   \n",
       "...                 ...   ...  ...                     ...   \n",
       "1852389           Luray    MO  ...                   False   \n",
       "1852390    Lake Jackson    TX  ...                   False   \n",
       "1852391         Burbank    WA  ...                   False   \n",
       "1852392            Mesa    ID  ...                   False   \n",
       "1852393          Edmond    OK  ...                   False   \n",
       "\n",
       "         dist_between_client_and_merch  trans_month  trans_day hour  year  \\\n",
       "0                            78.773821            1          1    0  2019   \n",
       "1                            30.216618            1          1    0  2019   \n",
       "2                           108.102912            1          1    0  2019   \n",
       "3                            95.685115            1          1    0  2019   \n",
       "4                            77.702395            1          1    0  2019   \n",
       "...                                ...          ...        ...  ...   ...   \n",
       "1852389                      77.032467           12          3   23  2020   \n",
       "1852390                     100.023736           12          3   23  2020   \n",
       "1852391                      80.887812           12          3   23  2020   \n",
       "1852392                      53.060882           12          3   23  2020   \n",
       "1852393                      72.380990           12          3   23  2020   \n",
       "\n",
       "        times_shopped_at_merchant  times_shopped_at_merchant_year  \\\n",
       "0                               5                               4   \n",
       "1                               4                               4   \n",
       "2                               4                               3   \n",
       "3                               1                               1   \n",
       "4                               6                               1   \n",
       "...                           ...                             ...   \n",
       "1852389                         6                               3   \n",
       "1852390                         5                               3   \n",
       "1852391                        10                               7   \n",
       "1852392                         4                               2   \n",
       "1852393                         2                               1   \n",
       "\n",
       "         times_shopped_at_merchant_month  times_shopped_at_merchant_day  \n",
       "0                                      2                              1  \n",
       "1                                      1                              1  \n",
       "2                                      1                              1  \n",
       "3                                      1                              1  \n",
       "4                                      1                              1  \n",
       "...                                  ...                            ...  \n",
       "1852389                                1                              1  \n",
       "1852390                                1                              1  \n",
       "1852391                                1                              2  \n",
       "1852392                                2                              1  \n",
       "1852393                                1                              1  \n",
       "\n",
       "[1852394 rows x 35 columns]"
      ]
     },
     "execution_count": 5,
     "metadata": {},
     "output_type": "execute_result"
    }
   ],
   "source": [
    "sds"
   ]
  },
  {
   "cell_type": "markdown",
   "metadata": {
    "cell_id": "5b4d6fd606e04f1f8a4d8148ee54478e",
    "deepnote_app_block_visible": true,
    "deepnote_app_coordinates": {
     "h": 2,
     "w": 8,
     "x": 0,
     "y": 0
    },
    "deepnote_cell_type": "text-cell-h3",
    "formattedRanges": [],
    "is_collapsed": false,
    "tags": []
   },
   "source": [
    "### Utilizando la interfaz de Deepnote"
   ]
  },
  {
   "cell_type": "markdown",
   "metadata": {
    "cell_id": "43c8ec5b60424002b3cd9cb3adeb1462",
    "deepnote_app_block_visible": true,
    "deepnote_app_coordinates": {
     "h": 2,
     "w": 8,
     "x": 0,
     "y": 0
    },
    "deepnote_cell_type": "text-cell-p",
    "formattedRanges": [],
    "is_collapsed": false,
    "tags": []
   },
   "source": [
    "Links de importación de datos:"
   ]
  },
  {
   "cell_type": "markdown",
   "metadata": {
    "cell_id": "978e99659da84030a3d93b5bb7841f5b",
    "deepnote_app_block_visible": true,
    "deepnote_app_coordinates": {
     "h": 2,
     "w": 8,
     "x": 0,
     "y": 0
    },
    "deepnote_cell_type": "text-cell-bullet",
    "formattedRanges": [
     {
      "fromCodePoint": 0,
      "ranges": [],
      "toCodePoint": 24,
      "type": "link",
      "url": "https://raw.githubusercontent.com/allisonhorst/palmerpenguins/master/inst/extdata/penguins_raw.csv"
     }
    ],
    "is_collapsed": false,
    "tags": []
   },
   "source": [
    "- Conjunto de datos crudos."
   ]
  },
  {
   "cell_type": "markdown",
   "metadata": {
    "cell_id": "1f0b57d146d14d9790ec09e5286e58f1",
    "deepnote_app_block_visible": true,
    "deepnote_app_coordinates": {
     "h": 2,
     "w": 8,
     "x": 0,
     "y": 0
    },
    "deepnote_cell_type": "text-cell-bullet",
    "formattedRanges": [
     {
      "fromCodePoint": 0,
      "ranges": [],
      "toCodePoint": 40,
      "type": "link",
      "url": "https://raw.githubusercontent.com/allisonhorst/palmerpenguins/master/inst/extdata/penguins.csv"
     }
    ],
    "is_collapsed": false,
    "tags": []
   },
   "source": [
    "- Conjunto de datos previamente procesados."
   ]
  },
  {
   "cell_type": "markdown",
   "metadata": {
    "cell_id": "3ae655a5b2d2466f82d94424846fc2e4",
    "deepnote_app_block_visible": true,
    "deepnote_app_coordinates": {
     "h": 5,
     "w": 12,
     "x": 0,
     "y": 0
    },
    "deepnote_cell_type": "text-cell-h1",
    "formattedRanges": [],
    "is_collapsed": false,
    "tags": []
   },
   "source": [
    "# Colecta y validación de datos"
   ]
  },
  {
   "cell_type": "markdown",
   "metadata": {
    "cell_id": "59b30e7c521d4be8825034d8ea89f1b1",
    "deepnote_app_block_visible": true,
    "deepnote_app_coordinates": {
     "h": 5,
     "w": 12,
     "x": 0,
     "y": 0
    },
    "deepnote_cell_type": "text-cell-h2",
    "formattedRanges": [],
    "is_collapsed": false,
    "tags": []
   },
   "source": [
    "## ¿Qué tipo de dato son las variables del conjunto de datos?"
   ]
  },
  {
   "cell_type": "code",
   "execution_count": 2,
   "metadata": {
    "cell_id": "218bdaec53464990a433eb7b5c3f9518",
    "deepnote_cell_type": "code",
    "execution_context_id": "6439a2b6-47aa-4479-87fc-e4ed1f96a9d4",
    "execution_millis": 1,
    "execution_start": 1743671945366,
    "source_hash": "faf2d03"
   },
   "outputs": [
    {
     "data": {
      "text/plain": [
       "cc_num                               int64\n",
       "merchant                            object\n",
       "category                            object\n",
       "amt                                float64\n",
       "first                               object\n",
       "last                                object\n",
       "gender                              object\n",
       "street                              object\n",
       "city                                object\n",
       "state                               object\n",
       "zip                                  int64\n",
       "lat                                float64\n",
       "long                               float64\n",
       "city_pop                             int64\n",
       "job                                 object\n",
       "dob                                 object\n",
       "trans_num                           object\n",
       "unix_time                            int64\n",
       "merch_lat                          float64\n",
       "merch_long                         float64\n",
       "is_fraud                             int64\n",
       "amt_month                          float64\n",
       "amt_year                           float64\n",
       "amt_month_shopping_net_spend       float64\n",
       "count_month_shopping_net           float64\n",
       "first_time_at_merchant                bool\n",
       "dist_between_client_and_merch      float64\n",
       "trans_month                          int64\n",
       "trans_day                            int64\n",
       "hour                                 int64\n",
       "year                                 int64\n",
       "times_shopped_at_merchant            int64\n",
       "times_shopped_at_merchant_year       int64\n",
       "times_shopped_at_merchant_month      int64\n",
       "times_shopped_at_merchant_day        int64\n",
       "dtype: object"
      ]
     },
     "execution_count": 2,
     "metadata": {},
     "output_type": "execute_result"
    }
   ],
   "source": [
    "sds.dtypes"
   ]
  },
  {
   "cell_type": "markdown",
   "metadata": {
    "cell_id": "f7a1b2f6d46540e18de652acdd99e3d9",
    "deepnote_app_block_visible": true,
    "deepnote_app_coordinates": {
     "h": 5,
     "w": 12,
     "x": 0,
     "y": 0
    },
    "deepnote_cell_type": "text-cell-h2",
    "formattedRanges": [],
    "is_collapsed": false,
    "tags": []
   },
   "source": [
    "## ¿Cuántas variables de cada tipo de dato tenemos en el conjunto de datos?"
   ]
  },
  {
   "cell_type": "code",
   "execution_count": 7,
   "metadata": {
    "cell_id": "2e1638bd7eb7488b89174bc5557e15e9",
    "deepnote_cell_type": "code",
    "execution_context_id": "6439a2b6-47aa-4479-87fc-e4ed1f96a9d4",
    "execution_millis": 1,
    "execution_start": 1743672011186,
    "source_hash": "65ef2f5b"
   },
   "outputs": [
    {
     "data": {
      "text/plain": [
       "int64      13\n",
       "object     11\n",
       "float64    10\n",
       "bool        1\n",
       "Name: count, dtype: int64"
      ]
     },
     "execution_count": 7,
     "metadata": {},
     "output_type": "execute_result"
    }
   ],
   "source": [
    "(\n",
    "    sds\n",
    "    .dtypes\n",
    "    .value_counts()\n",
    ")"
   ]
  },
  {
   "cell_type": "markdown",
   "metadata": {
    "cell_id": "f31df80a72fb4f08a90f4fa277a1c21a",
    "deepnote_cell_type": "text-cell-p",
    "formattedRanges": []
   },
   "source": [
    "5 variables numericas vs 3 categoricas"
   ]
  },
  {
   "cell_type": "markdown",
   "metadata": {
    "cell_id": "c319aee162dd47dbb4a0b9ddaddaee46",
    "deepnote_cell_type": "text-cell-p",
    "formattedRanges": []
   },
   "source": []
  },
  {
   "cell_type": "markdown",
   "metadata": {
    "cell_id": "191562cb92c84befaa057ec32e595606",
    "deepnote_cell_type": "text-cell-p",
    "formattedRanges": []
   },
   "source": []
  },
  {
   "cell_type": "markdown",
   "metadata": {
    "cell_id": "a4adb7c26ede413b99fe6036389f0033",
    "deepnote_app_block_visible": true,
    "deepnote_app_coordinates": {
     "h": 5,
     "w": 12,
     "x": 0,
     "y": 0
    },
    "deepnote_cell_type": "text-cell-h2",
    "formattedRanges": [],
    "is_collapsed": false,
    "tags": []
   },
   "source": [
    "## ¿Cuántas variables y observaciones tenemos en el conjunto de datos?"
   ]
  },
  {
   "cell_type": "markdown",
   "metadata": {
    "cell_id": "27879f097ed54d1ab1d188b634403ecd",
    "deepnote_cell_type": "text-cell-p",
    "formattedRanges": []
   },
   "source": [
    "7  columnas o variables y 344 filas "
   ]
  },
  {
   "cell_type": "code",
   "execution_count": 4,
   "metadata": {
    "cell_id": "606ca0016ff441edb6e8534cb5e843df",
    "deepnote_cell_type": "code",
    "execution_context_id": "6439a2b6-47aa-4479-87fc-e4ed1f96a9d4",
    "execution_millis": 2,
    "execution_start": 1743672039051,
    "source_hash": "d5d61a6a"
   },
   "outputs": [
    {
     "data": {
      "text/plain": [
       "(1852394, 35)"
      ]
     },
     "execution_count": 4,
     "metadata": {},
     "output_type": "execute_result"
    }
   ],
   "source": [
    "sds.shape"
   ]
  },
  {
   "cell_type": "markdown",
   "metadata": {
    "cell_id": "bde928adf52e4b858af95ed714584648",
    "deepnote_app_block_visible": true,
    "deepnote_app_coordinates": {
     "h": 5,
     "w": 12,
     "x": 0,
     "y": 0
    },
    "deepnote_cell_type": "text-cell-h2",
    "formattedRanges": [],
    "is_collapsed": false,
    "tags": []
   },
   "source": [
    "## ¿Existen valores nulos explicitos en el conjunto de datos?"
   ]
  },
  {
   "cell_type": "code",
   "execution_count": 5,
   "metadata": {
    "cell_id": "5b15c7cd012c46e5ab7b4af327798bdb",
    "deepnote_cell_type": "code",
    "execution_context_id": "6439a2b6-47aa-4479-87fc-e4ed1f96a9d4",
    "execution_millis": 1691,
    "execution_start": 1743672127957,
    "source_hash": "6d70e0e9"
   },
   "outputs": [
    {
     "data": {
      "text/plain": [
       "cc_num                             False\n",
       "merchant                           False\n",
       "category                           False\n",
       "amt                                False\n",
       "first                              False\n",
       "last                               False\n",
       "gender                             False\n",
       "street                             False\n",
       "city                               False\n",
       "state                              False\n",
       "zip                                False\n",
       "lat                                False\n",
       "long                               False\n",
       "city_pop                           False\n",
       "job                                False\n",
       "dob                                False\n",
       "trans_num                          False\n",
       "unix_time                          False\n",
       "merch_lat                          False\n",
       "merch_long                         False\n",
       "is_fraud                           False\n",
       "amt_month                          False\n",
       "amt_year                           False\n",
       "amt_month_shopping_net_spend       False\n",
       "count_month_shopping_net           False\n",
       "first_time_at_merchant             False\n",
       "dist_between_client_and_merch      False\n",
       "trans_month                        False\n",
       "trans_day                          False\n",
       "hour                               False\n",
       "year                               False\n",
       "times_shopped_at_merchant          False\n",
       "times_shopped_at_merchant_year     False\n",
       "times_shopped_at_merchant_month    False\n",
       "times_shopped_at_merchant_day      False\n",
       "dtype: bool"
      ]
     },
     "execution_count": 5,
     "metadata": {},
     "output_type": "execute_result"
    }
   ],
   "source": [
    "(\n",
    "    sds\n",
    "    .isnull()\n",
    "    .any()\n",
    ")"
   ]
  },
  {
   "cell_type": "markdown",
   "metadata": {
    "cell_id": "1a269d7a9a704992b6aa3c8f7ccbf7e2",
    "deepnote_app_block_visible": true,
    "deepnote_app_coordinates": {
     "h": 5,
     "w": 12,
     "x": 0,
     "y": 0
    },
    "deepnote_cell_type": "text-cell-h2",
    "formattedRanges": [],
    "is_collapsed": false,
    "tags": []
   },
   "source": [
    "## De tener observaciones con valores nulos, ¿cuántas tenemos por cada variable?"
   ]
  },
  {
   "cell_type": "code",
   "execution_count": 6,
   "metadata": {
    "cell_id": "8636fb7d62444fa292a6646a0107be45",
    "deepnote_cell_type": "code",
    "execution_context_id": "6439a2b6-47aa-4479-87fc-e4ed1f96a9d4",
    "execution_millis": 1792,
    "execution_start": 1743672171756,
    "source_hash": "9d91a348"
   },
   "outputs": [
    {
     "data": {
      "text/plain": [
       "cc_num                             0\n",
       "merchant                           0\n",
       "category                           0\n",
       "amt                                0\n",
       "first                              0\n",
       "last                               0\n",
       "gender                             0\n",
       "street                             0\n",
       "city                               0\n",
       "state                              0\n",
       "zip                                0\n",
       "lat                                0\n",
       "long                               0\n",
       "city_pop                           0\n",
       "job                                0\n",
       "dob                                0\n",
       "trans_num                          0\n",
       "unix_time                          0\n",
       "merch_lat                          0\n",
       "merch_long                         0\n",
       "is_fraud                           0\n",
       "amt_month                          0\n",
       "amt_year                           0\n",
       "amt_month_shopping_net_spend       0\n",
       "count_month_shopping_net           0\n",
       "first_time_at_merchant             0\n",
       "dist_between_client_and_merch      0\n",
       "trans_month                        0\n",
       "trans_day                          0\n",
       "hour                               0\n",
       "year                               0\n",
       "times_shopped_at_merchant          0\n",
       "times_shopped_at_merchant_year     0\n",
       "times_shopped_at_merchant_month    0\n",
       "times_shopped_at_merchant_day      0\n",
       "dtype: int64"
      ]
     },
     "execution_count": 6,
     "metadata": {},
     "output_type": "execute_result"
    }
   ],
   "source": [
    "(\n",
    "    sds\n",
    "    .isnull()\n",
    "    .sum()\n",
    "    .sort_values(ascending=False)\n",
    ")"
   ]
  },
  {
   "cell_type": "markdown",
   "metadata": {
    "cell_id": "93288bd693ae4f82bc6e35532ff09e0c",
    "deepnote_app_block_visible": true,
    "deepnote_app_coordinates": {
     "h": 5,
     "w": 12,
     "x": 0,
     "y": 0
    },
    "deepnote_cell_type": "text-cell-h2",
    "formattedRanges": [],
    "is_collapsed": false,
    "tags": []
   },
   "source": [
    "## ¿Cuántos valores nulos tenemos en total en el conjunto de datos?"
   ]
  },
  {
   "cell_type": "code",
   "execution_count": 8,
   "metadata": {
    "cell_id": "31f5d9da8c824ded854b4756ec02e794",
    "deepnote_cell_type": "code",
    "execution_context_id": "6439a2b6-47aa-4479-87fc-e4ed1f96a9d4",
    "execution_millis": 1707,
    "execution_start": 1743672223166,
    "source_hash": "dfc819a4"
   },
   "outputs": [
    {
     "data": {
      "text/plain": [
       "np.int64(0)"
      ]
     },
     "execution_count": 8,
     "metadata": {},
     "output_type": "execute_result"
    }
   ],
   "source": [
    "(\n",
    "    sds\n",
    "    .isnull()\n",
    "    .sum()\n",
    "    .sum()\n",
    ")"
   ]
  },
  {
   "cell_type": "markdown",
   "metadata": {
    "cell_id": "f38ce5505ccb4adb9f5372e7d7571d85",
    "deepnote_app_block_visible": true,
    "deepnote_app_coordinates": {
     "h": 5,
     "w": 12,
     "x": 0,
     "y": 0
    },
    "deepnote_cell_type": "text-cell-h2",
    "formattedRanges": [],
    "is_collapsed": false,
    "tags": []
   },
   "source": [
    "## ¿Cuál es la proporción de valores nulos por cada variable?"
   ]
  },
  {
   "cell_type": "code",
   "execution_count": 9,
   "metadata": {
    "cell_id": "c32e55c75c1b4af79b6cf14b3c146c27",
    "deepnote_cell_type": "code",
    "execution_context_id": "6c0810f5-dbd3-40a5-933a-68fcc7fa0e70",
    "execution_millis": 26312,
    "execution_start": 1743767876463,
    "source_hash": "ae9b2f01"
   },
   "outputs": [
    {
     "data": {
      "text/plain": [
       "<seaborn.axisgrid.FacetGrid at 0x1e106e44a90>"
      ]
     },
     "execution_count": 9,
     "metadata": {},
     "output_type": "execute_result"
    },
    {
     "data": {
      "image/png": "[encoded data removed]",
      "text/plain": [
       "<Figure size 1084.88x500 with 1 Axes>"
      ]
     },
     "metadata": {},
     "output_type": "display_data"
    }
   ],
   "source": [
    "import pandas as pd\n",
    "import seaborn as sns\n",
    "sds = pd.read_csv(\"dataset_feature_engineering.csv\")\n",
    "\n",
    "(\n",
    "    sds\n",
    "    .isnull()\n",
    "    .melt()\n",
    "    .pipe(\n",
    "        lambda df: (\n",
    "            sns.displot(\n",
    "                data=df,\n",
    "                y='variable',\n",
    "                hue='value',\n",
    "                multiple='fill',\n",
    "                aspect=2\n",
    "            )\n",
    "        )\n",
    "    )\n",
    ")"
   ]
  },
  {
   "cell_type": "markdown",
   "metadata": {
    "cell_id": "b4aec000005e444cb998d02943661c92",
    "deepnote_app_block_visible": true,
    "deepnote_app_coordinates": {
     "h": 5,
     "w": 12,
     "x": 0,
     "y": 0
    },
    "deepnote_cell_type": "text-cell-h2",
    "formattedRanges": [],
    "is_collapsed": false,
    "tags": []
   },
   "source": [
    "## ¿Cómo podemos visualizar los valores nulos en todo el conjunto de datos?"
   ]
  },
  {
   "cell_type": "code",
   "execution_count": 10,
   "metadata": {
    "cell_id": "a055ecf195ac49428cc916ae2b69c4cb",
    "deepnote_cell_type": "code",
    "execution_context_id": "67d2892e-6342-470c-8854-5cf378b5415d",
    "execution_millis": 1402,
    "execution_start": 1743768684273,
    "source_hash": "c9d2f67b"
   },
   "outputs": [],
   "source": [
    "import seaborn as sns"
   ]
  },
  {
   "cell_type": "code",
   "execution_count": null,
   "metadata": {
    "cell_id": "aeb8b6f2847e4da4b7929bce85fd1642",
    "deepnote_app_block_visible": true,
    "deepnote_app_coordinates": {
     "h": 5,
     "w": 12,
     "x": 0,
     "y": 204
    },
    "deepnote_cell_type": "code",
    "deepnote_to_be_reexecuted": false,
    "execution_context_id": "67d2892e-6342-470c-8854-5cf378b5415d",
    "execution_millis": 2215,
    "execution_start": 1743768688320,
    "output_cleared": false,
    "source_hash": "3c3c40e",
    "tags": []
   },
   "outputs": [],
   "source": [
    "(\n",
    "    sds\n",
    "    .isnull()\n",
    "    .transpose()\n",
    "    .pipe(\n",
    "        lambda df: sns.heatmap(data=df)\n",
    "    )\n",
    ")"
   ]
  },
  {
   "cell_type": "markdown",
   "metadata": {
    "cell_id": "9b69e1c366a643328d683fb4c5ecf646",
    "deepnote_app_block_visible": true,
    "deepnote_app_coordinates": {
     "h": 5,
     "w": 12,
     "x": 0,
     "y": 0
    },
    "deepnote_cell_type": "text-cell-h2",
    "formattedRanges": [],
    "is_collapsed": false,
    "tags": []
   },
   "source": [
    "## ¿Cuántas observaciones perdemos si eliminamos los datos faltantes?"
   ]
  },
  {
   "cell_type": "markdown",
   "metadata": {
    "cell_id": "d12d4c6287e243d181a6a1a0889756b6",
    "deepnote_app_block_visible": true,
    "deepnote_app_coordinates": {
     "h": 2,
     "w": 8,
     "x": 0,
     "y": 0
    },
    "deepnote_cell_type": "text-cell-h1",
    "formattedRanges": [],
    "is_collapsed": false,
    "tags": []
   },
   "source": [
    "# Conteos y proporciones"
   ]
  },
  {
   "cell_type": "markdown",
   "metadata": {
    "cell_id": "0e39bf6e70d140c18366b9d515cbde86",
    "deepnote_app_block_visible": true,
    "deepnote_app_coordinates": {
     "h": 2,
     "w": 8,
     "x": 0,
     "y": 0
    },
    "deepnote_cell_type": "text-cell-h2",
    "formattedRanges": [],
    "is_collapsed": false,
    "tags": []
   },
   "source": [
    "## Preludio: ¿Qué estadísticos describen el conjunto de datos?"
   ]
  },
  {
   "cell_type": "markdown",
   "metadata": {
    "cell_id": "11bc28a9c01141208f5f4fc88ad74e24",
    "deepnote_app_block_visible": true,
    "deepnote_app_coordinates": {
     "h": 2,
     "w": 8,
     "x": 0,
     "y": 0
    },
    "deepnote_cell_type": "text-cell-h3",
    "formattedRanges": [],
    "is_collapsed": false,
    "tags": []
   },
   "source": [
    "### Todas las variables"
   ]
  },
  {
   "cell_type": "code",
   "execution_count": null,
   "metadata": {
    "cell_id": "569d78cf82b946039a1a2718577604d8",
    "deepnote_cell_type": "code",
    "execution_context_id": "46faa112-0fd6-458c-917e-2d425ca98c2c",
    "execution_millis": 26395,
    "execution_start": 1743771585686,
    "source_hash": "ca9a0e82"
   },
   "outputs": [
    {
     "data": {
      "application/vnd.deepnote.dataframe.v3+json": {
       "column_count": 35,
       "columns": [
        {
         "dtype": "float64",
         "name": "cc_num",
         "stats": {
          "histogram": [
           {
            "bin_end": 499234639808182600,
            "bin_start": 1852394,
            "count": 6
           },
           {
            "bin_end": 998469279614512800,
            "bin_start": 499234639808182600,
            "count": 0
           },
           {
            "bin_end": 1497703919420843000,
            "bin_start": 998469279614512800,
            "count": 1
           },
           {
            "bin_end": 1996938559227173000,
            "bin_start": 1497703919420843000,
            "count": 0
           },
           {
            "bin_end": 2496173199033503000,
            "bin_start": 1996938559227173000,
            "count": 0
           },
           {
            "bin_end": 2995407838839833600,
            "bin_start": 2496173199033503000,
            "count": 0
           },
           {
            "bin_end": 3494642478646163500,
            "bin_start": 2995407838839833600,
            "count": 0
           },
           {
            "bin_end": 3993877118452494000,
            "bin_start": 3494642478646163500,
            "count": 0
           },
           {
            "bin_end": 4493111758258824000,
            "bin_start": 3993877118452494000,
            "count": 0
           },
           {
            "bin_end": 4992346398065154000,
            "bin_start": 4493111758258824000,
            "count": 1
           }
          ],
          "max": "4.992346398065154e+18",
          "min": "1852394.0",
          "nan_count": 3,
          "unique_count": 8
         }
        },
        {
         "dtype": "object",
         "name": "merchant",
         "stats": {
          "categories": [
           {
            "count": 1,
            "name": "1852394"
           },
           {
            "count": 3,
            "name": "3 others"
           },
           {
            "count": 7,
            "name": "Missing"
           }
          ],
          "nan_count": 7,
          "unique_count": 4
         }
        },
        {
         "dtype": "object",
         "name": "category",
         "stats": {
          "categories": [
           {
            "count": 1,
            "name": "1852394"
           },
           {
            "count": 3,
            "name": "3 others"
           },
           {
            "count": 7,
            "name": "Missing"
           }
          ],
          "nan_count": 7,
          "unique_count": 4
         }
        },
        {
         "dtype": "float64",
         "name": "amt",
         "stats": {
          "histogram": [
           {
            "bin_end": 185240.3,
            "bin_start": 1,
            "count": 7
           },
           {
            "bin_end": 370479.6,
            "bin_start": 185240.3,
            "count": 0
           },
           {
            "bin_end": 555718.8999999999,
            "bin_start": 370479.6,
            "count": 0
           },
           {
            "bin_end": 740958.2,
            "bin_start": 555718.8999999999,
            "count": 0
           },
           {
            "bin_end": 926197.5,
            "bin_start": 740958.2,
            "count": 0
           },
           {
            "bin_end": 1111436.7999999998,
            "bin_start": 926197.5,
            "count": 0
           },
           {
            "bin_end": 1296676.0999999999,
            "bin_start": 1111436.7999999998,
            "count": 0
           },
           {
            "bin_end": 1481915.4,
            "bin_start": 1296676.0999999999,
            "count": 0
           },
           {
            "bin_end": 1667154.7,
            "bin_start": 1481915.4,
            "count": 0
           },
           {
            "bin_end": 1852394,
            "bin_start": 1667154.7,
            "count": 1
           }
          ],
          "max": "1852394.0",
          "min": "1.0",
          "nan_count": 3,
          "unique_count": 8
         }
        },
        {
         "dtype": "object",
         "name": "first",
         "stats": {
          "categories": [
           {
            "count": 1,
            "name": "1852394"
           },
           {
            "count": 3,
            "name": "3 others"
           },
           {
            "count": 7,
            "name": "Missing"
           }
          ],
          "nan_count": 7,
          "unique_count": 4
         }
        },
        {
         "dtype": "object",
         "name": "last",
         "stats": {
          "categories": [
           {
            "count": 1,
            "name": "1852394"
           },
           {
            "count": 3,
            "name": "3 others"
           },
           {
            "count": 7,
            "name": "Missing"
           }
          ],
          "nan_count": 7,
          "unique_count": 4
         }
        },
        {
         "dtype": "object",
         "name": "gender",
         "stats": {
          "categories": [
           {
            "count": 1,
            "name": "1852394"
           },
           {
            "count": 3,
            "name": "3 others"
           },
           {
            "count": 7,
            "name": "Missing"
           }
          ],
          "nan_count": 7,
          "unique_count": 4
         }
        },
        {
         "dtype": "object",
         "name": "street",
         "stats": {
          "categories": [
           {
            "count": 1,
            "name": "1852394"
           },
           {
            "count": 3,
            "name": "3 others"
           },
           {
            "count": 7,
            "name": "Missing"
           }
          ],
          "nan_count": 7,
          "unique_count": 4
         }
        },
        {
         "dtype": "object",
         "name": "city",
         "stats": {
          "categories": [
           {
            "count": 1,
            "name": "1852394"
           },
           {
            "count": 3,
            "name": "3 others"
           },
           {
            "count": 7,
            "name": "Missing"
           }
          ],
          "nan_count": 7,
          "unique_count": 4
         }
        },
        {
         "dtype": "object",
         "name": "state",
         "stats": {
          "categories": [
           {
            "count": 1,
            "name": "1852394"
           },
           {
            "count": 3,
            "name": "3 others"
           },
           {
            "count": 7,
            "name": "Missing"
           }
          ],
          "nan_count": 7,
          "unique_count": 4
         }
        },
        {
         "dtype": "float64",
         "name": "zip",
         "stats": {
          "histogram": [
           {
            "bin_end": 186370.7,
            "bin_start": 1257,
            "count": 7
           },
           {
            "bin_end": 371484.4,
            "bin_start": 186370.7,
            "count": 0
           },
           {
            "bin_end": 556598.1000000001,
            "bin_start": 371484.4,
            "count": 0
           },
           {
            "bin_end": 741711.8,
            "bin_start": 556598.1000000001,
            "count": 0
           },
           {
            "bin_end": 926825.5,
            "bin_start": 741711.8,
            "count": 0
           },
           {
            "bin_end": 1111939.2000000002,
            "bin_start": 926825.5,
            "count": 0
           },
           {
            "bin_end": 1297052.9000000001,
            "bin_start": 1111939.2000000002,
            "count": 0
           },
           {
            "bin_end": 1482166.6,
            "bin_start": 1297052.9000000001,
            "count": 0
           },
           {
            "bin_end": 1667280.3,
            "bin_start": 1482166.6,
            "count": 0
           },
           {
            "bin_end": 1852394,
            "bin_start": 1667280.3,
            "count": 1
           }
          ],
          "max": "1852394.0",
          "min": "1257.0",
          "nan_count": 3,
          "unique_count": 8
         }
        },
        {
         "dtype": "float64",
         "name": "lat",
         "stats": {
          "histogram": [
           {
            "bin_end": 185243.96432335224,
            "bin_start": 5.071470391380581,
            "count": 7
           },
           {
            "bin_end": 370482.85717631306,
            "bin_start": 185243.96432335224,
            "count": 0
           },
           {
            "bin_end": 555721.7500292739,
            "bin_start": 370482.85717631306,
            "count": 0
           },
           {
            "bin_end": 740960.6428822348,
            "bin_start": 555721.7500292739,
            "count": 0
           },
           {
            "bin_end": 926199.5357351956,
            "bin_start": 740960.6428822348,
            "count": 0
           },
           {
            "bin_end": 1111438.4285881566,
            "bin_start": 926199.5357351956,
            "count": 0
           },
           {
            "bin_end": 1296677.3214411174,
            "bin_start": 1111438.4285881566,
            "count": 0
           },
           {
            "bin_end": 1481916.2142940783,
            "bin_start": 1296677.3214411174,
            "count": 0
           },
           {
            "bin_end": 1667155.1071470391,
            "bin_start": 1481916.2142940783,
            "count": 0
           },
           {
            "bin_end": 1852394,
            "bin_start": 1667155.1071470391,
            "count": 1
           }
          ],
          "max": "1852394.0",
          "min": "5.071470391380581",
          "nan_count": 3,
          "unique_count": 8
         }
        },
        {
         "dtype": "float64",
         "name": "long",
         "stats": {
          "histogram": [
           {
            "bin_end": 185090.29493,
            "bin_start": -165.6723,
            "count": 7
           },
           {
            "bin_end": 370346.26216000004,
            "bin_start": 185090.29493,
            "count": 0
           },
           {
            "bin_end": 555602.22939,
            "bin_start": 370346.26216000004,
            "count": 0
           },
           {
            "bin_end": 740858.1966200001,
            "bin_start": 555602.22939,
            "count": 0
           },
           {
            "bin_end": 926114.1638500001,
            "bin_start": 740858.1966200001,
            "count": 0
           },
           {
            "bin_end": 1111370.13108,
            "bin_start": 926114.1638500001,
            "count": 0
           },
           {
            "bin_end": 1296626.09831,
            "bin_start": 1111370.13108,
            "count": 0
           },
           {
            "bin_end": 1481882.06554,
            "bin_start": 1296626.09831,
            "count": 0
           },
           {
            "bin_end": 1667138.0327700002,
            "bin_start": 1481882.06554,
            "count": 0
           },
           {
            "bin_end": 1852394,
            "bin_start": 1667138.0327700002,
            "count": 1
           }
          ],
          "max": "1852394.0",
          "min": "-165.6723",
          "nan_count": 3,
          "unique_count": 8
         }
        },
        {
         "dtype": "float64",
         "name": "city_pop",
         "stats": {
          "histogram": [
           {
            "bin_end": 290690.7,
            "bin_start": 23,
            "count": 5
           },
           {
            "bin_end": 581358.4,
            "bin_start": 290690.7,
            "count": 1
           },
           {
            "bin_end": 872026.1000000001,
            "bin_start": 581358.4,
            "count": 0
           },
           {
            "bin_end": 1162693.8,
            "bin_start": 872026.1000000001,
            "count": 0
           },
           {
            "bin_end": 1453361.5,
            "bin_start": 1162693.8,
            "count": 0
           },
           {
            "bin_end": 1744029.2000000002,
            "bin_start": 1453361.5,
            "count": 0
           },
           {
            "bin_end": 2034696.9000000001,
            "bin_start": 1744029.2000000002,
            "count": 1
           },
           {
            "bin_end": 2325364.6,
            "bin_start": 2034696.9000000001,
            "count": 0
           },
           {
            "bin_end": 2616032.3000000003,
            "bin_start": 2325364.6,
            "count": 0
           },
           {
            "bin_end": 2906700,
            "bin_start": 2616032.3000000003,
            "count": 1
           }
          ],
          "max": "2906700.0",
          "min": "23.0",
          "nan_count": 3,
          "unique_count": 8
         }
        },
        {
         "dtype": "object",
         "name": "job",
         "stats": {
          "categories": [
           {
            "count": 1,
            "name": "1852394"
           },
           {
            "count": 3,
            "name": "3 others"
           },
           {
            "count": 7,
            "name": "Missing"
           }
          ],
          "nan_count": 7,
          "unique_count": 4
         }
        },
        {
         "dtype": "object",
         "name": "dob",
         "stats": {
          "categories": [
           {
            "count": 1,
            "name": "1852394"
           },
           {
            "count": 3,
            "name": "3 others"
           },
           {
            "count": 7,
            "name": "Missing"
           }
          ],
          "nan_count": 7,
          "unique_count": 4
         }
        },
        {
         "dtype": "object",
         "name": "trans_num",
         "stats": {
          "categories": [
           {
            "count": 2,
            "name": "1852394"
           },
           {
            "count": 2,
            "name": "2 others"
           },
           {
            "count": 7,
            "name": "Missing"
           }
          ],
          "nan_count": 7,
          "unique_count": 3
         }
        },
        {
         "dtype": "float64",
         "name": "unix_time",
         "stats": {
          "histogram": [
           {
            "bin_end": 140520592,
            "bin_start": 1852394,
            "count": 2
           },
           {
            "bin_end": 279188790,
            "bin_start": 140520592,
            "count": 0
           },
           {
            "bin_end": 417856988,
            "bin_start": 279188790,
            "count": 0
           },
           {
            "bin_end": 556525186,
            "bin_start": 417856988,
            "count": 0
           },
           {
            "bin_end": 695193384,
            "bin_start": 556525186,
            "count": 0
           },
           {
            "bin_end": 833861582,
            "bin_start": 695193384,
            "count": 0
           },
           {
            "bin_end": 972529780,
            "bin_start": 833861582,
            "count": 0
           },
           {
            "bin_end": 1111197978,
            "bin_start": 972529780,
            "count": 0
           },
           {
            "bin_end": 1249866176,
            "bin_start": 1111197978,
            "count": 0
           },
           {
            "bin_end": 1388534374,
            "bin_start": 1249866176,
            "count": 6
           }
          ],
          "max": "1388534374.0",
          "min": "1852394.0",
          "nan_count": 3,
          "unique_count": 8
         }
        },
        {
         "dtype": "float64",
         "name": "merch_lat",
         "stats": {
          "histogram": [
           {
            "bin_end": 185243.99504348982,
            "bin_start": 5.10560387759281,
            "count": 7
           },
           {
            "bin_end": 370482.884483102,
            "bin_start": 185243.99504348982,
            "count": 0
           },
           {
            "bin_end": 555721.7739227143,
            "bin_start": 370482.884483102,
            "count": 0
           },
           {
            "bin_end": 740960.6633623264,
            "bin_start": 555721.7739227143,
            "count": 0
           },
           {
            "bin_end": 926199.5528019386,
            "bin_start": 740960.6633623264,
            "count": 0
           },
           {
            "bin_end": 1111438.4422415511,
            "bin_start": 926199.5528019386,
            "count": 0
           },
           {
            "bin_end": 1296677.3316811633,
            "bin_start": 1111438.4422415511,
            "count": 0
           },
           {
            "bin_end": 1481916.2211207754,
            "bin_start": 1296677.3316811633,
            "count": 0
           },
           {
            "bin_end": 1667155.1105603876,
            "bin_start": 1481916.2211207754,
            "count": 0
           },
           {
            "bin_end": 1852394,
            "bin_start": 1667155.1105603876,
            "count": 1
           }
          ],
          "max": "1852394.0",
          "min": "5.10560387759281",
          "nan_count": 3,
          "unique_count": 8
         }
        },
        {
         "dtype": "float64",
         "name": "merch_long",
         "stats": {
          "histogram": [
           {
            "bin_end": 185089.39558250003,
            "bin_start": -166.671575,
            "count": 7
           },
           {
            "bin_end": 370345.46274000005,
            "bin_start": 185089.39558250003,
            "count": 0
           },
           {
            "bin_end": 555601.5298975001,
            "bin_start": 370345.46274000005,
            "count": 0
           },
           {
            "bin_end": 740857.597055,
            "bin_start": 555601.5298975001,
            "count": 0
           },
           {
            "bin_end": 926113.6642125,
            "bin_start": 740857.597055,
            "count": 0
           },
           {
            "bin_end": 1111369.7313700002,
            "bin_start": 926113.6642125,
            "count": 0
           },
           {
            "bin_end": 1296625.7985275001,
            "bin_start": 1111369.7313700002,
            "count": 0
           },
           {
            "bin_end": 1481881.865685,
            "bin_start": 1296625.7985275001,
            "count": 0
           },
           {
            "bin_end": 1667137.9328425,
            "bin_start": 1481881.865685,
            "count": 0
           },
           {
            "bin_end": 1852394,
            "bin_start": 1667137.9328425,
            "count": 1
           }
          ],
          "max": "1852394.0",
          "min": "-166.671575",
          "nan_count": 3,
          "unique_count": 8
         }
        },
        {
         "dtype": "float64",
         "name": "is_fraud",
         "stats": {
          "histogram": [
           {
            "bin_end": 185239.4,
            "bin_start": 0,
            "count": 7
           },
           {
            "bin_end": 370478.8,
            "bin_start": 185239.4,
            "count": 0
           },
           {
            "bin_end": 555718.2,
            "bin_start": 370478.8,
            "count": 0
           },
           {
            "bin_end": 740957.6,
            "bin_start": 555718.2,
            "count": 0
           },
           {
            "bin_end": 926197,
            "bin_start": 740957.6,
            "count": 0
           },
           {
            "bin_end": 1111436.4,
            "bin_start": 926197,
            "count": 0
           },
           {
            "bin_end": 1296675.8,
            "bin_start": 1111436.4,
            "count": 0
           },
           {
            "bin_end": 1481915.2,
            "bin_start": 1296675.8,
            "count": 0
           },
           {
            "bin_end": 1667154.5999999999,
            "bin_start": 1481915.2,
            "count": 0
           },
           {
            "bin_end": 1852394,
            "bin_start": 1667154.5999999999,
            "count": 1
           }
          ],
          "max": "1852394.0",
          "min": "0.0",
          "nan_count": 3,
          "unique_count": 5
         }
        },
        {
         "dtype": "float64",
         "name": "amt_month",
         "stats": {
          "histogram": [
           {
            "bin_end": 185240.3,
            "bin_start": 1,
            "count": 7
           },
           {
            "bin_end": 370479.6,
            "bin_start": 185240.3,
            "count": 0
           },
           {
            "bin_end": 555718.8999999999,
            "bin_start": 370479.6,
            "count": 0
           },
           {
            "bin_end": 740958.2,
            "bin_start": 555718.8999999999,
            "count": 0
           },
           {
            "bin_end": 926197.5,
            "bin_start": 740958.2,
            "count": 0
           },
           {
            "bin_end": 1111436.7999999998,
            "bin_start": 926197.5,
            "count": 0
           },
           {
            "bin_end": 1296676.0999999999,
            "bin_start": 1111436.7999999998,
            "count": 0
           },
           {
            "bin_end": 1481915.4,
            "bin_start": 1296676.0999999999,
            "count": 0
           },
           {
            "bin_end": 1667154.7,
            "bin_start": 1481915.4,
            "count": 0
           },
           {
            "bin_end": 1852394,
            "bin_start": 1667154.7,
            "count": 1
           }
          ],
          "max": "1852394.0",
          "min": "1.0",
          "nan_count": 3,
          "unique_count": 8
         }
        },
        {
         "dtype": "float64",
         "name": "amt_year",
         "stats": {
          "histogram": [
           {
            "bin_end": 185240.318,
            "bin_start": 1.02,
            "count": 6
           },
           {
            "bin_end": 370479.61600000004,
            "bin_start": 185240.318,
            "count": 1
           },
           {
            "bin_end": 555718.9140000001,
            "bin_start": 370479.61600000004,
            "count": 0
           },
           {
            "bin_end": 740958.212,
            "bin_start": 555718.9140000001,
            "count": 0
           },
           {
            "bin_end": 926197.51,
            "bin_start": 740958.212,
            "count": 0
           },
           {
            "bin_end": 1111436.8080000002,
            "bin_start": 926197.51,
            "count": 0
           },
           {
            "bin_end": 1296676.1060000001,
            "bin_start": 1111436.8080000002,
            "count": 0
           },
           {
            "bin_end": 1481915.404,
            "bin_start": 1296676.1060000001,
            "count": 0
           },
           {
            "bin_end": 1667154.702,
            "bin_start": 1481915.404,
            "count": 0
           },
           {
            "bin_end": 1852394,
            "bin_start": 1667154.702,
            "count": 1
           }
          ],
          "max": "1852394.0",
          "min": "1.02",
          "nan_count": 3,
          "unique_count": 8
         }
        },
        {
         "dtype": "float64",
         "name": "amt_month_shopping_net_spend",
         "stats": {
          "histogram": [
           {
            "bin_end": 185239.4,
            "bin_start": 0,
            "count": 7
           },
           {
            "bin_end": 370478.8,
            "bin_start": 185239.4,
            "count": 0
           },
           {
            "bin_end": 555718.2,
            "bin_start": 370478.8,
            "count": 0
           },
           {
            "bin_end": 740957.6,
            "bin_start": 555718.2,
            "count": 0
           },
           {
            "bin_end": 926197,
            "bin_start": 740957.6,
            "count": 0
           },
           {
            "bin_end": 1111436.4,
            "bin_start": 926197,
            "count": 0
           },
           {
            "bin_end": 1296675.8,
            "bin_start": 1111436.4,
            "count": 0
           },
           {
            "bin_end": 1481915.2,
            "bin_start": 1296675.8,
            "count": 0
           },
           {
            "bin_end": 1667154.5999999999,
            "bin_start": 1481915.2,
            "count": 0
           },
           {
            "bin_end": 1852394,
            "bin_start": 1667154.5999999999,
            "count": 1
           }
          ],
          "max": "1852394.0",
          "min": "0.0",
          "nan_count": 3,
          "unique_count": 8
         }
        },
        {
         "dtype": "float64",
         "name": "count_month_shopping_net",
         "stats": {
          "histogram": [
           {
            "bin_end": 185239.4,
            "bin_start": 0,
            "count": 7
           },
           {
            "bin_end": 370478.8,
            "bin_start": 185239.4,
            "count": 0
           },
           {
            "bin_end": 555718.2,
            "bin_start": 370478.8,
            "count": 0
           },
           {
            "bin_end": 740957.6,
            "bin_start": 555718.2,
            "count": 0
           },
           {
            "bin_end": 926197,
            "bin_start": 740957.6,
            "count": 0
           },
           {
            "bin_end": 1111436.4,
            "bin_start": 926197,
            "count": 0
           },
           {
            "bin_end": 1296675.8,
            "bin_start": 1111436.4,
            "count": 0
           },
           {
            "bin_end": 1481915.2,
            "bin_start": 1296675.8,
            "count": 0
           },
           {
            "bin_end": 1667154.5999999999,
            "bin_start": 1481915.2,
            "count": 0
           },
           {
            "bin_end": 1852394,
            "bin_start": 1667154.5999999999,
            "count": 1
           }
          ],
          "max": "1852394.0",
          "min": "0.0",
          "nan_count": 3,
          "unique_count": 8
         }
        },
        {
         "dtype": "object",
         "name": "first_time_at_merchant",
         "stats": {
          "categories": [
           {
            "count": 1,
            "name": "1852394"
           },
           {
            "count": 3,
            "name": "3 others"
           },
           {
            "count": 7,
            "name": "Missing"
           }
          ],
          "nan_count": 7,
          "unique_count": 4
         }
        },
        {
         "dtype": "float64",
         "name": "dist_between_client_and_merch",
         "stats": {
          "histogram": [
           {
            "bin_end": 185239.420046162,
            "bin_start": 0.0222735133501133,
            "count": 7
           },
           {
            "bin_end": 370478.8178188107,
            "bin_start": 185239.420046162,
            "count": 0
           },
           {
            "bin_end": 555718.2155914594,
            "bin_start": 370478.8178188107,
            "count": 0
           },
           {
            "bin_end": 740957.613364108,
            "bin_start": 555718.2155914594,
            "count": 0
           },
           {
            "bin_end": 926197.0111367566,
            "bin_start": 740957.613364108,
            "count": 0
           },
           {
            "bin_end": 1111436.4089094053,
            "bin_start": 926197.0111367566,
            "count": 0
           },
           {
            "bin_end": 1296675.806682054,
            "bin_start": 1111436.4089094053,
            "count": 0
           },
           {
            "bin_end": 1481915.2044547026,
            "bin_start": 1296675.806682054,
            "count": 0
           },
           {
            "bin_end": 1667154.6022273512,
            "bin_start": 1481915.2044547026,
            "count": 0
           },
           {
            "bin_end": 1852394,
            "bin_start": 1667154.6022273512,
            "count": 1
           }
          ],
          "max": "1852394.0",
          "min": "0.0222735133501133",
          "nan_count": 3,
          "unique_count": 8
         }
        },
        {
         "dtype": "float64",
         "name": "trans_month",
         "stats": {
          "histogram": [
           {
            "bin_end": 185240.3,
            "bin_start": 1,
            "count": 7
           },
           {
            "bin_end": 370479.6,
            "bin_start": 185240.3,
            "count": 0
           },
           {
            "bin_end": 555718.8999999999,
            "bin_start": 370479.6,
            "count": 0
           },
           {
            "bin_end": 740958.2,
            "bin_start": 555718.8999999999,
            "count": 0
           },
           {
            "bin_end": 926197.5,
            "bin_start": 740958.2,
            "count": 0
           },
           {
            "bin_end": 1111436.7999999998,
            "bin_start": 926197.5,
            "count": 0
           },
           {
            "bin_end": 1296676.0999999999,
            "bin_start": 1111436.7999999998,
            "count": 0
           },
           {
            "bin_end": 1481915.4,
            "bin_start": 1296676.0999999999,
            "count": 0
           },
           {
            "bin_end": 1667154.7,
            "bin_start": 1481915.4,
            "count": 0
           },
           {
            "bin_end": 1852394,
            "bin_start": 1667154.7,
            "count": 1
           }
          ],
          "max": "1852394.0",
          "min": "1.0",
          "nan_count": 3,
          "unique_count": 8
         }
        },
        {
         "dtype": "float64",
         "name": "trans_day",
         "stats": {
          "histogram": [
           {
            "bin_end": 185239.4,
            "bin_start": 0,
            "count": 7
           },
           {
            "bin_end": 370478.8,
            "bin_start": 185239.4,
            "count": 0
           },
           {
            "bin_end": 555718.2,
            "bin_start": 370478.8,
            "count": 0
           },
           {
            "bin_end": 740957.6,
            "bin_start": 555718.2,
            "count": 0
           },
           {
            "bin_end": 926197,
            "bin_start": 740957.6,
            "count": 0
           },
           {
            "bin_end": 1111436.4,
            "bin_start": 926197,
            "count": 0
           },
           {
            "bin_end": 1296675.8,
            "bin_start": 1111436.4,
            "count": 0
           },
           {
            "bin_end": 1481915.2,
            "bin_start": 1296675.8,
            "count": 0
           },
           {
            "bin_end": 1667154.5999999999,
            "bin_start": 1481915.2,
            "count": 0
           },
           {
            "bin_end": 1852394,
            "bin_start": 1667154.5999999999,
            "count": 1
           }
          ],
          "max": "1852394.0",
          "min": "0.0",
          "nan_count": 3,
          "unique_count": 8
         }
        },
        {
         "dtype": "float64",
         "name": "hour",
         "stats": {
          "histogram": [
           {
            "bin_end": 185239.4,
            "bin_start": 0,
            "count": 7
           },
           {
            "bin_end": 370478.8,
            "bin_start": 185239.4,
            "count": 0
           },
           {
            "bin_end": 555718.2,
            "bin_start": 370478.8,
            "count": 0
           },
           {
            "bin_end": 740957.6,
            "bin_start": 555718.2,
            "count": 0
           },
           {
            "bin_end": 926197,
            "bin_start": 740957.6,
            "count": 0
           },
           {
            "bin_end": 1111436.4,
            "bin_start": 926197,
            "count": 0
           },
           {
            "bin_end": 1296675.8,
            "bin_start": 1111436.4,
            "count": 0
           },
           {
            "bin_end": 1481915.2,
            "bin_start": 1296675.8,
            "count": 0
           },
           {
            "bin_end": 1667154.5999999999,
            "bin_start": 1481915.2,
            "count": 0
           },
           {
            "bin_end": 1852394,
            "bin_start": 1667154.5999999999,
            "count": 1
           }
          ],
          "max": "1852394.0",
          "min": "0.0",
          "nan_count": 3,
          "unique_count": 8
         }
        },
        {
         "dtype": "float64",
         "name": "year",
         "stats": {
          "histogram": [
           {
            "bin_end": 185239.84999964558,
            "bin_start": 0.4999996061881091,
            "count": 7
           },
           {
            "bin_end": 370479.19999968493,
            "bin_start": 185239.84999964558,
            "count": 0
           },
           {
            "bin_end": 555718.5499997243,
            "bin_start": 370479.19999968493,
            "count": 0
           },
           {
            "bin_end": 740957.8999997637,
            "bin_start": 555718.5499997243,
            "count": 0
           },
           {
            "bin_end": 926197.2499998031,
            "bin_start": 740957.8999997637,
            "count": 0
           },
           {
            "bin_end": 1111436.5999998425,
            "bin_start": 926197.2499998031,
            "count": 0
           },
           {
            "bin_end": 1296675.949999882,
            "bin_start": 1111436.5999998425,
            "count": 0
           },
           {
            "bin_end": 1481915.2999999213,
            "bin_start": 1296675.949999882,
            "count": 0
           },
           {
            "bin_end": 1667154.6499999608,
            "bin_start": 1481915.2999999213,
            "count": 0
           },
           {
            "bin_end": 1852394,
            "bin_start": 1667154.6499999608,
            "count": 1
           }
          ],
          "max": "1852394.0",
          "min": "0.4999996061881091",
          "nan_count": 3,
          "unique_count": 5
         }
        },
        {
         "dtype": "float64",
         "name": "times_shopped_at_merchant",
         "stats": {
          "histogram": [
           {
            "bin_end": 185240.3,
            "bin_start": 1,
            "count": 7
           },
           {
            "bin_end": 370479.6,
            "bin_start": 185240.3,
            "count": 0
           },
           {
            "bin_end": 555718.8999999999,
            "bin_start": 370479.6,
            "count": 0
           },
           {
            "bin_end": 740958.2,
            "bin_start": 555718.8999999999,
            "count": 0
           },
           {
            "bin_end": 926197.5,
            "bin_start": 740958.2,
            "count": 0
           },
           {
            "bin_end": 1111436.7999999998,
            "bin_start": 926197.5,
            "count": 0
           },
           {
            "bin_end": 1296676.0999999999,
            "bin_start": 1111436.7999999998,
            "count": 0
           },
           {
            "bin_end": 1481915.4,
            "bin_start": 1296676.0999999999,
            "count": 0
           },
           {
            "bin_end": 1667154.7,
            "bin_start": 1481915.4,
            "count": 0
           },
           {
            "bin_end": 1852394,
            "bin_start": 1667154.7,
            "count": 1
           }
          ],
          "max": "1852394.0",
          "min": "1.0",
          "nan_count": 3,
          "unique_count": 8
         }
        },
        {
         "dtype": "float64",
         "name": "times_shopped_at_merchant_year",
         "stats": {
          "histogram": [
           {
            "bin_end": 185240.3,
            "bin_start": 1,
            "count": 7
           },
           {
            "bin_end": 370479.6,
            "bin_start": 185240.3,
            "count": 0
           },
           {
            "bin_end": 555718.8999999999,
            "bin_start": 370479.6,
            "count": 0
           },
           {
            "bin_end": 740958.2,
            "bin_start": 555718.8999999999,
            "count": 0
           },
           {
            "bin_end": 926197.5,
            "bin_start": 740958.2,
            "count": 0
           },
           {
            "bin_end": 1111436.7999999998,
            "bin_start": 926197.5,
            "count": 0
           },
           {
            "bin_end": 1296676.0999999999,
            "bin_start": 1111436.7999999998,
            "count": 0
           },
           {
            "bin_end": 1481915.4,
            "bin_start": 1296676.0999999999,
            "count": 0
           },
           {
            "bin_end": 1667154.7,
            "bin_start": 1481915.4,
            "count": 0
           },
           {
            "bin_end": 1852394,
            "bin_start": 1667154.7,
            "count": 1
           }
          ],
          "max": "1852394.0",
          "min": "1.0",
          "nan_count": 3,
          "unique_count": 8
         }
        },
        {
         "dtype": "float64",
         "name": "times_shopped_at_merchant_month",
         "stats": {
          "histogram": [
           {
            "bin_end": 185240.005030268,
            "bin_start": 0.672255853298444,
            "count": 7
           },
           {
            "bin_end": 370479.33780468267,
            "bin_start": 185240.005030268,
            "count": 0
           },
           {
            "bin_end": 555718.6705790974,
            "bin_start": 370479.33780468267,
            "count": 0
           },
           {
            "bin_end": 740958.003353512,
            "bin_start": 555718.6705790974,
            "count": 0
           },
           {
            "bin_end": 926197.3361279267,
            "bin_start": 740958.003353512,
            "count": 0
           },
           {
            "bin_end": 1111436.6689023413,
            "bin_start": 926197.3361279267,
            "count": 0
           },
           {
            "bin_end": 1296676.001676756,
            "bin_start": 1111436.6689023413,
            "count": 0
           },
           {
            "bin_end": 1481915.3344511706,
            "bin_start": 1296676.001676756,
            "count": 0
           },
           {
            "bin_end": 1667154.6672255853,
            "bin_start": 1481915.3344511706,
            "count": 0
           },
           {
            "bin_end": 1852394,
            "bin_start": 1667154.6672255853,
            "count": 1
           }
          ],
          "max": "1852394.0",
          "min": "0.672255853298444",
          "nan_count": 3,
          "unique_count": 6
         }
        },
        {
         "dtype": "float64",
         "name": "times_shopped_at_merchant_day",
         "stats": {
          "histogram": [
           {
            "bin_end": 185240.2123310545,
            "bin_start": 0.9025900605541289,
            "count": 7
           },
           {
            "bin_end": 370479.52207204845,
            "bin_start": 185240.2123310545,
            "count": 0
           },
           {
            "bin_end": 555718.8318130425,
            "bin_start": 370479.52207204845,
            "count": 0
           },
           {
            "bin_end": 740958.1415540364,
            "bin_start": 555718.8318130425,
            "count": 0
           },
           {
            "bin_end": 926197.4512950303,
            "bin_start": 740958.1415540364,
            "count": 0
           },
           {
            "bin_end": 1111436.7610360244,
            "bin_start": 926197.4512950303,
            "count": 0
           },
           {
            "bin_end": 1296676.0707770183,
            "bin_start": 1111436.7610360244,
            "count": 0
           },
           {
            "bin_end": 1481915.3805180122,
            "bin_start": 1296676.0707770183,
            "count": 0
           },
           {
            "bin_end": 1667154.690259006,
            "bin_start": 1481915.3805180122,
            "count": 0
           },
           {
            "bin_end": 1852394,
            "bin_start": 1667154.690259006,
            "count": 1
           }
          ],
          "max": "1852394.0",
          "min": "0.9025900605541289",
          "nan_count": 3,
          "unique_count": 6
         }
        },
        {
         "dtype": "object",
         "name": "_deepnote_index_column"
        }
       ],
       "row_count": 11,
       "rows": [
        {
         "_deepnote_index_column": "count",
         "amt": 1852394,
         "amt_month": 1852394,
         "amt_month_shopping_net_spend": 1852394,
         "amt_year": 1852394,
         "category": "1852394",
         "cc_num": 1852394,
         "city": "1852394",
         "city_pop": 1852394,
         "count_month_shopping_net": 1852394,
         "dist_between_client_and_merch": 1852394,
         "dob": "1852394",
         "first": "1852394",
         "first_time_at_merchant": "1852394",
         "gender": "1852394",
         "hour": 1852394,
         "is_fraud": 1852394,
         "job": "1852394",
         "last": "1852394",
         "lat": 1852394,
         "long": 1852394,
         "merch_lat": 1852394,
         "merch_long": 1852394,
         "merchant": "1852394",
         "state": "1852394",
         "street": "1852394",
         "times_shopped_at_merchant": 1852394,
         "times_shopped_at_merchant_day": 1852394,
         "times_shopped_at_merchant_month": 1852394,
         "times_shopped_at_merchant_year": 1852394,
         "trans_day": 1852394,
         "trans_month": 1852394,
         "trans_num": "1852394",
         "unix_time": 1852394,
         "year": 1852394,
         "zip": 1852394
        },
        {
         "_deepnote_index_column": "unique",
         "amt": "nan",
         "amt_month": "nan",
         "amt_month_shopping_net_spend": "nan",
         "amt_year": "nan",
         "category": "14",
         "cc_num": "nan",
         "city": "906",
         "city_pop": "nan",
         "count_month_shopping_net": "nan",
         "dist_between_client_and_merch": "nan",
         "dob": "984",
         "first": "355",
         "first_time_at_merchant": "2",
         "gender": "2",
         "hour": "nan",
         "is_fraud": "nan",
         "job": "497",
         "last": "486",
         "lat": "nan",
         "long": "nan",
         "merch_lat": "nan",
         "merch_long": "nan",
         "merchant": "693",
         "state": "51",
         "street": "999",
         "times_shopped_at_merchant": "nan",
         "times_shopped_at_merchant_day": "nan",
         "times_shopped_at_merchant_month": "nan",
         "times_shopped_at_merchant_year": "nan",
         "trans_day": "nan",
         "trans_month": "nan",
         "trans_num": "1852394",
         "unix_time": "nan",
         "year": "nan",
         "zip": "nan"
        },
        {
         "_deepnote_index_column": "top",
         "amt": "nan",
         "amt_month": "nan",
         "amt_month_shopping_net_spend": "nan",
         "amt_year": "nan",
         "category": "gas_transport",
         "cc_num": "nan",
         "city": "Birmingham",
         "city_pop": "nan",
         "count_month_shopping_net": "nan",
         "dist_between_client_and_merch": "nan",
         "dob": "1977-03-23",
         "first": "Christopher",
         "first_time_at_merchant": "False",
         "gender": "F",
         "hour": "nan",
         "is_fraud": "nan",
         "job": "Film/video editor",
         "last": "Smith",
         "lat": "nan",
         "long": "nan",
         "merch_lat": "nan",
         "merch_long": "nan",
         "merchant": "fraud_Kilback LLC",
         "state": "TX",
         "street": "444 Robert Mews",
         "times_shopped_at_merchant": "nan",
         "times_shopped_at_merchant_day": "nan",
         "times_shopped_at_merchant_month": "nan",
         "times_shopped_at_merchant_year": "nan",
         "trans_day": "nan",
         "trans_month": "nan",
         "trans_num": "0b242abb623afc578575680df30655b9",
         "unix_time": "nan",
         "year": "nan",
         "zip": "nan"
        },
        {
         "_deepnote_index_column": "freq",
         "amt": "nan",
         "amt_month": "nan",
         "amt_month_shopping_net_spend": "nan",
         "amt_year": "nan",
         "category": "188029",
         "cc_num": "nan",
         "city": "8040",
         "city_pop": "nan",
         "count_month_shopping_net": "nan",
         "dist_between_client_and_merch": "nan",
         "dob": "8044",
         "first": "38112",
         "first_time_at_merchant": "1323066",
         "gender": "1014749",
         "hour": "nan",
         "is_fraud": "nan",
         "job": "13898",
         "last": "40940",
         "lat": "nan",
         "long": "nan",
         "merch_lat": "nan",
         "merch_long": "nan",
         "merchant": "6262",
         "state": "135269",
         "street": "4392",
         "times_shopped_at_merchant": "nan",
         "times_shopped_at_merchant_day": "nan",
         "times_shopped_at_merchant_month": "nan",
         "times_shopped_at_merchant_year": "nan",
         "trans_day": "nan",
         "trans_month": "nan",
         "trans_num": "1",
         "unix_time": "nan",
         "year": "nan",
         "zip": "nan"
        },
        {
         "_deepnote_index_column": "mean",
         "amt": 70.06356747538595,
         "amt_month": 4153.688992573931,
         "amt_month_shopping_net_spend": 376.2028012237137,
         "amt_year": 45305.59731490709,
         "category": "nan",
         "cc_num": 417386038393710400,
         "city": "nan",
         "city_pop": 88643.67450931066,
         "count_month_shopping_net": 4.567241094497175,
         "dist_between_client_and_merch": 76.10955815096905,
         "dob": "nan",
         "first": "nan",
         "first_time_at_merchant": "nan",
         "gender": "nan",
         "hour": 12.806119000601385,
         "is_fraud": 0.005210014716091717,
         "job": "nan",
         "last": "nan",
         "lat": 38.539310979251724,
         "long": -90.22783229070049,
         "merch_lat": 38.53897596705938,
         "merch_long": -90.22793950913791,
         "merchant": "nan",
         "state": "nan",
         "street": "nan",
         "times_shopped_at_merchant": 5.298079134352627,
         "times_shopped_at_merchant_day": 1.6554415529309638,
         "times_shopped_at_merchant_month": 1.3891094443190812,
         "times_shopped_at_merchant_year": 3.150459351520249,
         "trans_day": 2.967456167532393,
         "trans_month": 7.152067000864827,
         "trans_num": "nan",
         "unix_time": 1358674218.8343642,
         "year": 2019.5007271671145,
         "zip": 48813.25819075207
        },
        {
         "_deepnote_index_column": "std",
         "amt": 159.25397477398332,
         "amt_month": 3909.005376718425,
         "amt_month_shopping_net_spend": 725.3530718426995,
         "amt_year": 35867.52246564399,
         "category": "nan",
         "cc_num": 1309115265318734800,
         "city": "nan",
         "city_pop": 301487.6183436502,
         "count_month_shopping_net": 4.575502404205457,
         "dist_between_client_and_merch": 29.09273108329223,
         "dob": "nan",
         "first": "nan",
         "first_time_at_merchant": "nan",
         "gender": "nan",
         "hour": 6.8157529461330695,
         "is_fraud": 0.07199217499619152,
         "job": "nan",
         "last": "nan",
         "lat": 5.071470391380581,
         "long": 13.747894882569092,
         "merch_lat": 5.10560387759281,
         "merch_long": 13.759692112582876,
         "merchant": "nan",
         "state": "nan",
         "street": "nan",
         "times_shopped_at_merchant": 3.0943452973186067,
         "times_shopped_at_merchant_day": 0.9025900605541289,
         "times_shopped_at_merchant_month": 0.672255853298444,
         "times_shopped_at_merchant_year": 1.8653692895956446,
         "trans_day": 2.197983256528946,
         "trans_month": 3.4249538896776186,
         "trans_num": "nan",
         "unix_time": 18195081.387559593,
         "year": 0.4999996061881091,
         "zip": 26881.84596586286
        },
        {
         "_deepnote_index_column": "min",
         "amt": 1,
         "amt_month": 1,
         "amt_month_shopping_net_spend": 0,
         "amt_year": 1.02,
         "category": "nan",
         "cc_num": 60416207185,
         "city": "nan",
         "city_pop": 23,
         "count_month_shopping_net": 0,
         "dist_between_client_and_merch": 0.0222735133501133,
         "dob": "nan",
         "first": "nan",
         "first_time_at_merchant": "nan",
         "gender": "nan",
         "hour": 0,
         "is_fraud": 0,
         "job": "nan",
         "last": "nan",
         "lat": 20.0271,
         "long": -165.6723,
         "merch_lat": 19.027422,
         "merch_long": -166.671575,
         "merchant": "nan",
         "state": "nan",
         "street": "nan",
         "times_shopped_at_merchant": 1,
         "times_shopped_at_merchant_day": 1,
         "times_shopped_at_merchant_month": 1,
         "times_shopped_at_merchant_year": 1,
         "trans_day": 0,
         "trans_month": 1,
         "trans_num": "nan",
         "unix_time": 1325376018,
         "year": 2019,
         "zip": 1257
        },
        {
         "_deepnote_index_column": "25%",
         "amt": 9.64,
         "amt_month": 1344.79,
         "amt_month_shopping_net_spend": 9.02,
         "amt_year": 17341.4225,
         "category": "nan",
         "cc_num": 180042946491150,
         "city": "nan",
         "city_pop": 741,
         "count_month_shopping_net": 1,
         "dist_between_client_and_merch": 55.341984398484755,
         "dob": "nan",
         "first": "nan",
         "first_time_at_merchant": "nan",
         "gender": "nan",
         "hour": 7,
         "is_fraud": 0,
         "job": "nan",
         "last": "nan",
         "lat": 34.6689,
         "long": -96.798,
         "merch_lat": 34.740122250000006,
         "merch_long": -96.89944,
         "merchant": "nan",
         "state": "nan",
         "street": "nan",
         "times_shopped_at_merchant": 3,
         "times_shopped_at_merchant_day": 1,
         "times_shopped_at_merchant_month": 1,
         "times_shopped_at_merchant_year": 2,
         "trans_day": 1,
         "trans_month": 4,
         "trans_num": "nan",
         "unix_time": 1343016823.75,
         "year": 2019,
         "zip": 26237
        },
        {
         "_deepnote_index_column": "50%",
         "amt": 47.45,
         "amt_month": 3071.99,
         "amt_month_shopping_net_spend": 75.89,
         "amt_year": 37439.104999999996,
         "category": "nan",
         "cc_num": 3521417320836166,
         "city": "nan",
         "city_pop": 2443,
         "count_month_shopping_net": 3,
         "dist_between_client_and_merch": 78.24822737526492,
         "dob": "nan",
         "first": "nan",
         "first_time_at_merchant": "nan",
         "gender": "nan",
         "hour": 14,
         "is_fraud": 0,
         "job": "nan",
         "last": "nan",
         "lat": 39.3543,
         "long": -87.4769,
         "merch_lat": 39.368900499999995,
         "merch_long": -87.44069350000001,
         "merchant": "nan",
         "state": "nan",
         "street": "nan",
         "times_shopped_at_merchant": 5,
         "times_shopped_at_merchant_day": 1,
         "times_shopped_at_merchant_month": 1,
         "times_shopped_at_merchant_year": 3,
         "trans_day": 3,
         "trans_month": 7,
         "trans_num": "nan",
         "unix_time": 1357089331,
         "year": 2020,
         "zip": 48174
        },
        {
         "_deepnote_index_column": "75%",
         "amt": 83.1,
         "amt_month": 5738.47,
         "amt_month_shopping_net_spend": 425.98,
         "amt_year": 64720.880000000005,
         "category": "nan",
         "cc_num": 4642255475285942,
         "city": "nan",
         "city_pop": 20328,
         "count_month_shopping_net": 7,
         "dist_between_client_and_merch": 98.47204051110535,
         "dob": "nan",
         "first": "nan",
         "first_time_at_merchant": "nan",
         "gender": "nan",
         "hour": 19,
         "is_fraud": 0,
         "job": "nan",
         "last": "nan",
         "lat": 41.9404,
         "long": -80.158,
         "merch_lat": 41.956263,
         "merch_long": -80.245108,
         "merchant": "nan",
         "state": "nan",
         "street": "nan",
         "times_shopped_at_merchant": 7,
         "times_shopped_at_merchant_day": 2,
         "times_shopped_at_merchant_month": 2,
         "times_shopped_at_merchant_year": 4,
         "trans_day": 5,
         "trans_month": 10,
         "trans_num": "nan",
         "unix_time": 1374581485.25,
         "year": 2020,
         "zip": 72042
        }
       ],
       "type": "dataframe"
      },
      "text/html": [
       "<div>\n",
       "<style scoped>\n",
       "    .dataframe tbody tr th:only-of-type {\n",
       "        vertical-align: middle;\n",
       "    }\n",
       "\n",
       "    .dataframe tbody tr th {\n",
       "        vertical-align: top;\n",
       "    }\n",
       "\n",
       "    .dataframe thead th {\n",
       "        text-align: right;\n",
       "    }\n",
       "</style>\n",
       "<table border=\"1\" class=\"dataframe\">\n",
       "  <thead>\n",
       "    <tr style=\"text-align: right;\">\n",
       "      <th></th>\n",
       "      <th>cc_num</th>\n",
       "      <th>merchant</th>\n",
       "      <th>category</th>\n",
       "      <th>amt</th>\n",
       "      <th>first</th>\n",
       "      <th>last</th>\n",
       "      <th>gender</th>\n",
       "      <th>street</th>\n",
       "      <th>city</th>\n",
       "      <th>state</th>\n",
       "      <th>...</th>\n",
       "      <th>first_time_at_merchant</th>\n",
       "      <th>dist_between_client_and_merch</th>\n",
       "      <th>trans_month</th>\n",
       "      <th>trans_day</th>\n",
       "      <th>hour</th>\n",
       "      <th>year</th>\n",
       "      <th>times_shopped_at_merchant</th>\n",
       "      <th>times_shopped_at_merchant_year</th>\n",
       "      <th>times_shopped_at_merchant_month</th>\n",
       "      <th>times_shopped_at_merchant_day</th>\n",
       "    </tr>\n",
       "  </thead>\n",
       "  <tbody>\n",
       "    <tr>\n",
       "      <th>count</th>\n",
       "      <td>1.852394e+06</td>\n",
       "      <td>1852394</td>\n",
       "      <td>1852394</td>\n",
       "      <td>1.852394e+06</td>\n",
       "      <td>1852394</td>\n",
       "      <td>1852394</td>\n",
       "      <td>1852394</td>\n",
       "      <td>1852394</td>\n",
       "      <td>1852394</td>\n",
       "      <td>1852394</td>\n",
       "      <td>...</td>\n",
       "      <td>1852394</td>\n",
       "      <td>1.852394e+06</td>\n",
       "      <td>1.852394e+06</td>\n",
       "      <td>1.852394e+06</td>\n",
       "      <td>1.852394e+06</td>\n",
       "      <td>1.852394e+06</td>\n",
       "      <td>1.852394e+06</td>\n",
       "      <td>1.852394e+06</td>\n",
       "      <td>1.852394e+06</td>\n",
       "      <td>1.852394e+06</td>\n",
       "    </tr>\n",
       "    <tr>\n",
       "      <th>unique</th>\n",
       "      <td>NaN</td>\n",
       "      <td>693</td>\n",
       "      <td>14</td>\n",
       "      <td>NaN</td>\n",
       "      <td>355</td>\n",
       "      <td>486</td>\n",
       "      <td>2</td>\n",
       "      <td>999</td>\n",
       "      <td>906</td>\n",
       "      <td>51</td>\n",
       "      <td>...</td>\n",
       "      <td>2</td>\n",
       "      <td>NaN</td>\n",
       "      <td>NaN</td>\n",
       "      <td>NaN</td>\n",
       "      <td>NaN</td>\n",
       "      <td>NaN</td>\n",
       "      <td>NaN</td>\n",
       "      <td>NaN</td>\n",
       "      <td>NaN</td>\n",
       "      <td>NaN</td>\n",
       "    </tr>\n",
       "    <tr>\n",
       "      <th>top</th>\n",
       "      <td>NaN</td>\n",
       "      <td>fraud_Kilback LLC</td>\n",
       "      <td>gas_transport</td>\n",
       "      <td>NaN</td>\n",
       "      <td>Christopher</td>\n",
       "      <td>Smith</td>\n",
       "      <td>F</td>\n",
       "      <td>444 Robert Mews</td>\n",
       "      <td>Birmingham</td>\n",
       "      <td>TX</td>\n",
       "      <td>...</td>\n",
       "      <td>False</td>\n",
       "      <td>NaN</td>\n",
       "      <td>NaN</td>\n",
       "      <td>NaN</td>\n",
       "      <td>NaN</td>\n",
       "      <td>NaN</td>\n",
       "      <td>NaN</td>\n",
       "      <td>NaN</td>\n",
       "      <td>NaN</td>\n",
       "      <td>NaN</td>\n",
       "    </tr>\n",
       "    <tr>\n",
       "      <th>freq</th>\n",
       "      <td>NaN</td>\n",
       "      <td>6262</td>\n",
       "      <td>188029</td>\n",
       "      <td>NaN</td>\n",
       "      <td>38112</td>\n",
       "      <td>40940</td>\n",
       "      <td>1014749</td>\n",
       "      <td>4392</td>\n",
       "      <td>8040</td>\n",
       "      <td>135269</td>\n",
       "      <td>...</td>\n",
       "      <td>1323066</td>\n",
       "      <td>NaN</td>\n",
       "      <td>NaN</td>\n",
       "      <td>NaN</td>\n",
       "      <td>NaN</td>\n",
       "      <td>NaN</td>\n",
       "      <td>NaN</td>\n",
       "      <td>NaN</td>\n",
       "      <td>NaN</td>\n",
       "      <td>NaN</td>\n",
       "    </tr>\n",
       "    <tr>\n",
       "      <th>mean</th>\n",
       "      <td>4.173860e+17</td>\n",
       "      <td>NaN</td>\n",
       "      <td>NaN</td>\n",
       "      <td>7.006357e+01</td>\n",
       "      <td>NaN</td>\n",
       "      <td>NaN</td>\n",
       "      <td>NaN</td>\n",
       "      <td>NaN</td>\n",
       "      <td>NaN</td>\n",
       "      <td>NaN</td>\n",
       "      <td>...</td>\n",
       "      <td>NaN</td>\n",
       "      <td>7.610956e+01</td>\n",
       "      <td>7.152067e+00</td>\n",
       "      <td>2.967456e+00</td>\n",
       "      <td>1.280612e+01</td>\n",
       "      <td>2.019501e+03</td>\n",
       "      <td>5.298079e+00</td>\n",
       "      <td>3.150459e+00</td>\n",
       "      <td>1.389109e+00</td>\n",
       "      <td>1.655442e+00</td>\n",
       "    </tr>\n",
       "    <tr>\n",
       "      <th>std</th>\n",
       "      <td>1.309115e+18</td>\n",
       "      <td>NaN</td>\n",
       "      <td>NaN</td>\n",
       "      <td>1.592540e+02</td>\n",
       "      <td>NaN</td>\n",
       "      <td>NaN</td>\n",
       "      <td>NaN</td>\n",
       "      <td>NaN</td>\n",
       "      <td>NaN</td>\n",
       "      <td>NaN</td>\n",
       "      <td>...</td>\n",
       "      <td>NaN</td>\n",
       "      <td>2.909273e+01</td>\n",
       "      <td>3.424954e+00</td>\n",
       "      <td>2.197983e+00</td>\n",
       "      <td>6.815753e+00</td>\n",
       "      <td>4.999996e-01</td>\n",
       "      <td>3.094345e+00</td>\n",
       "      <td>1.865369e+00</td>\n",
       "      <td>6.722559e-01</td>\n",
       "      <td>9.025901e-01</td>\n",
       "    </tr>\n",
       "    <tr>\n",
       "      <th>min</th>\n",
       "      <td>6.041621e+10</td>\n",
       "      <td>NaN</td>\n",
       "      <td>NaN</td>\n",
       "      <td>1.000000e+00</td>\n",
       "      <td>NaN</td>\n",
       "      <td>NaN</td>\n",
       "      <td>NaN</td>\n",
       "      <td>NaN</td>\n",
       "      <td>NaN</td>\n",
       "      <td>NaN</td>\n",
       "      <td>...</td>\n",
       "      <td>NaN</td>\n",
       "      <td>2.227351e-02</td>\n",
       "      <td>1.000000e+00</td>\n",
       "      <td>0.000000e+00</td>\n",
       "      <td>0.000000e+00</td>\n",
       "      <td>2.019000e+03</td>\n",
       "      <td>1.000000e+00</td>\n",
       "      <td>1.000000e+00</td>\n",
       "      <td>1.000000e+00</td>\n",
       "      <td>1.000000e+00</td>\n",
       "    </tr>\n",
       "    <tr>\n",
       "      <th>25%</th>\n",
       "      <td>1.800429e+14</td>\n",
       "      <td>NaN</td>\n",
       "      <td>NaN</td>\n",
       "      <td>9.640000e+00</td>\n",
       "      <td>NaN</td>\n",
       "      <td>NaN</td>\n",
       "      <td>NaN</td>\n",
       "      <td>NaN</td>\n",
       "      <td>NaN</td>\n",
       "      <td>NaN</td>\n",
       "      <td>...</td>\n",
       "      <td>NaN</td>\n",
       "      <td>5.534198e+01</td>\n",
       "      <td>4.000000e+00</td>\n",
       "      <td>1.000000e+00</td>\n",
       "      <td>7.000000e+00</td>\n",
       "      <td>2.019000e+03</td>\n",
       "      <td>3.000000e+00</td>\n",
       "      <td>2.000000e+00</td>\n",
       "      <td>1.000000e+00</td>\n",
       "      <td>1.000000e+00</td>\n",
       "    </tr>\n",
       "    <tr>\n",
       "      <th>50%</th>\n",
       "      <td>3.521417e+15</td>\n",
       "      <td>NaN</td>\n",
       "      <td>NaN</td>\n",
       "      <td>4.745000e+01</td>\n",
       "      <td>NaN</td>\n",
       "      <td>NaN</td>\n",
       "      <td>NaN</td>\n",
       "      <td>NaN</td>\n",
       "      <td>NaN</td>\n",
       "      <td>NaN</td>\n",
       "      <td>...</td>\n",
       "      <td>NaN</td>\n",
       "      <td>7.824823e+01</td>\n",
       "      <td>7.000000e+00</td>\n",
       "      <td>3.000000e+00</td>\n",
       "      <td>1.400000e+01</td>\n",
       "      <td>2.020000e+03</td>\n",
       "      <td>5.000000e+00</td>\n",
       "      <td>3.000000e+00</td>\n",
       "      <td>1.000000e+00</td>\n",
       "      <td>1.000000e+00</td>\n",
       "    </tr>\n",
       "    <tr>\n",
       "      <th>75%</th>\n",
       "      <td>4.642255e+15</td>\n",
       "      <td>NaN</td>\n",
       "      <td>NaN</td>\n",
       "      <td>8.310000e+01</td>\n",
       "      <td>NaN</td>\n",
       "      <td>NaN</td>\n",
       "      <td>NaN</td>\n",
       "      <td>NaN</td>\n",
       "      <td>NaN</td>\n",
       "      <td>NaN</td>\n",
       "      <td>...</td>\n",
       "      <td>NaN</td>\n",
       "      <td>9.847204e+01</td>\n",
       "      <td>1.000000e+01</td>\n",
       "      <td>5.000000e+00</td>\n",
       "      <td>1.900000e+01</td>\n",
       "      <td>2.020000e+03</td>\n",
       "      <td>7.000000e+00</td>\n",
       "      <td>4.000000e+00</td>\n",
       "      <td>2.000000e+00</td>\n",
       "      <td>2.000000e+00</td>\n",
       "    </tr>\n",
       "    <tr>\n",
       "      <th>max</th>\n",
       "      <td>4.992346e+18</td>\n",
       "      <td>NaN</td>\n",
       "      <td>NaN</td>\n",
       "      <td>2.894890e+04</td>\n",
       "      <td>NaN</td>\n",
       "      <td>NaN</td>\n",
       "      <td>NaN</td>\n",
       "      <td>NaN</td>\n",
       "      <td>NaN</td>\n",
       "      <td>NaN</td>\n",
       "      <td>...</td>\n",
       "      <td>NaN</td>\n",
       "      <td>1.518682e+02</td>\n",
       "      <td>1.200000e+01</td>\n",
       "      <td>6.000000e+00</td>\n",
       "      <td>2.300000e+01</td>\n",
       "      <td>2.020000e+03</td>\n",
       "      <td>2.800000e+01</td>\n",
       "      <td>1.700000e+01</td>\n",
       "      <td>9.000000e+00</td>\n",
       "      <td>9.000000e+00</td>\n",
       "    </tr>\n",
       "  </tbody>\n",
       "</table>\n",
       "<p>11 rows × 35 columns</p>\n",
       "</div>"
      ],
      "text/plain": [
       "              cc_num           merchant       category           amt  \\\n",
       "count   1.852394e+06            1852394        1852394  1.852394e+06   \n",
       "unique           NaN                693             14           NaN   \n",
       "top              NaN  fraud_Kilback LLC  gas_transport           NaN   \n",
       "freq             NaN               6262         188029           NaN   \n",
       "mean    4.173860e+17                NaN            NaN  7.006357e+01   \n",
       "std     1.309115e+18                NaN            NaN  1.592540e+02   \n",
       "min     6.041621e+10                NaN            NaN  1.000000e+00   \n",
       "25%     1.800429e+14                NaN            NaN  9.640000e+00   \n",
       "50%     3.521417e+15                NaN            NaN  4.745000e+01   \n",
       "75%     4.642255e+15                NaN            NaN  8.310000e+01   \n",
       "max     4.992346e+18                NaN            NaN  2.894890e+04   \n",
       "\n",
       "              first     last   gender           street        city    state  \\\n",
       "count       1852394  1852394  1852394          1852394     1852394  1852394   \n",
       "unique          355      486        2              999         906       51   \n",
       "top     Christopher    Smith        F  444 Robert Mews  Birmingham       TX   \n",
       "freq          38112    40940  1014749             4392        8040   135269   \n",
       "mean            NaN      NaN      NaN              NaN         NaN      NaN   \n",
       "std             NaN      NaN      NaN              NaN         NaN      NaN   \n",
       "min             NaN      NaN      NaN              NaN         NaN      NaN   \n",
       "25%             NaN      NaN      NaN              NaN         NaN      NaN   \n",
       "50%             NaN      NaN      NaN              NaN         NaN      NaN   \n",
       "75%             NaN      NaN      NaN              NaN         NaN      NaN   \n",
       "max             NaN      NaN      NaN              NaN         NaN      NaN   \n",
       "\n",
       "        ...  first_time_at_merchant  dist_between_client_and_merch  \\\n",
       "count   ...                 1852394                   1.852394e+06   \n",
       "unique  ...                       2                            NaN   \n",
       "top     ...                   False                            NaN   \n",
       "freq    ...                 1323066                            NaN   \n",
       "mean    ...                     NaN                   7.610956e+01   \n",
       "std     ...                     NaN                   2.909273e+01   \n",
       "min     ...                     NaN                   2.227351e-02   \n",
       "25%     ...                     NaN                   5.534198e+01   \n",
       "50%     ...                     NaN                   7.824823e+01   \n",
       "75%     ...                     NaN                   9.847204e+01   \n",
       "max     ...                     NaN                   1.518682e+02   \n",
       "\n",
       "         trans_month     trans_day          hour          year  \\\n",
       "count   1.852394e+06  1.852394e+06  1.852394e+06  1.852394e+06   \n",
       "unique           NaN           NaN           NaN           NaN   \n",
       "top              NaN           NaN           NaN           NaN   \n",
       "freq             NaN           NaN           NaN           NaN   \n",
       "mean    7.152067e+00  2.967456e+00  1.280612e+01  2.019501e+03   \n",
       "std     3.424954e+00  2.197983e+00  6.815753e+00  4.999996e-01   \n",
       "min     1.000000e+00  0.000000e+00  0.000000e+00  2.019000e+03   \n",
       "25%     4.000000e+00  1.000000e+00  7.000000e+00  2.019000e+03   \n",
       "50%     7.000000e+00  3.000000e+00  1.400000e+01  2.020000e+03   \n",
       "75%     1.000000e+01  5.000000e+00  1.900000e+01  2.020000e+03   \n",
       "max     1.200000e+01  6.000000e+00  2.300000e+01  2.020000e+03   \n",
       "\n",
       "       times_shopped_at_merchant  times_shopped_at_merchant_year  \\\n",
       "count               1.852394e+06                    1.852394e+06   \n",
       "unique                       NaN                             NaN   \n",
       "top                          NaN                             NaN   \n",
       "freq                         NaN                             NaN   \n",
       "mean                5.298079e+00                    3.150459e+00   \n",
       "std                 3.094345e+00                    1.865369e+00   \n",
       "min                 1.000000e+00                    1.000000e+00   \n",
       "25%                 3.000000e+00                    2.000000e+00   \n",
       "50%                 5.000000e+00                    3.000000e+00   \n",
       "75%                 7.000000e+00                    4.000000e+00   \n",
       "max                 2.800000e+01                    1.700000e+01   \n",
       "\n",
       "        times_shopped_at_merchant_month  times_shopped_at_merchant_day  \n",
       "count                      1.852394e+06                   1.852394e+06  \n",
       "unique                              NaN                            NaN  \n",
       "top                                 NaN                            NaN  \n",
       "freq                                NaN                            NaN  \n",
       "mean                       1.389109e+00                   1.655442e+00  \n",
       "std                        6.722559e-01                   9.025901e-01  \n",
       "min                        1.000000e+00                   1.000000e+00  \n",
       "25%                        1.000000e+00                   1.000000e+00  \n",
       "50%                        1.000000e+00                   1.000000e+00  \n",
       "75%                        2.000000e+00                   2.000000e+00  \n",
       "max                        9.000000e+00                   9.000000e+00  \n",
       "\n",
       "[11 rows x 35 columns]"
      ]
     },
     "execution_count": 3,
     "metadata": {},
     "output_type": "execute_result"
    }
   ],
   "source": [
    "\n",
    "#  describe all variables\n",
    "sds.describe(include=\"all\")"
   ]
  },
  {
   "cell_type": "markdown",
   "metadata": {
    "cell_id": "ef3b48f8c3fd41d0b605e8118b9fb298",
    "deepnote_app_block_visible": true,
    "deepnote_app_coordinates": {
     "h": 5,
     "w": 12,
     "x": 0,
     "y": 0
    },
    "deepnote_cell_type": "text-cell-h3",
    "formattedRanges": [],
    "is_collapsed": false,
    "tags": []
   },
   "source": [
    "### Solo las numéricas"
   ]
  },
  {
   "cell_type": "code",
   "execution_count": null,
   "metadata": {
    "cell_id": "55c9bf706eed4616ab53bd7b5d7004dc",
    "deepnote_cell_type": "code",
    "execution_context_id": "46faa112-0fd6-458c-917e-2d425ca98c2c",
    "execution_millis": 2895,
    "execution_start": 1743771893245,
    "source_hash": "313d97f4"
   },
   "outputs": [
    {
     "data": {
      "application/vnd.deepnote.dataframe.v3+json": {
       "column_count": 23,
       "columns": [
        {
         "dtype": "float64",
         "name": "cc_num",
         "stats": {
          "histogram": [
           {
            "bin_end": 499234639808182600,
            "bin_start": 1852394,
            "count": 6
           },
           {
            "bin_end": 998469279614512800,
            "bin_start": 499234639808182600,
            "count": 0
           },
           {
            "bin_end": 1497703919420843000,
            "bin_start": 998469279614512800,
            "count": 1
           },
           {
            "bin_end": 1996938559227173000,
            "bin_start": 1497703919420843000,
            "count": 0
           },
           {
            "bin_end": 2496173199033503000,
            "bin_start": 1996938559227173000,
            "count": 0
           },
           {
            "bin_end": 2995407838839833600,
            "bin_start": 2496173199033503000,
            "count": 0
           },
           {
            "bin_end": 3494642478646163500,
            "bin_start": 2995407838839833600,
            "count": 0
           },
           {
            "bin_end": 3993877118452494000,
            "bin_start": 3494642478646163500,
            "count": 0
           },
           {
            "bin_end": 4493111758258824000,
            "bin_start": 3993877118452494000,
            "count": 0
           },
           {
            "bin_end": 4992346398065154000,
            "bin_start": 4493111758258824000,
            "count": 1
           }
          ],
          "max": "4.992346398065154e+18",
          "min": "1852394.0",
          "nan_count": 0,
          "unique_count": 8
         }
        },
        {
         "dtype": "float64",
         "name": "amt",
         "stats": {
          "histogram": [
           {
            "bin_end": 185240.3,
            "bin_start": 1,
            "count": 7
           },
           {
            "bin_end": 370479.6,
            "bin_start": 185240.3,
            "count": 0
           },
           {
            "bin_end": 555718.8999999999,
            "bin_start": 370479.6,
            "count": 0
           },
           {
            "bin_end": 740958.2,
            "bin_start": 555718.8999999999,
            "count": 0
           },
           {
            "bin_end": 926197.5,
            "bin_start": 740958.2,
            "count": 0
           },
           {
            "bin_end": 1111436.7999999998,
            "bin_start": 926197.5,
            "count": 0
           },
           {
            "bin_end": 1296676.0999999999,
            "bin_start": 1111436.7999999998,
            "count": 0
           },
           {
            "bin_end": 1481915.4,
            "bin_start": 1296676.0999999999,
            "count": 0
           },
           {
            "bin_end": 1667154.7,
            "bin_start": 1481915.4,
            "count": 0
           },
           {
            "bin_end": 1852394,
            "bin_start": 1667154.7,
            "count": 1
           }
          ],
          "max": "1852394.0",
          "min": "1.0",
          "nan_count": 0,
          "unique_count": 8
         }
        },
        {
         "dtype": "float64",
         "name": "zip",
         "stats": {
          "histogram": [
           {
            "bin_end": 186370.7,
            "bin_start": 1257,
            "count": 7
           },
           {
            "bin_end": 371484.4,
            "bin_start": 186370.7,
            "count": 0
           },
           {
            "bin_end": 556598.1000000001,
            "bin_start": 371484.4,
            "count": 0
           },
           {
            "bin_end": 741711.8,
            "bin_start": 556598.1000000001,
            "count": 0
           },
           {
            "bin_end": 926825.5,
            "bin_start": 741711.8,
            "count": 0
           },
           {
            "bin_end": 1111939.2000000002,
            "bin_start": 926825.5,
            "count": 0
           },
           {
            "bin_end": 1297052.9000000001,
            "bin_start": 1111939.2000000002,
            "count": 0
           },
           {
            "bin_end": 1482166.6,
            "bin_start": 1297052.9000000001,
            "count": 0
           },
           {
            "bin_end": 1667280.3,
            "bin_start": 1482166.6,
            "count": 0
           },
           {
            "bin_end": 1852394,
            "bin_start": 1667280.3,
            "count": 1
           }
          ],
          "max": "1852394.0",
          "min": "1257.0",
          "nan_count": 0,
          "unique_count": 8
         }
        },
        {
         "dtype": "float64",
         "name": "lat",
         "stats": {
          "histogram": [
           {
            "bin_end": 185243.96432335224,
            "bin_start": 5.071470391380581,
            "count": 7
           },
           {
            "bin_end": 370482.85717631306,
            "bin_start": 185243.96432335224,
            "count": 0
           },
           {
            "bin_end": 555721.7500292739,
            "bin_start": 370482.85717631306,
            "count": 0
           },
           {
            "bin_end": 740960.6428822348,
            "bin_start": 555721.7500292739,
            "count": 0
           },
           {
            "bin_end": 926199.5357351956,
            "bin_start": 740960.6428822348,
            "count": 0
           },
           {
            "bin_end": 1111438.4285881566,
            "bin_start": 926199.5357351956,
            "count": 0
           },
           {
            "bin_end": 1296677.3214411174,
            "bin_start": 1111438.4285881566,
            "count": 0
           },
           {
            "bin_end": 1481916.2142940783,
            "bin_start": 1296677.3214411174,
            "count": 0
           },
           {
            "bin_end": 1667155.1071470391,
            "bin_start": 1481916.2142940783,
            "count": 0
           },
           {
            "bin_end": 1852394,
            "bin_start": 1667155.1071470391,
            "count": 1
           }
          ],
          "max": "1852394.0",
          "min": "5.071470391380581",
          "nan_count": 0,
          "unique_count": 8
         }
        },
        {
         "dtype": "float64",
         "name": "long",
         "stats": {
          "histogram": [
           {
            "bin_end": 185090.29493,
            "bin_start": -165.6723,
            "count": 7
           },
           {
            "bin_end": 370346.26216000004,
            "bin_start": 185090.29493,
            "count": 0
           },
           {
            "bin_end": 555602.22939,
            "bin_start": 370346.26216000004,
            "count": 0
           },
           {
            "bin_end": 740858.1966200001,
            "bin_start": 555602.22939,
            "count": 0
           },
           {
            "bin_end": 926114.1638500001,
            "bin_start": 740858.1966200001,
            "count": 0
           },
           {
            "bin_end": 1111370.13108,
            "bin_start": 926114.1638500001,
            "count": 0
           },
           {
            "bin_end": 1296626.09831,
            "bin_start": 1111370.13108,
            "count": 0
           },
           {
            "bin_end": 1481882.06554,
            "bin_start": 1296626.09831,
            "count": 0
           },
           {
            "bin_end": 1667138.0327700002,
            "bin_start": 1481882.06554,
            "count": 0
           },
           {
            "bin_end": 1852394,
            "bin_start": 1667138.0327700002,
            "count": 1
           }
          ],
          "max": "1852394.0",
          "min": "-165.6723",
          "nan_count": 0,
          "unique_count": 8
         }
        },
        {
         "dtype": "float64",
         "name": "city_pop",
         "stats": {
          "histogram": [
           {
            "bin_end": 290690.7,
            "bin_start": 23,
            "count": 5
           },
           {
            "bin_end": 581358.4,
            "bin_start": 290690.7,
            "count": 1
           },
           {
            "bin_end": 872026.1000000001,
            "bin_start": 581358.4,
            "count": 0
           },
           {
            "bin_end": 1162693.8,
            "bin_start": 872026.1000000001,
            "count": 0
           },
           {
            "bin_end": 1453361.5,
            "bin_start": 1162693.8,
            "count": 0
           },
           {
            "bin_end": 1744029.2000000002,
            "bin_start": 1453361.5,
            "count": 0
           },
           {
            "bin_end": 2034696.9000000001,
            "bin_start": 1744029.2000000002,
            "count": 1
           },
           {
            "bin_end": 2325364.6,
            "bin_start": 2034696.9000000001,
            "count": 0
           },
           {
            "bin_end": 2616032.3000000003,
            "bin_start": 2325364.6,
            "count": 0
           },
           {
            "bin_end": 2906700,
            "bin_start": 2616032.3000000003,
            "count": 1
           }
          ],
          "max": "2906700.0",
          "min": "23.0",
          "nan_count": 0,
          "unique_count": 8
         }
        },
        {
         "dtype": "float64",
         "name": "unix_time",
         "stats": {
          "histogram": [
           {
            "bin_end": 140520592,
            "bin_start": 1852394,
            "count": 2
           },
           {
            "bin_end": 279188790,
            "bin_start": 140520592,
            "count": 0
           },
           {
            "bin_end": 417856988,
            "bin_start": 279188790,
            "count": 0
           },
           {
            "bin_end": 556525186,
            "bin_start": 417856988,
            "count": 0
           },
           {
            "bin_end": 695193384,
            "bin_start": 556525186,
            "count": 0
           },
           {
            "bin_end": 833861582,
            "bin_start": 695193384,
            "count": 0
           },
           {
            "bin_end": 972529780,
            "bin_start": 833861582,
            "count": 0
           },
           {
            "bin_end": 1111197978,
            "bin_start": 972529780,
            "count": 0
           },
           {
            "bin_end": 1249866176,
            "bin_start": 1111197978,
            "count": 0
           },
           {
            "bin_end": 1388534374,
            "bin_start": 1249866176,
            "count": 6
           }
          ],
          "max": "1388534374.0",
          "min": "1852394.0",
          "nan_count": 0,
          "unique_count": 8
         }
        },
        {
         "dtype": "float64",
         "name": "merch_lat",
         "stats": {
          "histogram": [
           {
            "bin_end": 185243.99504348982,
            "bin_start": 5.10560387759281,
            "count": 7
           },
           {
            "bin_end": 370482.884483102,
            "bin_start": 185243.99504348982,
            "count": 0
           },
           {
            "bin_end": 555721.7739227143,
            "bin_start": 370482.884483102,
            "count": 0
           },
           {
            "bin_end": 740960.6633623264,
            "bin_start": 555721.7739227143,
            "count": 0
           },
           {
            "bin_end": 926199.5528019386,
            "bin_start": 740960.6633623264,
            "count": 0
           },
           {
            "bin_end": 1111438.4422415511,
            "bin_start": 926199.5528019386,
            "count": 0
           },
           {
            "bin_end": 1296677.3316811633,
            "bin_start": 1111438.4422415511,
            "count": 0
           },
           {
            "bin_end": 1481916.2211207754,
            "bin_start": 1296677.3316811633,
            "count": 0
           },
           {
            "bin_end": 1667155.1105603876,
            "bin_start": 1481916.2211207754,
            "count": 0
           },
           {
            "bin_end": 1852394,
            "bin_start": 1667155.1105603876,
            "count": 1
           }
          ],
          "max": "1852394.0",
          "min": "5.10560387759281",
          "nan_count": 0,
          "unique_count": 8
         }
        },
        {
         "dtype": "float64",
         "name": "merch_long",
         "stats": {
          "histogram": [
           {
            "bin_end": 185089.39558250003,
            "bin_start": -166.671575,
            "count": 7
           },
           {
            "bin_end": 370345.46274000005,
            "bin_start": 185089.39558250003,
            "count": 0
           },
           {
            "bin_end": 555601.5298975001,
            "bin_start": 370345.46274000005,
            "count": 0
           },
           {
            "bin_end": 740857.597055,
            "bin_start": 555601.5298975001,
            "count": 0
           },
           {
            "bin_end": 926113.6642125,
            "bin_start": 740857.597055,
            "count": 0
           },
           {
            "bin_end": 1111369.7313700002,
            "bin_start": 926113.6642125,
            "count": 0
           },
           {
            "bin_end": 1296625.7985275001,
            "bin_start": 1111369.7313700002,
            "count": 0
           },
           {
            "bin_end": 1481881.865685,
            "bin_start": 1296625.7985275001,
            "count": 0
           },
           {
            "bin_end": 1667137.9328425,
            "bin_start": 1481881.865685,
            "count": 0
           },
           {
            "bin_end": 1852394,
            "bin_start": 1667137.9328425,
            "count": 1
           }
          ],
          "max": "1852394.0",
          "min": "-166.671575",
          "nan_count": 0,
          "unique_count": 8
         }
        },
        {
         "dtype": "float64",
         "name": "is_fraud",
         "stats": {
          "histogram": [
           {
            "bin_end": 185239.4,
            "bin_start": 0,
            "count": 7
           },
           {
            "bin_end": 370478.8,
            "bin_start": 185239.4,
            "count": 0
           },
           {
            "bin_end": 555718.2,
            "bin_start": 370478.8,
            "count": 0
           },
           {
            "bin_end": 740957.6,
            "bin_start": 555718.2,
            "count": 0
           },
           {
            "bin_end": 926197,
            "bin_start": 740957.6,
            "count": 0
           },
           {
            "bin_end": 1111436.4,
            "bin_start": 926197,
            "count": 0
           },
           {
            "bin_end": 1296675.8,
            "bin_start": 1111436.4,
            "count": 0
           },
           {
            "bin_end": 1481915.2,
            "bin_start": 1296675.8,
            "count": 0
           },
           {
            "bin_end": 1667154.5999999999,
            "bin_start": 1481915.2,
            "count": 0
           },
           {
            "bin_end": 1852394,
            "bin_start": 1667154.5999999999,
            "count": 1
           }
          ],
          "max": "1852394.0",
          "min": "0.0",
          "nan_count": 0,
          "unique_count": 5
         }
        },
        {
         "dtype": "float64",
         "name": "amt_month",
         "stats": {
          "histogram": [
           {
            "bin_end": 185240.3,
            "bin_start": 1,
            "count": 7
           },
           {
            "bin_end": 370479.6,
            "bin_start": 185240.3,
            "count": 0
           },
           {
            "bin_end": 555718.8999999999,
            "bin_start": 370479.6,
            "count": 0
           },
           {
            "bin_end": 740958.2,
            "bin_start": 555718.8999999999,
            "count": 0
           },
           {
            "bin_end": 926197.5,
            "bin_start": 740958.2,
            "count": 0
           },
           {
            "bin_end": 1111436.7999999998,
            "bin_start": 926197.5,
            "count": 0
           },
           {
            "bin_end": 1296676.0999999999,
            "bin_start": 1111436.7999999998,
            "count": 0
           },
           {
            "bin_end": 1481915.4,
            "bin_start": 1296676.0999999999,
            "count": 0
           },
           {
            "bin_end": 1667154.7,
            "bin_start": 1481915.4,
            "count": 0
           },
           {
            "bin_end": 1852394,
            "bin_start": 1667154.7,
            "count": 1
           }
          ],
          "max": "1852394.0",
          "min": "1.0",
          "nan_count": 0,
          "unique_count": 8
         }
        },
        {
         "dtype": "float64",
         "name": "amt_year",
         "stats": {
          "histogram": [
           {
            "bin_end": 185240.318,
            "bin_start": 1.02,
            "count": 6
           },
           {
            "bin_end": 370479.61600000004,
            "bin_start": 185240.318,
            "count": 1
           },
           {
            "bin_end": 555718.9140000001,
            "bin_start": 370479.61600000004,
            "count": 0
           },
           {
            "bin_end": 740958.212,
            "bin_start": 555718.9140000001,
            "count": 0
           },
           {
            "bin_end": 926197.51,
            "bin_start": 740958.212,
            "count": 0
           },
           {
            "bin_end": 1111436.8080000002,
            "bin_start": 926197.51,
            "count": 0
           },
           {
            "bin_end": 1296676.1060000001,
            "bin_start": 1111436.8080000002,
            "count": 0
           },
           {
            "bin_end": 1481915.404,
            "bin_start": 1296676.1060000001,
            "count": 0
           },
           {
            "bin_end": 1667154.702,
            "bin_start": 1481915.404,
            "count": 0
           },
           {
            "bin_end": 1852394,
            "bin_start": 1667154.702,
            "count": 1
           }
          ],
          "max": "1852394.0",
          "min": "1.02",
          "nan_count": 0,
          "unique_count": 8
         }
        },
        {
         "dtype": "float64",
         "name": "amt_month_shopping_net_spend",
         "stats": {
          "histogram": [
           {
            "bin_end": 185239.4,
            "bin_start": 0,
            "count": 7
           },
           {
            "bin_end": 370478.8,
            "bin_start": 185239.4,
            "count": 0
           },
           {
            "bin_end": 555718.2,
            "bin_start": 370478.8,
            "count": 0
           },
           {
            "bin_end": 740957.6,
            "bin_start": 555718.2,
            "count": 0
           },
           {
            "bin_end": 926197,
            "bin_start": 740957.6,
            "count": 0
           },
           {
            "bin_end": 1111436.4,
            "bin_start": 926197,
            "count": 0
           },
           {
            "bin_end": 1296675.8,
            "bin_start": 1111436.4,
            "count": 0
           },
           {
            "bin_end": 1481915.2,
            "bin_start": 1296675.8,
            "count": 0
           },
           {
            "bin_end": 1667154.5999999999,
            "bin_start": 1481915.2,
            "count": 0
           },
           {
            "bin_end": 1852394,
            "bin_start": 1667154.5999999999,
            "count": 1
           }
          ],
          "max": "1852394.0",
          "min": "0.0",
          "nan_count": 0,
          "unique_count": 8
         }
        },
        {
         "dtype": "float64",
         "name": "count_month_shopping_net",
         "stats": {
          "histogram": [
           {
            "bin_end": 185239.4,
            "bin_start": 0,
            "count": 7
           },
           {
            "bin_end": 370478.8,
            "bin_start": 185239.4,
            "count": 0
           },
           {
            "bin_end": 555718.2,
            "bin_start": 370478.8,
            "count": 0
           },
           {
            "bin_end": 740957.6,
            "bin_start": 555718.2,
            "count": 0
           },
           {
            "bin_end": 926197,
            "bin_start": 740957.6,
            "count": 0
           },
           {
            "bin_end": 1111436.4,
            "bin_start": 926197,
            "count": 0
           },
           {
            "bin_end": 1296675.8,
            "bin_start": 1111436.4,
            "count": 0
           },
           {
            "bin_end": 1481915.2,
            "bin_start": 1296675.8,
            "count": 0
           },
           {
            "bin_end": 1667154.5999999999,
            "bin_start": 1481915.2,
            "count": 0
           },
           {
            "bin_end": 1852394,
            "bin_start": 1667154.5999999999,
            "count": 1
           }
          ],
          "max": "1852394.0",
          "min": "0.0",
          "nan_count": 0,
          "unique_count": 8
         }
        },
        {
         "dtype": "float64",
         "name": "dist_between_client_and_merch",
         "stats": {
          "histogram": [
           {
            "bin_end": 185239.420046162,
            "bin_start": 0.0222735133501133,
            "count": 7
           },
           {
            "bin_end": 370478.8178188107,
            "bin_start": 185239.420046162,
            "count": 0
           },
           {
            "bin_end": 555718.2155914594,
            "bin_start": 370478.8178188107,
            "count": 0
           },
           {
            "bin_end": 740957.613364108,
            "bin_start": 555718.2155914594,
            "count": 0
           },
           {
            "bin_end": 926197.0111367566,
            "bin_start": 740957.613364108,
            "count": 0
           },
           {
            "bin_end": 1111436.4089094053,
            "bin_start": 926197.0111367566,
            "count": 0
           },
           {
            "bin_end": 1296675.806682054,
            "bin_start": 1111436.4089094053,
            "count": 0
           },
           {
            "bin_end": 1481915.2044547026,
            "bin_start": 1296675.806682054,
            "count": 0
           },
           {
            "bin_end": 1667154.6022273512,
            "bin_start": 1481915.2044547026,
            "count": 0
           },
           {
            "bin_end": 1852394,
            "bin_start": 1667154.6022273512,
            "count": 1
           }
          ],
          "max": "1852394.0",
          "min": "0.0222735133501133",
          "nan_count": 0,
          "unique_count": 8
         }
        },
        {
         "dtype": "float64",
         "name": "trans_month",
         "stats": {
          "histogram": [
           {
            "bin_end": 185240.3,
            "bin_start": 1,
            "count": 7
           },
           {
            "bin_end": 370479.6,
            "bin_start": 185240.3,
            "count": 0
           },
           {
            "bin_end": 555718.8999999999,
            "bin_start": 370479.6,
            "count": 0
           },
           {
            "bin_end": 740958.2,
            "bin_start": 555718.8999999999,
            "count": 0
           },
           {
            "bin_end": 926197.5,
            "bin_start": 740958.2,
            "count": 0
           },
           {
            "bin_end": 1111436.7999999998,
            "bin_start": 926197.5,
            "count": 0
           },
           {
            "bin_end": 1296676.0999999999,
            "bin_start": 1111436.7999999998,
            "count": 0
           },
           {
            "bin_end": 1481915.4,
            "bin_start": 1296676.0999999999,
            "count": 0
           },
           {
            "bin_end": 1667154.7,
            "bin_start": 1481915.4,
            "count": 0
           },
           {
            "bin_end": 1852394,
            "bin_start": 1667154.7,
            "count": 1
           }
          ],
          "max": "1852394.0",
          "min": "1.0",
          "nan_count": 0,
          "unique_count": 8
         }
        },
        {
         "dtype": "float64",
         "name": "trans_day",
         "stats": {
          "histogram": [
           {
            "bin_end": 185239.4,
            "bin_start": 0,
            "count": 7
           },
           {
            "bin_end": 370478.8,
            "bin_start": 185239.4,
            "count": 0
           },
           {
            "bin_end": 555718.2,
            "bin_start": 370478.8,
            "count": 0
           },
           {
            "bin_end": 740957.6,
            "bin_start": 555718.2,
            "count": 0
           },
           {
            "bin_end": 926197,
            "bin_start": 740957.6,
            "count": 0
           },
           {
            "bin_end": 1111436.4,
            "bin_start": 926197,
            "count": 0
           },
           {
            "bin_end": 1296675.8,
            "bin_start": 1111436.4,
            "count": 0
           },
           {
            "bin_end": 1481915.2,
            "bin_start": 1296675.8,
            "count": 0
           },
           {
            "bin_end": 1667154.5999999999,
            "bin_start": 1481915.2,
            "count": 0
           },
           {
            "bin_end": 1852394,
            "bin_start": 1667154.5999999999,
            "count": 1
           }
          ],
          "max": "1852394.0",
          "min": "0.0",
          "nan_count": 0,
          "unique_count": 8
         }
        },
        {
         "dtype": "float64",
         "name": "hour",
         "stats": {
          "histogram": [
           {
            "bin_end": 185239.4,
            "bin_start": 0,
            "count": 7
           },
           {
            "bin_end": 370478.8,
            "bin_start": 185239.4,
            "count": 0
           },
           {
            "bin_end": 555718.2,
            "bin_start": 370478.8,
            "count": 0
           },
           {
            "bin_end": 740957.6,
            "bin_start": 555718.2,
            "count": 0
           },
           {
            "bin_end": 926197,
            "bin_start": 740957.6,
            "count": 0
           },
           {
            "bin_end": 1111436.4,
            "bin_start": 926197,
            "count": 0
           },
           {
            "bin_end": 1296675.8,
            "bin_start": 1111436.4,
            "count": 0
           },
           {
            "bin_end": 1481915.2,
            "bin_start": 1296675.8,
            "count": 0
           },
           {
            "bin_end": 1667154.5999999999,
            "bin_start": 1481915.2,
            "count": 0
           },
           {
            "bin_end": 1852394,
            "bin_start": 1667154.5999999999,
            "count": 1
           }
          ],
          "max": "1852394.0",
          "min": "0.0",
          "nan_count": 0,
          "unique_count": 8
         }
        },
        {
         "dtype": "float64",
         "name": "year",
         "stats": {
          "histogram": [
           {
            "bin_end": 185239.84999964558,
            "bin_start": 0.4999996061881091,
            "count": 7
           },
           {
            "bin_end": 370479.19999968493,
            "bin_start": 185239.84999964558,
            "count": 0
           },
           {
            "bin_end": 555718.5499997243,
            "bin_start": 370479.19999968493,
            "count": 0
           },
           {
            "bin_end": 740957.8999997637,
            "bin_start": 555718.5499997243,
            "count": 0
           },
           {
            "bin_end": 926197.2499998031,
            "bin_start": 740957.8999997637,
            "count": 0
           },
           {
            "bin_end": 1111436.5999998425,
            "bin_start": 926197.2499998031,
            "count": 0
           },
           {
            "bin_end": 1296675.949999882,
            "bin_start": 1111436.5999998425,
            "count": 0
           },
           {
            "bin_end": 1481915.2999999213,
            "bin_start": 1296675.949999882,
            "count": 0
           },
           {
            "bin_end": 1667154.6499999608,
            "bin_start": 1481915.2999999213,
            "count": 0
           },
           {
            "bin_end": 1852394,
            "bin_start": 1667154.6499999608,
            "count": 1
           }
          ],
          "max": "1852394.0",
          "min": "0.4999996061881091",
          "nan_count": 0,
          "unique_count": 5
         }
        },
        {
         "dtype": "float64",
         "name": "times_shopped_at_merchant",
         "stats": {
          "histogram": [
           {
            "bin_end": 185240.3,
            "bin_start": 1,
            "count": 7
           },
           {
            "bin_end": 370479.6,
            "bin_start": 185240.3,
            "count": 0
           },
           {
            "bin_end": 555718.8999999999,
            "bin_start": 370479.6,
            "count": 0
           },
           {
            "bin_end": 740958.2,
            "bin_start": 555718.8999999999,
            "count": 0
           },
           {
            "bin_end": 926197.5,
            "bin_start": 740958.2,
            "count": 0
           },
           {
            "bin_end": 1111436.7999999998,
            "bin_start": 926197.5,
            "count": 0
           },
           {
            "bin_end": 1296676.0999999999,
            "bin_start": 1111436.7999999998,
            "count": 0
           },
           {
            "bin_end": 1481915.4,
            "bin_start": 1296676.0999999999,
            "count": 0
           },
           {
            "bin_end": 1667154.7,
            "bin_start": 1481915.4,
            "count": 0
           },
           {
            "bin_end": 1852394,
            "bin_start": 1667154.7,
            "count": 1
           }
          ],
          "max": "1852394.0",
          "min": "1.0",
          "nan_count": 0,
          "unique_count": 8
         }
        },
        {
         "dtype": "float64",
         "name": "times_shopped_at_merchant_year",
         "stats": {
          "histogram": [
           {
            "bin_end": 185240.3,
            "bin_start": 1,
            "count": 7
           },
           {
            "bin_end": 370479.6,
            "bin_start": 185240.3,
            "count": 0
           },
           {
            "bin_end": 555718.8999999999,
            "bin_start": 370479.6,
            "count": 0
           },
           {
            "bin_end": 740958.2,
            "bin_start": 555718.8999999999,
            "count": 0
           },
           {
            "bin_end": 926197.5,
            "bin_start": 740958.2,
            "count": 0
           },
           {
            "bin_end": 1111436.7999999998,
            "bin_start": 926197.5,
            "count": 0
           },
           {
            "bin_end": 1296676.0999999999,
            "bin_start": 1111436.7999999998,
            "count": 0
           },
           {
            "bin_end": 1481915.4,
            "bin_start": 1296676.0999999999,
            "count": 0
           },
           {
            "bin_end": 1667154.7,
            "bin_start": 1481915.4,
            "count": 0
           },
           {
            "bin_end": 1852394,
            "bin_start": 1667154.7,
            "count": 1
           }
          ],
          "max": "1852394.0",
          "min": "1.0",
          "nan_count": 0,
          "unique_count": 8
         }
        },
        {
         "dtype": "float64",
         "name": "times_shopped_at_merchant_month",
         "stats": {
          "histogram": [
           {
            "bin_end": 185240.005030268,
            "bin_start": 0.672255853298444,
            "count": 7
           },
           {
            "bin_end": 370479.33780468267,
            "bin_start": 185240.005030268,
            "count": 0
           },
           {
            "bin_end": 555718.6705790974,
            "bin_start": 370479.33780468267,
            "count": 0
           },
           {
            "bin_end": 740958.003353512,
            "bin_start": 555718.6705790974,
            "count": 0
           },
           {
            "bin_end": 926197.3361279267,
            "bin_start": 740958.003353512,
            "count": 0
           },
           {
            "bin_end": 1111436.6689023413,
            "bin_start": 926197.3361279267,
            "count": 0
           },
           {
            "bin_end": 1296676.001676756,
            "bin_start": 1111436.6689023413,
            "count": 0
           },
           {
            "bin_end": 1481915.3344511706,
            "bin_start": 1296676.001676756,
            "count": 0
           },
           {
            "bin_end": 1667154.6672255853,
            "bin_start": 1481915.3344511706,
            "count": 0
           },
           {
            "bin_end": 1852394,
            "bin_start": 1667154.6672255853,
            "count": 1
           }
          ],
          "max": "1852394.0",
          "min": "0.672255853298444",
          "nan_count": 0,
          "unique_count": 6
         }
        },
        {
         "dtype": "float64",
         "name": "times_shopped_at_merchant_day",
         "stats": {
          "histogram": [
           {
            "bin_end": 185240.2123310545,
            "bin_start": 0.9025900605541289,
            "count": 7
           },
           {
            "bin_end": 370479.52207204845,
            "bin_start": 185240.2123310545,
            "count": 0
           },
           {
            "bin_end": 555718.8318130425,
            "bin_start": 370479.52207204845,
            "count": 0
           },
           {
            "bin_end": 740958.1415540364,
            "bin_start": 555718.8318130425,
            "count": 0
           },
           {
            "bin_end": 926197.4512950303,
            "bin_start": 740958.1415540364,
            "count": 0
           },
           {
            "bin_end": 1111436.7610360244,
            "bin_start": 926197.4512950303,
            "count": 0
           },
           {
            "bin_end": 1296676.0707770183,
            "bin_start": 1111436.7610360244,
            "count": 0
           },
           {
            "bin_end": 1481915.3805180122,
            "bin_start": 1296676.0707770183,
            "count": 0
           },
           {
            "bin_end": 1667154.690259006,
            "bin_start": 1481915.3805180122,
            "count": 0
           },
           {
            "bin_end": 1852394,
            "bin_start": 1667154.690259006,
            "count": 1
           }
          ],
          "max": "1852394.0",
          "min": "0.9025900605541289",
          "nan_count": 0,
          "unique_count": 6
         }
        },
        {
         "dtype": "object",
         "name": "_deepnote_index_column"
        }
       ],
       "row_count": 8,
       "rows": [
        {
         "_deepnote_index_column": "count",
         "amt": 1852394,
         "amt_month": 1852394,
         "amt_month_shopping_net_spend": 1852394,
         "amt_year": 1852394,
         "cc_num": 1852394,
         "city_pop": 1852394,
         "count_month_shopping_net": 1852394,
         "dist_between_client_and_merch": 1852394,
         "hour": 1852394,
         "is_fraud": 1852394,
         "lat": 1852394,
         "long": 1852394,
         "merch_lat": 1852394,
         "merch_long": 1852394,
         "times_shopped_at_merchant": 1852394,
         "times_shopped_at_merchant_day": 1852394,
         "times_shopped_at_merchant_month": 1852394,
         "times_shopped_at_merchant_year": 1852394,
         "trans_day": 1852394,
         "trans_month": 1852394,
         "unix_time": 1852394,
         "year": 1852394,
         "zip": 1852394
        },
        {
         "_deepnote_index_column": "mean",
         "amt": 70.06356747538595,
         "amt_month": 4153.688992573931,
         "amt_month_shopping_net_spend": 376.2028012237137,
         "amt_year": 45305.59731490709,
         "cc_num": 417386038393710400,
         "city_pop": 88643.67450931066,
         "count_month_shopping_net": 4.567241094497175,
         "dist_between_client_and_merch": 76.10955815096905,
         "hour": 12.806119000601385,
         "is_fraud": 0.005210014716091717,
         "lat": 38.539310979251724,
         "long": -90.22783229070049,
         "merch_lat": 38.53897596705938,
         "merch_long": -90.22793950913791,
         "times_shopped_at_merchant": 5.298079134352627,
         "times_shopped_at_merchant_day": 1.6554415529309638,
         "times_shopped_at_merchant_month": 1.3891094443190812,
         "times_shopped_at_merchant_year": 3.150459351520249,
         "trans_day": 2.967456167532393,
         "trans_month": 7.152067000864827,
         "unix_time": 1358674218.8343642,
         "year": 2019.5007271671145,
         "zip": 48813.25819075207
        },
        {
         "_deepnote_index_column": "std",
         "amt": 159.25397477398332,
         "amt_month": 3909.005376718425,
         "amt_month_shopping_net_spend": 725.3530718426995,
         "amt_year": 35867.52246564399,
         "cc_num": 1309115265318734800,
         "city_pop": 301487.6183436502,
         "count_month_shopping_net": 4.575502404205457,
         "dist_between_client_and_merch": 29.09273108329223,
         "hour": 6.8157529461330695,
         "is_fraud": 0.07199217499619152,
         "lat": 5.071470391380581,
         "long": 13.747894882569092,
         "merch_lat": 5.10560387759281,
         "merch_long": 13.759692112582876,
         "times_shopped_at_merchant": 3.0943452973186067,
         "times_shopped_at_merchant_day": 0.9025900605541289,
         "times_shopped_at_merchant_month": 0.672255853298444,
         "times_shopped_at_merchant_year": 1.8653692895956446,
         "trans_day": 2.197983256528946,
         "trans_month": 3.4249538896776186,
         "unix_time": 18195081.387559593,
         "year": 0.4999996061881091,
         "zip": 26881.84596586286
        },
        {
         "_deepnote_index_column": "min",
         "amt": 1,
         "amt_month": 1,
         "amt_month_shopping_net_spend": 0,
         "amt_year": 1.02,
         "cc_num": 60416207185,
         "city_pop": 23,
         "count_month_shopping_net": 0,
         "dist_between_client_and_merch": 0.0222735133501133,
         "hour": 0,
         "is_fraud": 0,
         "lat": 20.0271,
         "long": -165.6723,
         "merch_lat": 19.027422,
         "merch_long": -166.671575,
         "times_shopped_at_merchant": 1,
         "times_shopped_at_merchant_day": 1,
         "times_shopped_at_merchant_month": 1,
         "times_shopped_at_merchant_year": 1,
         "trans_day": 0,
         "trans_month": 1,
         "unix_time": 1325376018,
         "year": 2019,
         "zip": 1257
        },
        {
         "_deepnote_index_column": "25%",
         "amt": 9.64,
         "amt_month": 1344.79,
         "amt_month_shopping_net_spend": 9.02,
         "amt_year": 17341.4225,
         "cc_num": 180042946491150,
         "city_pop": 741,
         "count_month_shopping_net": 1,
         "dist_between_client_and_merch": 55.341984398484755,
         "hour": 7,
         "is_fraud": 0,
         "lat": 34.6689,
         "long": -96.798,
         "merch_lat": 34.740122250000006,
         "merch_long": -96.89944,
         "times_shopped_at_merchant": 3,
         "times_shopped_at_merchant_day": 1,
         "times_shopped_at_merchant_month": 1,
         "times_shopped_at_merchant_year": 2,
         "trans_day": 1,
         "trans_month": 4,
         "unix_time": 1343016823.75,
         "year": 2019,
         "zip": 26237
        },
        {
         "_deepnote_index_column": "50%",
         "amt": 47.45,
         "amt_month": 3071.99,
         "amt_month_shopping_net_spend": 75.89,
         "amt_year": 37439.104999999996,
         "cc_num": 3521417320836166,
         "city_pop": 2443,
         "count_month_shopping_net": 3,
         "dist_between_client_and_merch": 78.24822737526492,
         "hour": 14,
         "is_fraud": 0,
         "lat": 39.3543,
         "long": -87.4769,
         "merch_lat": 39.368900499999995,
         "merch_long": -87.44069350000001,
         "times_shopped_at_merchant": 5,
         "times_shopped_at_merchant_day": 1,
         "times_shopped_at_merchant_month": 1,
         "times_shopped_at_merchant_year": 3,
         "trans_day": 3,
         "trans_month": 7,
         "unix_time": 1357089331,
         "year": 2020,
         "zip": 48174
        },
        {
         "_deepnote_index_column": "75%",
         "amt": 83.1,
         "amt_month": 5738.47,
         "amt_month_shopping_net_spend": 425.98,
         "amt_year": 64720.880000000005,
         "cc_num": 4642255475285942,
         "city_pop": 20328,
         "count_month_shopping_net": 7,
         "dist_between_client_and_merch": 98.47204051110535,
         "hour": 19,
         "is_fraud": 0,
         "lat": 41.9404,
         "long": -80.158,
         "merch_lat": 41.956263,
         "merch_long": -80.245108,
         "times_shopped_at_merchant": 7,
         "times_shopped_at_merchant_day": 2,
         "times_shopped_at_merchant_month": 2,
         "times_shopped_at_merchant_year": 4,
         "trans_day": 5,
         "trans_month": 10,
         "unix_time": 1374581485.25,
         "year": 2020,
         "zip": 72042
        },
        {
         "_deepnote_index_column": "max",
         "amt": 28948.9,
         "amt_month": 43261.89,
         "amt_month_shopping_net_spend": 12047.18,
         "amt_year": 219086.77,
         "cc_num": 4992346398065154000,
         "city_pop": 2906700,
         "count_month_shopping_net": 48,
         "dist_between_client_and_merch": 151.86820020102445,
         "hour": 23,
         "is_fraud": 1,
         "lat": 66.6933,
         "long": -67.9503,
         "merch_lat": 67.510267,
         "merch_long": -66.950902,
         "times_shopped_at_merchant": 28,
         "times_shopped_at_merchant_day": 9,
         "times_shopped_at_merchant_month": 9,
         "times_shopped_at_merchant_year": 17,
         "trans_day": 6,
         "trans_month": 12,
         "unix_time": 1388534374,
         "year": 2020,
         "zip": 99921
        }
       ],
       "type": "dataframe"
      },
      "text/html": [
       "<div>\n",
       "<style scoped>\n",
       "    .dataframe tbody tr th:only-of-type {\n",
       "        vertical-align: middle;\n",
       "    }\n",
       "\n",
       "    .dataframe tbody tr th {\n",
       "        vertical-align: top;\n",
       "    }\n",
       "\n",
       "    .dataframe thead th {\n",
       "        text-align: right;\n",
       "    }\n",
       "</style>\n",
       "<table border=\"1\" class=\"dataframe\">\n",
       "  <thead>\n",
       "    <tr style=\"text-align: right;\">\n",
       "      <th></th>\n",
       "      <th>cc_num</th>\n",
       "      <th>amt</th>\n",
       "      <th>zip</th>\n",
       "      <th>lat</th>\n",
       "      <th>long</th>\n",
       "      <th>city_pop</th>\n",
       "      <th>unix_time</th>\n",
       "      <th>merch_lat</th>\n",
       "      <th>merch_long</th>\n",
       "      <th>is_fraud</th>\n",
       "      <th>...</th>\n",
       "      <th>count_month_shopping_net</th>\n",
       "      <th>dist_between_client_and_merch</th>\n",
       "      <th>trans_month</th>\n",
       "      <th>trans_day</th>\n",
       "      <th>hour</th>\n",
       "      <th>year</th>\n",
       "      <th>times_shopped_at_merchant</th>\n",
       "      <th>times_shopped_at_merchant_year</th>\n",
       "      <th>times_shopped_at_merchant_month</th>\n",
       "      <th>times_shopped_at_merchant_day</th>\n",
       "    </tr>\n",
       "  </thead>\n",
       "  <tbody>\n",
       "    <tr>\n",
       "      <th>count</th>\n",
       "      <td>1.852394e+06</td>\n",
       "      <td>1.852394e+06</td>\n",
       "      <td>1.852394e+06</td>\n",
       "      <td>1.852394e+06</td>\n",
       "      <td>1.852394e+06</td>\n",
       "      <td>1.852394e+06</td>\n",
       "      <td>1.852394e+06</td>\n",
       "      <td>1.852394e+06</td>\n",
       "      <td>1.852394e+06</td>\n",
       "      <td>1.852394e+06</td>\n",
       "      <td>...</td>\n",
       "      <td>1.852394e+06</td>\n",
       "      <td>1.852394e+06</td>\n",
       "      <td>1.852394e+06</td>\n",
       "      <td>1.852394e+06</td>\n",
       "      <td>1.852394e+06</td>\n",
       "      <td>1.852394e+06</td>\n",
       "      <td>1.852394e+06</td>\n",
       "      <td>1.852394e+06</td>\n",
       "      <td>1.852394e+06</td>\n",
       "      <td>1.852394e+06</td>\n",
       "    </tr>\n",
       "    <tr>\n",
       "      <th>mean</th>\n",
       "      <td>4.173860e+17</td>\n",
       "      <td>7.006357e+01</td>\n",
       "      <td>4.881326e+04</td>\n",
       "      <td>3.853931e+01</td>\n",
       "      <td>-9.022783e+01</td>\n",
       "      <td>8.864367e+04</td>\n",
       "      <td>1.358674e+09</td>\n",
       "      <td>3.853898e+01</td>\n",
       "      <td>-9.022794e+01</td>\n",
       "      <td>5.210015e-03</td>\n",
       "      <td>...</td>\n",
       "      <td>4.567241e+00</td>\n",
       "      <td>7.610956e+01</td>\n",
       "      <td>7.152067e+00</td>\n",
       "      <td>2.967456e+00</td>\n",
       "      <td>1.280612e+01</td>\n",
       "      <td>2.019501e+03</td>\n",
       "      <td>5.298079e+00</td>\n",
       "      <td>3.150459e+00</td>\n",
       "      <td>1.389109e+00</td>\n",
       "      <td>1.655442e+00</td>\n",
       "    </tr>\n",
       "    <tr>\n",
       "      <th>std</th>\n",
       "      <td>1.309115e+18</td>\n",
       "      <td>1.592540e+02</td>\n",
       "      <td>2.688185e+04</td>\n",
       "      <td>5.071470e+00</td>\n",
       "      <td>1.374789e+01</td>\n",
       "      <td>3.014876e+05</td>\n",
       "      <td>1.819508e+07</td>\n",
       "      <td>5.105604e+00</td>\n",
       "      <td>1.375969e+01</td>\n",
       "      <td>7.199217e-02</td>\n",
       "      <td>...</td>\n",
       "      <td>4.575502e+00</td>\n",
       "      <td>2.909273e+01</td>\n",
       "      <td>3.424954e+00</td>\n",
       "      <td>2.197983e+00</td>\n",
       "      <td>6.815753e+00</td>\n",
       "      <td>4.999996e-01</td>\n",
       "      <td>3.094345e+00</td>\n",
       "      <td>1.865369e+00</td>\n",
       "      <td>6.722559e-01</td>\n",
       "      <td>9.025901e-01</td>\n",
       "    </tr>\n",
       "    <tr>\n",
       "      <th>min</th>\n",
       "      <td>6.041621e+10</td>\n",
       "      <td>1.000000e+00</td>\n",
       "      <td>1.257000e+03</td>\n",
       "      <td>2.002710e+01</td>\n",
       "      <td>-1.656723e+02</td>\n",
       "      <td>2.300000e+01</td>\n",
       "      <td>1.325376e+09</td>\n",
       "      <td>1.902742e+01</td>\n",
       "      <td>-1.666716e+02</td>\n",
       "      <td>0.000000e+00</td>\n",
       "      <td>...</td>\n",
       "      <td>0.000000e+00</td>\n",
       "      <td>2.227351e-02</td>\n",
       "      <td>1.000000e+00</td>\n",
       "      <td>0.000000e+00</td>\n",
       "      <td>0.000000e+00</td>\n",
       "      <td>2.019000e+03</td>\n",
       "      <td>1.000000e+00</td>\n",
       "      <td>1.000000e+00</td>\n",
       "      <td>1.000000e+00</td>\n",
       "      <td>1.000000e+00</td>\n",
       "    </tr>\n",
       "    <tr>\n",
       "      <th>25%</th>\n",
       "      <td>1.800429e+14</td>\n",
       "      <td>9.640000e+00</td>\n",
       "      <td>2.623700e+04</td>\n",
       "      <td>3.466890e+01</td>\n",
       "      <td>-9.679800e+01</td>\n",
       "      <td>7.410000e+02</td>\n",
       "      <td>1.343017e+09</td>\n",
       "      <td>3.474012e+01</td>\n",
       "      <td>-9.689944e+01</td>\n",
       "      <td>0.000000e+00</td>\n",
       "      <td>...</td>\n",
       "      <td>1.000000e+00</td>\n",
       "      <td>5.534198e+01</td>\n",
       "      <td>4.000000e+00</td>\n",
       "      <td>1.000000e+00</td>\n",
       "      <td>7.000000e+00</td>\n",
       "      <td>2.019000e+03</td>\n",
       "      <td>3.000000e+00</td>\n",
       "      <td>2.000000e+00</td>\n",
       "      <td>1.000000e+00</td>\n",
       "      <td>1.000000e+00</td>\n",
       "    </tr>\n",
       "    <tr>\n",
       "      <th>50%</th>\n",
       "      <td>3.521417e+15</td>\n",
       "      <td>4.745000e+01</td>\n",
       "      <td>4.817400e+04</td>\n",
       "      <td>3.935430e+01</td>\n",
       "      <td>-8.747690e+01</td>\n",
       "      <td>2.443000e+03</td>\n",
       "      <td>1.357089e+09</td>\n",
       "      <td>3.936890e+01</td>\n",
       "      <td>-8.744069e+01</td>\n",
       "      <td>0.000000e+00</td>\n",
       "      <td>...</td>\n",
       "      <td>3.000000e+00</td>\n",
       "      <td>7.824823e+01</td>\n",
       "      <td>7.000000e+00</td>\n",
       "      <td>3.000000e+00</td>\n",
       "      <td>1.400000e+01</td>\n",
       "      <td>2.020000e+03</td>\n",
       "      <td>5.000000e+00</td>\n",
       "      <td>3.000000e+00</td>\n",
       "      <td>1.000000e+00</td>\n",
       "      <td>1.000000e+00</td>\n",
       "    </tr>\n",
       "    <tr>\n",
       "      <th>75%</th>\n",
       "      <td>4.642255e+15</td>\n",
       "      <td>8.310000e+01</td>\n",
       "      <td>7.204200e+04</td>\n",
       "      <td>4.194040e+01</td>\n",
       "      <td>-8.015800e+01</td>\n",
       "      <td>2.032800e+04</td>\n",
       "      <td>1.374581e+09</td>\n",
       "      <td>4.195626e+01</td>\n",
       "      <td>-8.024511e+01</td>\n",
       "      <td>0.000000e+00</td>\n",
       "      <td>...</td>\n",
       "      <td>7.000000e+00</td>\n",
       "      <td>9.847204e+01</td>\n",
       "      <td>1.000000e+01</td>\n",
       "      <td>5.000000e+00</td>\n",
       "      <td>1.900000e+01</td>\n",
       "      <td>2.020000e+03</td>\n",
       "      <td>7.000000e+00</td>\n",
       "      <td>4.000000e+00</td>\n",
       "      <td>2.000000e+00</td>\n",
       "      <td>2.000000e+00</td>\n",
       "    </tr>\n",
       "    <tr>\n",
       "      <th>max</th>\n",
       "      <td>4.992346e+18</td>\n",
       "      <td>2.894890e+04</td>\n",
       "      <td>9.992100e+04</td>\n",
       "      <td>6.669330e+01</td>\n",
       "      <td>-6.795030e+01</td>\n",
       "      <td>2.906700e+06</td>\n",
       "      <td>1.388534e+09</td>\n",
       "      <td>6.751027e+01</td>\n",
       "      <td>-6.695090e+01</td>\n",
       "      <td>1.000000e+00</td>\n",
       "      <td>...</td>\n",
       "      <td>4.800000e+01</td>\n",
       "      <td>1.518682e+02</td>\n",
       "      <td>1.200000e+01</td>\n",
       "      <td>6.000000e+00</td>\n",
       "      <td>2.300000e+01</td>\n",
       "      <td>2.020000e+03</td>\n",
       "      <td>2.800000e+01</td>\n",
       "      <td>1.700000e+01</td>\n",
       "      <td>9.000000e+00</td>\n",
       "      <td>9.000000e+00</td>\n",
       "    </tr>\n",
       "  </tbody>\n",
       "</table>\n",
       "<p>8 rows × 23 columns</p>\n",
       "</div>"
      ],
      "text/plain": [
       "             cc_num           amt           zip           lat          long  \\\n",
       "count  1.852394e+06  1.852394e+06  1.852394e+06  1.852394e+06  1.852394e+06   \n",
       "mean   4.173860e+17  7.006357e+01  4.881326e+04  3.853931e+01 -9.022783e+01   \n",
       "std    1.309115e+18  1.592540e+02  2.688185e+04  5.071470e+00  1.374789e+01   \n",
       "min    6.041621e+10  1.000000e+00  1.257000e+03  2.002710e+01 -1.656723e+02   \n",
       "25%    1.800429e+14  9.640000e+00  2.623700e+04  3.466890e+01 -9.679800e+01   \n",
       "50%    3.521417e+15  4.745000e+01  4.817400e+04  3.935430e+01 -8.747690e+01   \n",
       "75%    4.642255e+15  8.310000e+01  7.204200e+04  4.194040e+01 -8.015800e+01   \n",
       "max    4.992346e+18  2.894890e+04  9.992100e+04  6.669330e+01 -6.795030e+01   \n",
       "\n",
       "           city_pop     unix_time     merch_lat    merch_long      is_fraud  \\\n",
       "count  1.852394e+06  1.852394e+06  1.852394e+06  1.852394e+06  1.852394e+06   \n",
       "mean   8.864367e+04  1.358674e+09  3.853898e+01 -9.022794e+01  5.210015e-03   \n",
       "std    3.014876e+05  1.819508e+07  5.105604e+00  1.375969e+01  7.199217e-02   \n",
       "min    2.300000e+01  1.325376e+09  1.902742e+01 -1.666716e+02  0.000000e+00   \n",
       "25%    7.410000e+02  1.343017e+09  3.474012e+01 -9.689944e+01  0.000000e+00   \n",
       "50%    2.443000e+03  1.357089e+09  3.936890e+01 -8.744069e+01  0.000000e+00   \n",
       "75%    2.032800e+04  1.374581e+09  4.195626e+01 -8.024511e+01  0.000000e+00   \n",
       "max    2.906700e+06  1.388534e+09  6.751027e+01 -6.695090e+01  1.000000e+00   \n",
       "\n",
       "       ...  count_month_shopping_net  dist_between_client_and_merch  \\\n",
       "count  ...              1.852394e+06                   1.852394e+06   \n",
       "mean   ...              4.567241e+00                   7.610956e+01   \n",
       "std    ...              4.575502e+00                   2.909273e+01   \n",
       "min    ...              0.000000e+00                   2.227351e-02   \n",
       "25%    ...              1.000000e+00                   5.534198e+01   \n",
       "50%    ...              3.000000e+00                   7.824823e+01   \n",
       "75%    ...              7.000000e+00                   9.847204e+01   \n",
       "max    ...              4.800000e+01                   1.518682e+02   \n",
       "\n",
       "        trans_month     trans_day          hour          year  \\\n",
       "count  1.852394e+06  1.852394e+06  1.852394e+06  1.852394e+06   \n",
       "mean   7.152067e+00  2.967456e+00  1.280612e+01  2.019501e+03   \n",
       "std    3.424954e+00  2.197983e+00  6.815753e+00  4.999996e-01   \n",
       "min    1.000000e+00  0.000000e+00  0.000000e+00  2.019000e+03   \n",
       "25%    4.000000e+00  1.000000e+00  7.000000e+00  2.019000e+03   \n",
       "50%    7.000000e+00  3.000000e+00  1.400000e+01  2.020000e+03   \n",
       "75%    1.000000e+01  5.000000e+00  1.900000e+01  2.020000e+03   \n",
       "max    1.200000e+01  6.000000e+00  2.300000e+01  2.020000e+03   \n",
       "\n",
       "       times_shopped_at_merchant  times_shopped_at_merchant_year  \\\n",
       "count               1.852394e+06                    1.852394e+06   \n",
       "mean                5.298079e+00                    3.150459e+00   \n",
       "std                 3.094345e+00                    1.865369e+00   \n",
       "min                 1.000000e+00                    1.000000e+00   \n",
       "25%                 3.000000e+00                    2.000000e+00   \n",
       "50%                 5.000000e+00                    3.000000e+00   \n",
       "75%                 7.000000e+00                    4.000000e+00   \n",
       "max                 2.800000e+01                    1.700000e+01   \n",
       "\n",
       "       times_shopped_at_merchant_month  times_shopped_at_merchant_day  \n",
       "count                     1.852394e+06                   1.852394e+06  \n",
       "mean                      1.389109e+00                   1.655442e+00  \n",
       "std                       6.722559e-01                   9.025901e-01  \n",
       "min                       1.000000e+00                   1.000000e+00  \n",
       "25%                       1.000000e+00                   1.000000e+00  \n",
       "50%                       1.000000e+00                   1.000000e+00  \n",
       "75%                       2.000000e+00                   2.000000e+00  \n",
       "max                       9.000000e+00                   9.000000e+00  \n",
       "\n",
       "[8 rows x 23 columns]"
      ]
     },
     "execution_count": 10,
     "metadata": {},
     "output_type": "execute_result"
    }
   ],
   "source": [
    "import numpy as np\n",
    "sds.describe(include=[np.number])"
   ]
  },
  {
   "cell_type": "markdown",
   "metadata": {
    "cell_id": "2a15edd024ae4e0782c2b5a16f5a18fe",
    "deepnote_app_block_visible": true,
    "deepnote_app_coordinates": {
     "h": 5,
     "w": 12,
     "x": 0,
     "y": 0
    },
    "deepnote_cell_type": "text-cell-h3",
    "formattedRanges": [],
    "is_collapsed": false,
    "tags": []
   },
   "source": [
    "### Solo categóricas - 1"
   ]
  },
  {
   "cell_type": "code",
   "execution_count": null,
   "metadata": {
    "cell_id": "905e6bbf1f164b0d9d1c6a6061b297a9",
    "deepnote_cell_type": "code",
    "execution_context_id": "46faa112-0fd6-458c-917e-2d425ca98c2c",
    "execution_millis": 7327,
    "execution_start": 1743771929244,
    "source_hash": "2b969ef4"
   },
   "outputs": [
    {
     "data": {
      "application/vnd.deepnote.dataframe.v3+json": {
       "column_count": 11,
       "columns": [
        {
         "dtype": "object",
         "name": "merchant",
         "stats": {
          "categories": [
           {
            "count": 1,
            "name": "1852394"
           },
           {
            "count": 1,
            "name": "693"
           },
           {
            "count": 2,
            "name": "2 others"
           }
          ],
          "nan_count": 0,
          "unique_count": 4
         }
        },
        {
         "dtype": "object",
         "name": "category",
         "stats": {
          "categories": [
           {
            "count": 1,
            "name": "1852394"
           },
           {
            "count": 1,
            "name": "14"
           },
           {
            "count": 2,
            "name": "2 others"
           }
          ],
          "nan_count": 0,
          "unique_count": 4
         }
        },
        {
         "dtype": "object",
         "name": "first",
         "stats": {
          "categories": [
           {
            "count": 1,
            "name": "1852394"
           },
           {
            "count": 1,
            "name": "355"
           },
           {
            "count": 2,
            "name": "2 others"
           }
          ],
          "nan_count": 0,
          "unique_count": 4
         }
        },
        {
         "dtype": "object",
         "name": "last",
         "stats": {
          "categories": [
           {
            "count": 1,
            "name": "1852394"
           },
           {
            "count": 1,
            "name": "486"
           },
           {
            "count": 2,
            "name": "2 others"
           }
          ],
          "nan_count": 0,
          "unique_count": 4
         }
        },
        {
         "dtype": "object",
         "name": "gender",
         "stats": {
          "categories": [
           {
            "count": 1,
            "name": "1852394"
           },
           {
            "count": 1,
            "name": "2"
           },
           {
            "count": 2,
            "name": "2 others"
           }
          ],
          "nan_count": 0,
          "unique_count": 4
         }
        },
        {
         "dtype": "object",
         "name": "street",
         "stats": {
          "categories": [
           {
            "count": 1,
            "name": "1852394"
           },
           {
            "count": 1,
            "name": "999"
           },
           {
            "count": 2,
            "name": "2 others"
           }
          ],
          "nan_count": 0,
          "unique_count": 4
         }
        },
        {
         "dtype": "object",
         "name": "city",
         "stats": {
          "categories": [
           {
            "count": 1,
            "name": "1852394"
           },
           {
            "count": 1,
            "name": "906"
           },
           {
            "count": 2,
            "name": "2 others"
           }
          ],
          "nan_count": 0,
          "unique_count": 4
         }
        },
        {
         "dtype": "object",
         "name": "state",
         "stats": {
          "categories": [
           {
            "count": 1,
            "name": "1852394"
           },
           {
            "count": 1,
            "name": "51"
           },
           {
            "count": 2,
            "name": "2 others"
           }
          ],
          "nan_count": 0,
          "unique_count": 4
         }
        },
        {
         "dtype": "object",
         "name": "job",
         "stats": {
          "categories": [
           {
            "count": 1,
            "name": "1852394"
           },
           {
            "count": 1,
            "name": "497"
           },
           {
            "count": 2,
            "name": "2 others"
           }
          ],
          "nan_count": 0,
          "unique_count": 4
         }
        },
        {
         "dtype": "object",
         "name": "dob",
         "stats": {
          "categories": [
           {
            "count": 1,
            "name": "1852394"
           },
           {
            "count": 1,
            "name": "984"
           },
           {
            "count": 2,
            "name": "2 others"
           }
          ],
          "nan_count": 0,
          "unique_count": 4
         }
        },
        {
         "dtype": "object",
         "name": "trans_num",
         "stats": {
          "categories": [
           {
            "count": 2,
            "name": "1852394"
           },
           {
            "count": 1,
            "name": "0b242abb623afc578575680df30655b9"
           },
           {
            "count": 1,
            "name": "1"
           }
          ],
          "nan_count": 0,
          "unique_count": 3
         }
        },
        {
         "dtype": "object",
         "name": "_deepnote_index_column"
        }
       ],
       "row_count": 4,
       "rows": [
        {
         "_deepnote_index_column": "count",
         "category": "1852394",
         "city": "1852394",
         "dob": "1852394",
         "first": "1852394",
         "gender": "1852394",
         "job": "1852394",
         "last": "1852394",
         "merchant": "1852394",
         "state": "1852394",
         "street": "1852394",
         "trans_num": "1852394"
        },
        {
         "_deepnote_index_column": "unique",
         "category": "14",
         "city": "906",
         "dob": "984",
         "first": "355",
         "gender": "2",
         "job": "497",
         "last": "486",
         "merchant": "693",
         "state": "51",
         "street": "999",
         "trans_num": "1852394"
        },
        {
         "_deepnote_index_column": "top",
         "category": "gas_transport",
         "city": "Birmingham",
         "dob": "1977-03-23",
         "first": "Christopher",
         "gender": "F",
         "job": "Film/video editor",
         "last": "Smith",
         "merchant": "fraud_Kilback LLC",
         "state": "TX",
         "street": "444 Robert Mews",
         "trans_num": "0b242abb623afc578575680df30655b9"
        },
        {
         "_deepnote_index_column": "freq",
         "category": "188029",
         "city": "8040",
         "dob": "8044",
         "first": "38112",
         "gender": "1014749",
         "job": "13898",
         "last": "40940",
         "merchant": "6262",
         "state": "135269",
         "street": "4392",
         "trans_num": "1"
        }
       ],
       "type": "dataframe"
      },
      "text/html": [
       "<div>\n",
       "<style scoped>\n",
       "    .dataframe tbody tr th:only-of-type {\n",
       "        vertical-align: middle;\n",
       "    }\n",
       "\n",
       "    .dataframe tbody tr th {\n",
       "        vertical-align: top;\n",
       "    }\n",
       "\n",
       "    .dataframe thead th {\n",
       "        text-align: right;\n",
       "    }\n",
       "</style>\n",
       "<table border=\"1\" class=\"dataframe\">\n",
       "  <thead>\n",
       "    <tr style=\"text-align: right;\">\n",
       "      <th></th>\n",
       "      <th>merchant</th>\n",
       "      <th>category</th>\n",
       "      <th>first</th>\n",
       "      <th>last</th>\n",
       "      <th>gender</th>\n",
       "      <th>street</th>\n",
       "      <th>city</th>\n",
       "      <th>state</th>\n",
       "      <th>job</th>\n",
       "      <th>dob</th>\n",
       "      <th>trans_num</th>\n",
       "    </tr>\n",
       "  </thead>\n",
       "  <tbody>\n",
       "    <tr>\n",
       "      <th>count</th>\n",
       "      <td>1852394</td>\n",
       "      <td>1852394</td>\n",
       "      <td>1852394</td>\n",
       "      <td>1852394</td>\n",
       "      <td>1852394</td>\n",
       "      <td>1852394</td>\n",
       "      <td>1852394</td>\n",
       "      <td>1852394</td>\n",
       "      <td>1852394</td>\n",
       "      <td>1852394</td>\n",
       "      <td>1852394</td>\n",
       "    </tr>\n",
       "    <tr>\n",
       "      <th>unique</th>\n",
       "      <td>693</td>\n",
       "      <td>14</td>\n",
       "      <td>355</td>\n",
       "      <td>486</td>\n",
       "      <td>2</td>\n",
       "      <td>999</td>\n",
       "      <td>906</td>\n",
       "      <td>51</td>\n",
       "      <td>497</td>\n",
       "      <td>984</td>\n",
       "      <td>1852394</td>\n",
       "    </tr>\n",
       "    <tr>\n",
       "      <th>top</th>\n",
       "      <td>fraud_Kilback LLC</td>\n",
       "      <td>gas_transport</td>\n",
       "      <td>Christopher</td>\n",
       "      <td>Smith</td>\n",
       "      <td>F</td>\n",
       "      <td>444 Robert Mews</td>\n",
       "      <td>Birmingham</td>\n",
       "      <td>TX</td>\n",
       "      <td>Film/video editor</td>\n",
       "      <td>1977-03-23</td>\n",
       "      <td>0b242abb623afc578575680df30655b9</td>\n",
       "    </tr>\n",
       "    <tr>\n",
       "      <th>freq</th>\n",
       "      <td>6262</td>\n",
       "      <td>188029</td>\n",
       "      <td>38112</td>\n",
       "      <td>40940</td>\n",
       "      <td>1014749</td>\n",
       "      <td>4392</td>\n",
       "      <td>8040</td>\n",
       "      <td>135269</td>\n",
       "      <td>13898</td>\n",
       "      <td>8044</td>\n",
       "      <td>1</td>\n",
       "    </tr>\n",
       "  </tbody>\n",
       "</table>\n",
       "</div>"
      ],
      "text/plain": [
       "                 merchant       category        first     last   gender  \\\n",
       "count             1852394        1852394      1852394  1852394  1852394   \n",
       "unique                693             14          355      486        2   \n",
       "top     fraud_Kilback LLC  gas_transport  Christopher    Smith        F   \n",
       "freq                 6262         188029        38112    40940  1014749   \n",
       "\n",
       "                 street        city    state                job         dob  \\\n",
       "count           1852394     1852394  1852394            1852394     1852394   \n",
       "unique              999         906       51                497         984   \n",
       "top     444 Robert Mews  Birmingham       TX  Film/video editor  1977-03-23   \n",
       "freq               4392        8040   135269              13898        8044   \n",
       "\n",
       "                               trans_num  \n",
       "count                            1852394  \n",
       "unique                           1852394  \n",
       "top     0b242abb623afc578575680df30655b9  \n",
       "freq                                   1  "
      ]
     },
     "execution_count": 12,
     "metadata": {},
     "output_type": "execute_result"
    }
   ],
   "source": [
    "sds.describe(include=object)"
   ]
  },
  {
   "cell_type": "markdown",
   "metadata": {
    "created_in_deepnote_cell": true,
    "deepnote_cell_type": "markdown"
   },
   "source": [
    "<a style='text-decoration:none;line-height:16px;display:flex;color:#5B5B62;padding:10px;justify-content:end;' href='https://deepnote.com?utm_source=created-in-deepnote-cell&projectId=5cfef40a-f93a-4437-bad1-b6507a19c41f' target=\"_blank\">\n",
    "<img alt='Created in deepnote.com' style='display:inline;max-height:16px;margin:0px;margin-right:7.5px;' src='data:image/svg+xml;base64,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' > </img>\n",
    "Created in <span style='font-weight:600;margin-left:4px;'>Deepnote</span></a>"
   ]
  },
  {
   "cell_type": "markdown",
   "metadata": {},
   "source": [
    "# Valores  duplicados"
   ]
  },
  {
   "cell_type": "code",
   "execution_count": 16,
   "metadata": {},
   "outputs": [
    {
     "data": {
      "text/plain": [
       "np.int64(0)"
      ]
     },
     "execution_count": 16,
     "metadata": {},
     "output_type": "execute_result"
    }
   ],
   "source": [
    "sds.duplicated().sum()\n"
   ]
  },
  {
   "cell_type": "markdown",
   "metadata": {},
   "source": [
    "# Calidad y distribución de categorías"
   ]
  },
  {
   "cell_type": "code",
   "execution_count": 18,
   "metadata": {},
   "outputs": [
    {
     "name": "stdout",
     "output_type": "stream",
     "text": [
      "merchant únicos: 693 – top5: {'fraud_Kilback LLC': 0.0033804903276516765, 'fraud_Cormier LLC': 0.0028320109004887728, 'fraud_Schumm PLC': 0.0028044789607394537, 'fraud_Kuhn LLC': 0.0027159448799769378, 'fraud_Boyer PLC': 0.0026986699373891298} \n",
      "\n",
      "category únicos: 14 – top5: {'gas_transport': 0.10150594312009216, 'grocery_pos': 0.09511529404651495, 'home': 0.0947206695767747, 'shopping_pos': 0.08986371149982131, 'kids_pets': 0.08730701999682573} \n",
      "\n",
      "job únicos: 497 – top5: {'Film/video editor': 0.007502723502667359, 'Exhibition designer': 0.00710809903292712, 'Surveyor, land/geomatics': 0.006713474563186881, 'Naval architect': 0.006712394879275143, 'Materials engineer': 0.0063220891451818565} \n",
      "\n",
      "city únicos: 906 – top5: {'Birmingham': 0.004340329325186758, 'San Antonio': 0.003947324381314126, 'Utica': 0.00394570485544652, 'Phoenix': 0.003939226751976091, 'Meridian': 0.003934908016329139} \n",
      "\n",
      "state únicos: 51 – top5: {'TX': 0.07302388152844373, 'NY': 0.06446738652792008, 'PA': 0.061635375627431314, 'CA': 0.04345457823767514, 'OH': 0.03596804999368385} \n",
      "\n",
      "zip únicos: 985 – top5: {82514: 0.002761831446225803, 73754: 0.002761831446225803, 48088: 0.002761291604269934, 34112: 0.002757512710578851, 61454: 0.0023709858701766473} \n",
      "\n"
     ]
    }
   ],
   "source": [
    "for col in ['merchant','category','job','city','state','zip']:\n",
    "    vc = sds[col].value_counts(normalize=True)\n",
    "    print(col, \"únicos:\", vc.size, \"– top5:\", vc.iloc[:5].to_dict(), \"\\n\")\n"
   ]
  },
  {
   "cell_type": "markdown",
   "metadata": {},
   "source": [
    "# Tablas cruzadas"
   ]
  },
  {
   "cell_type": "code",
   "execution_count": 19,
   "metadata": {},
   "outputs": [
    {
     "data": {
      "text/html": [
       "<div>\n",
       "<style scoped>\n",
       "    .dataframe tbody tr th:only-of-type {\n",
       "        vertical-align: middle;\n",
       "    }\n",
       "\n",
       "    .dataframe tbody tr th {\n",
       "        vertical-align: top;\n",
       "    }\n",
       "\n",
       "    .dataframe thead th {\n",
       "        text-align: right;\n",
       "    }\n",
       "</style>\n",
       "<table border=\"1\" class=\"dataframe\">\n",
       "  <thead>\n",
       "    <tr style=\"text-align: right;\">\n",
       "      <th>is_fraud</th>\n",
       "      <th>0</th>\n",
       "      <th>1</th>\n",
       "    </tr>\n",
       "    <tr>\n",
       "      <th>category</th>\n",
       "      <th></th>\n",
       "      <th></th>\n",
       "    </tr>\n",
       "  </thead>\n",
       "  <tbody>\n",
       "    <tr>\n",
       "      <th>shopping_net</th>\n",
       "      <td>0.984073</td>\n",
       "      <td>0.015927</td>\n",
       "    </tr>\n",
       "    <tr>\n",
       "      <th>misc_net</th>\n",
       "      <td>0.986961</td>\n",
       "      <td>0.013039</td>\n",
       "    </tr>\n",
       "    <tr>\n",
       "      <th>grocery_pos</th>\n",
       "      <td>0.987355</td>\n",
       "      <td>0.012645</td>\n",
       "    </tr>\n",
       "    <tr>\n",
       "      <th>shopping_pos</th>\n",
       "      <td>0.993656</td>\n",
       "      <td>0.006344</td>\n",
       "    </tr>\n",
       "    <tr>\n",
       "      <th>gas_transport</th>\n",
       "      <td>0.995894</td>\n",
       "      <td>0.004106</td>\n",
       "    </tr>\n",
       "    <tr>\n",
       "      <th>misc_pos</th>\n",
       "      <td>0.997181</td>\n",
       "      <td>0.002819</td>\n",
       "    </tr>\n",
       "    <tr>\n",
       "      <th>grocery_net</th>\n",
       "      <td>0.997303</td>\n",
       "      <td>0.002697</td>\n",
       "    </tr>\n",
       "    <tr>\n",
       "      <th>travel</th>\n",
       "      <td>0.997308</td>\n",
       "      <td>0.002692</td>\n",
       "    </tr>\n",
       "    <tr>\n",
       "      <th>personal_care</th>\n",
       "      <td>0.997771</td>\n",
       "      <td>0.002229</td>\n",
       "    </tr>\n",
       "    <tr>\n",
       "      <th>entertainment</th>\n",
       "      <td>0.997823</td>\n",
       "      <td>0.002177</td>\n",
       "    </tr>\n",
       "    <tr>\n",
       "      <th>kids_pets</th>\n",
       "      <td>0.998120</td>\n",
       "      <td>0.001880</td>\n",
       "    </tr>\n",
       "    <tr>\n",
       "      <th>food_dining</th>\n",
       "      <td>0.998432</td>\n",
       "      <td>0.001568</td>\n",
       "    </tr>\n",
       "    <tr>\n",
       "      <th>home</th>\n",
       "      <td>0.998490</td>\n",
       "      <td>0.001510</td>\n",
       "    </tr>\n",
       "    <tr>\n",
       "      <th>health_fitness</th>\n",
       "      <td>0.998490</td>\n",
       "      <td>0.001510</td>\n",
       "    </tr>\n",
       "  </tbody>\n",
       "</table>\n",
       "</div>"
      ],
      "text/plain": [
       "is_fraud               0         1\n",
       "category                          \n",
       "shopping_net    0.984073  0.015927\n",
       "misc_net        0.986961  0.013039\n",
       "grocery_pos     0.987355  0.012645\n",
       "shopping_pos    0.993656  0.006344\n",
       "gas_transport   0.995894  0.004106\n",
       "misc_pos        0.997181  0.002819\n",
       "grocery_net     0.997303  0.002697\n",
       "travel          0.997308  0.002692\n",
       "personal_care   0.997771  0.002229\n",
       "entertainment   0.997823  0.002177\n",
       "kids_pets       0.998120  0.001880\n",
       "food_dining     0.998432  0.001568\n",
       "home            0.998490  0.001510\n",
       "health_fitness  0.998490  0.001510"
      ]
     },
     "execution_count": 19,
     "metadata": {},
     "output_type": "execute_result"
    }
   ],
   "source": [
    "pd.crosstab(sds.category, sds.is_fraud, normalize='index').sort_values(1, ascending=False)\n"
   ]
  },
  {
   "cell_type": "markdown",
   "metadata": {},
   "source": [
    "# Análisi geoespacial"
   ]
  },
  {
   "cell_type": "code",
   "execution_count": 20,
   "metadata": {},
   "outputs": [
    {
     "data": {
      "text/plain": [
       "<Axes: ylabel='dist_bin'>"
      ]
     },
     "execution_count": 20,
     "metadata": {},
     "output_type": "execute_result"
    },
    {
     "data": {
      "image/png": "[encoded data removed]",
      "text/plain": [
       "<Figure size 640x480 with 1 Axes>"
      ]
     },
     "metadata": {},
     "output_type": "display_data"
    }
   ],
   "source": [
    "sds['dist_bin'] = pd.qcut(sds.dist_between_client_and_merch, 10)\n",
    "pd.crosstab(sds.dist_bin, sds.is_fraud, normalize='index')[1].plot.barh()\n"
   ]
  },
  {
   "cell_type": "markdown",
   "metadata": {},
   "source": [
    "# Análisis temporal\n"
   ]
  },
  {
   "cell_type": "code",
   "execution_count": 23,
   "metadata": {},
   "outputs": [
    {
     "data": {
      "text/plain": [
       "<Axes: xlabel='is_weekend'>"
      ]
     },
     "execution_count": 23,
     "metadata": {},
     "output_type": "execute_result"
    },
    {
     "data": {
      "image/png": "[encoded data removed]",
      "text/plain": [
       "<Figure size 640x480 with 1 Axes>"
      ]
     },
     "metadata": {},
     "output_type": "display_data"
    }
   ],
   "source": [
    "\n",
    "sds['date'] = pd.to_datetime(sds['unix_time'], unit='s')\n",
    "sds['weekday'] = sds['date'].dt.weekday\n",
    "sds['is_weekend'] = sds['weekday'].isin([5, 6])\n",
    "\n",
    "\n",
    "pd.crosstab(sds['is_weekend'], sds['is_fraud'], normalize='index')[1].plot.bar()\n"
   ]
  },
  {
   "cell_type": "code",
   "execution_count": 24,
   "metadata": {},
   "outputs": [
    {
     "data": {
      "text/plain": [
       "<Axes: xlabel='is_weekend'>"
      ]
     },
     "execution_count": 24,
     "metadata": {},
     "output_type": "execute_result"
    },
    {
     "data": {
      "image/png": "[encoded data removed]",
      "text/plain": [
       "<Figure size 640x480 with 1 Axes>"
      ]
     },
     "metadata": {},
     "output_type": "display_data"
    }
   ],
   "source": [
    "sds['is_weekend'] = sds['weekday'].isin([5,6])\n",
    "pd.crosstab(sds.is_weekend, sds.is_fraud, normalize='index')[1].plot.bar()\n"
   ]
  },
  {
   "cell_type": "markdown",
   "metadata": {},
   "source": [
    "# AMT por clase"
   ]
  },
  {
   "cell_type": "code",
   "execution_count": 32,
   "metadata": {},
   "outputs": [
    {
     "data": {
      "image/png": "[encoded data removed]",
      "text/plain": [
       "<Figure size 1200x400 with 2 Axes>"
      ]
     },
     "metadata": {},
     "output_type": "display_data"
    }
   ],
   "source": [
    "# Histograma y boxplot de amt por clase\n",
    "import matplotlib.pyplot as plt\n",
    "import seaborn as sns\n",
    "\n",
    "fig, axes = plt.subplots(1, 2, figsize=(12,4))\n",
    "sns.histplot(sds['amt'], bins=50, ax=axes[0]).set_title(\"Histograma de amt\")\n",
    "sns.boxplot(x='is_fraud', y='amt', data=df, ax=axes[1]).set_title(\"Boxplot de amt por clase\")\n",
    "plt.tight_layout()\n"
   ]
  },
  {
   "cell_type": "markdown",
   "metadata": {},
   "source": [
    "### Distribución de montos de transacción (`amt`) en escala logarítmica\n"
   ]
  },
  {
   "cell_type": "code",
   "execution_count": 33,
   "metadata": {},
   "outputs": [
    {
     "data": {
      "text/plain": [
       "Text(0, 0.5, 'Count')"
      ]
     },
     "execution_count": 33,
     "metadata": {},
     "output_type": "execute_result"
    },
    {
     "data": {
      "image/png": "[encoded data removed]",
      "text/plain": [
       "<Figure size 600x400 with 1 Axes>"
      ]
     },
     "metadata": {},
     "output_type": "display_data"
    }
   ],
   "source": [
    "\n",
    "\n",
    "plt.figure(figsize=(6,4))\n",
    "sns.histplot(sds['amt'], bins=50, log_scale=True)\n",
    "plt.title(\"Histograma de amt (eje X log)\")\n",
    "plt.xlabel(\"amt\")\n",
    "plt.ylabel(\"Count\")\n"
   ]
  },
  {
   "cell_type": "code",
   "execution_count": 34,
   "metadata": {},
   "outputs": [
    {
     "data": {
      "text/plain": [
       "Text(0, 0.5, 'amt (log scale)')"
      ]
     },
     "execution_count": 34,
     "metadata": {},
     "output_type": "execute_result"
    },
    {
     "data": {
      "image/png": "[encoded data removed]",
      "text/plain": [
       "<Figure size 600x400 with 1 Axes>"
      ]
     },
     "metadata": {},
     "output_type": "display_data"
    }
   ],
   "source": [
    "plt.figure(figsize=(6,4))\n",
    "sns.boxplot(x='is_fraud', y='amt', data=sds)\n",
    "plt.yscale('log')\n",
    "plt.title(\"Boxplot de amt por clase (eje Y log)\")\n",
    "plt.xlabel(\"is_fraud\")\n",
    "plt.ylabel(\"amt (log scale)\")\n"
   ]
  },
  {
   "cell_type": "code",
   "execution_count": 35,
   "metadata": {},
   "outputs": [
    {
     "data": {
      "image/png": "[encoded data removed]",
      "text/plain": [
       "<Figure size 1200x400 with 2 Axes>"
      ]
     },
     "metadata": {},
     "output_type": "display_data"
    }
   ],
   "source": [
    "fig, axes = plt.subplots(1, 2, figsize=(12,4))\n",
    "sns.histplot(sds['amt_month'], bins=40, ax=axes[0])\n",
    "axes[0].set_title(\"Histograma de amt_month\")\n",
    "axes[0].set_xlabel(\"amt_month\")\n",
    "sns.histplot(sds['amt_year'], bins=40, ax=axes[1])\n",
    "axes[1].set_title(\"Histograma de amt_year\")\n",
    "axes[1].set_xlabel(\"amt_year\")\n",
    "plt.tight_layout()\n"
   ]
  },
  {
   "cell_type": "code",
   "execution_count": 36,
   "metadata": {},
   "outputs": [
    {
     "data": {
      "image/png": "[encoded data removed]",
      "text/plain": [
       "<Figure size 600x400 with 1 Axes>"
      ]
     },
     "metadata": {},
     "output_type": "display_data"
    }
   ],
   "source": [
    "plt.figure(figsize=(6,4))\n",
    "sns.boxplot(x='is_fraud', y='amt_month', data=sds)\n",
    "plt.title(\"Boxplot de amt_month por clase\")\n",
    "plt.xlabel(\"is_fraud\")\n",
    "plt.ylabel(\"amt_month\")\n",
    "plt.yscale('log') \n"
   ]
  },
  {
   "cell_type": "markdown",
   "metadata": {},
   "source": [
    " Tasa de fraude vs. número de compras al mismo merchant"
   ]
  },
  {
   "cell_type": "code",
   "execution_count": 37,
   "metadata": {},
   "outputs": [
    {
     "name": "stderr",
     "output_type": "stream",
     "text": [
      "C:\\Users\\marce\\AppData\\Local\\Temp\\ipykernel_34672\\589676938.py:5: FutureWarning: \n",
      "\n",
      "Passing `palette` without assigning `hue` is deprecated and will be removed in v0.14.0. Assign the `x` variable to `hue` and set `legend=False` for the same effect.\n",
      "\n",
      "  sns.barplot(x='times_shopped_at_merchant', y='is_fraud', data=freq, palette='viridis')\n"
     ]
    },
    {
     "data": {
      "text/plain": [
       "Text(0, 0.5, 'Tasa de fraude')"
      ]
     },
     "execution_count": 37,
     "metadata": {},
     "output_type": "execute_result"
    },
    {
     "data": {
      "image/png": "[encoded data removed]",
      "text/plain": [
       "<Figure size 600x400 with 1 Axes>"
      ]
     },
     "metadata": {},
     "output_type": "display_data"
    }
   ],
   "source": [
    "\n",
    "\n",
    "freq = sds.groupby('times_shopped_at_merchant')['is_fraud'].mean().reset_index()\n",
    "plt.figure(figsize=(6,4))\n",
    "sns.barplot(x='times_shopped_at_merchant', y='is_fraud', data=freq, palette='viridis')\n",
    "plt.title(\"Tasa de fraude vs. veces que compró en el mismo merchant\")\n",
    "plt.xlabel(\"times_shopped_at_merchant\")\n",
    "plt.ylabel(\"Tasa de fraude\")\n"
   ]
  },
  {
   "cell_type": "markdown",
   "metadata": {},
   "source": [
    "# Heatmap de tasa de fraude por hora y día de la semana"
   ]
  },
  {
   "cell_type": "code",
   "execution_count": 39,
   "metadata": {},
   "outputs": [
    {
     "data": {
      "image/png": "[encoded data removed]",
      "text/plain": [
       "<Figure size 800x500 with 2 Axes>"
      ]
     },
     "metadata": {},
     "output_type": "display_data"
    }
   ],
   "source": [
    "\n",
    "\n",
    "pivot = sds.pivot_table(\n",
    "    index='hour',\n",
    "    columns='weekday',\n",
    "    values='is_fraud',\n",
    "    aggfunc='mean'\n",
    ")\n",
    "\n",
    "plt.figure(figsize=(8,5))\n",
    "sns.heatmap(\n",
    "    pivot,\n",
    "    annot=True,\n",
    "    fmt=\".3f\",\n",
    "    cmap=\"YlGnBu\",\n",
    "    cbar_kws={'label': 'Tasa de fraude'}\n",
    ")\n",
    "plt.title(\"Tasa de fraude por hora y día de la semana\")\n",
    "plt.xlabel(\"Día de la semana (0=Lun … 6=Dom)\")\n",
    "plt.ylabel(\"Hora del día\")\n",
    "plt.show()\n"
   ]
  }
 ],
 "metadata": {
  "deepnote_app_layout": "powerful-article",
  "deepnote_notebook_id": "de738b9cfdb94e3c8e35246d58e39ba6",
  "kernelspec": {
   "display_name": "Python 3",
   "language": "python",
   "name": "python3"
  },
  "language_info": {
   "codemirror_mode": {
    "name": "ipython",
    "version": 3
   },
   "file_extension": ".py",
   "mimetype": "text/x-python",
   "name": "python",
   "nbconvert_exporter": "python",
   "pygments_lexer": "ipython3",
   "version": "3.11.9"
  }
 },
 "nbformat": 4,
 "nbformat_minor": 0
}
